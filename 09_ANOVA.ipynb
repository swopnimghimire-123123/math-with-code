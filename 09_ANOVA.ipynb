{
  "nbformat": 4,
  "nbformat_minor": 0,
  "metadata": {
    "colab": {
      "provenance": [],
      "authorship_tag": "ABX9TyPbYc3zNpUOTcCTyCGSba8x",
      "include_colab_link": true
    },
    "kernelspec": {
      "name": "python3",
      "display_name": "Python 3"
    },
    "language_info": {
      "name": "python"
    }
  },
  "cells": [
    {
      "cell_type": "markdown",
      "metadata": {
        "id": "view-in-github",
        "colab_type": "text"
      },
      "source": [
        "<a href=\"https://colab.research.google.com/github/swopnimghimire-123123/Maths_For_ML/blob/main/09_ANOVA.ipynb\" target=\"_parent\"><img src=\"https://colab.research.google.com/assets/colab-badge.svg\" alt=\"Open In Colab\"/></a>"
      ]
    },
    {
      "cell_type": "code",
      "execution_count": null,
      "metadata": {
        "id": "PLYC6K0W9fej"
      },
      "outputs": [],
      "source": []
    },
    {
      "cell_type": "markdown",
      "metadata": {
        "id": "e2303fcd"
      },
      "source": [
        "# Notebook 9: ANOVA (Analysis of Variance)\n",
        "### 1. Introduction\n",
        "\n",
        "ANOVA is used when you want to compare the means of 3 or more groups.\n",
        "\n",
        "Instead of running multiple t-tests (which increases error), ANOVA gives one test for overall difference.\n",
        "\n",
        "Example: Comparing exam scores across 3 different teaching methods."
      ]
    },
    {
      "cell_type": "markdown",
      "metadata": {
        "id": "1de911df"
      },
      "source": [
        "## 2. Theory\n",
        "\n",
        "**Null Hypothesis (H₀):** All group means are equal.\n",
        "\n",
        "**Alternative Hypothesis (H₁):** At least one group mean is different.\n",
        "\n",
        "**Key idea:**\n",
        "\n",
        "ANOVA looks at the ratio of between-group variance to within-group variance.\n",
        "\n",
        "Test statistic = F-value.\n",
        "\n",
        "Larger F means greater chance that groups differ.\n",
        "\n",
        "**Formula (conceptual):**\n",
        "\n",
        "$F = \\frac{\\text{Variance between groups}}{\\text{Variance within groups}}$"
      ]
    },
    {
      "cell_type": "code",
      "source": [
        "import numpy as np\n",
        "import pandas as pd\n",
        "from scipy import stats\n",
        "\n",
        "# Example : Exam score from 3 teaching method\n",
        "method_A = [85, 89, 88, 75, 90]\n",
        "method_B = [78, 81, 74, 77, 80]\n",
        "method_C = [92, 95, 88, 91, 94]\n",
        "\n",
        "# Perform one-way ANOVA\n",
        "f_stat, p_value = stats.f_oneway(method_A, method_B, method_C)\n",
        "\n",
        "# Print the results\n",
        "print(\"F-statistic:\", f_stat)\n",
        "print(\"P-value:\", p_value)"
      ],
      "metadata": {
        "colab": {
          "base_uri": "https://localhost:8080/"
        },
        "id": "giOBQTF49_l8",
        "outputId": "85f6fa06-dfa9-4d06-fa67-d246a9f985a7"
      },
      "execution_count": null,
      "outputs": [
        {
          "output_type": "stream",
          "name": "stdout",
          "text": [
            "F-statistic: 14.06883365200765\n",
            "P-value: 0.0007141257666666541\n"
          ]
        }
      ]
    },
    {
      "cell_type": "markdown",
      "metadata": {
        "id": "980e9bdb"
      },
      "source": [
        "The results of the ANOVA test indicate whether there is a statistically significant difference between the means of the groups you are comparing.\n",
        "\n",
        "*   **F-statistic:** This is the test statistic. A larger F-statistic suggests that the variation between the groups is larger than the variation within the groups. In your case, an F-statistic of 14.07 is relatively high.\n",
        "*   **P-value:** This is the probability of observing an F-statistic as extreme as, or more extreme than, the one calculated, assuming the null hypothesis (all group means are equal) is true. A small p-value (typically less than 0.05) suggests that you should reject the null hypothesis. Your p-value of 0.000714 is very small, indicating strong evidence against the null hypothesis.\n",
        "\n",
        "**Conclusion:** With a p-value of 0.000714 (which is much less than 0.05), you can reject the null hypothesis. This means there is a statistically significant difference in the mean exam scores among the three teaching methods."
      ]
    },
    {
      "cell_type": "markdown",
      "metadata": {
        "id": "e0025a7b"
      },
      "source": [
        "## 4. Practice Problems\n",
        "\n",
        "Create datasets for 4 different diets and compare weight loss.\n",
        "\n",
        "Test if the average daily screen time differs between 3 age groups (teen, adult, senior).\n",
        "\n",
        "Use real or simulated data and try stats.f_oneway()."
      ]
    },
    {
      "cell_type": "code",
      "metadata": {
        "colab": {
          "base_uri": "https://localhost:8080/"
        },
        "id": "b3f04baf",
        "outputId": "89b0742e-c0ba-4f12-e90f-686f324adc25"
      },
      "source": [
        "import numpy as np\n",
        "\n",
        "# Simulate weight loss data for 4 diets\n",
        "# Assuming some differences in means and a bit of variation\n",
        "np.random.seed(42) # for reproducibility\n",
        "\n",
        "diet_A_loss = np.random.normal(loc=5, scale=2, size=20) # Average 5 lbs loss\n",
        "diet_B_loss = np.random.normal(loc=7, scale=2.5, size=20) # Average 7 lbs loss\n",
        "diet_C_loss = np.random.normal(loc=6, scale=2, size=20) # Average 6 lbs loss\n",
        "diet_D_loss = np.random.normal(loc=9, scale=3, size=20) # Average 9 lbs loss\n",
        "\n",
        "print(\"Simulated Weight Loss Data:\")\n",
        "print(\"Diet A:\", diet_A_loss)\n",
        "print(\"Diet B:\", diet_B_loss)\n",
        "print(\"Diet C:\", diet_C_loss)\n",
        "print(\"Diet D:\", diet_D_loss)"
      ],
      "execution_count": null,
      "outputs": [
        {
          "output_type": "stream",
          "name": "stdout",
          "text": [
            "Simulated Weight Loss Data:\n",
            "Diet A: [5.99342831 4.7234714  6.29537708 8.04605971 4.53169325 4.53172609\n",
            " 8.15842563 6.53486946 4.06105123 6.08512009 4.07316461 4.06854049\n",
            " 5.48392454 1.17343951 1.55016433 3.87542494 2.97433776 5.62849467\n",
            " 3.18395185 2.1753926 ]\n",
            "Diet B: [10.66412192  6.43555925  7.16882051  3.43812953  5.63904319  7.27730647\n",
            "  4.12251606  7.93924505  5.49840328  6.27076563  5.49573347 11.63069546\n",
            "  6.96625694  4.35572268  9.05636228  3.94789088  7.52215899  2.10082469\n",
            "  3.67953488  7.49215309]\n",
            "Diet C: [7.47693316 6.34273656 5.76870344 5.39779261 3.04295602 4.56031158\n",
            " 5.07872246 8.11424445 6.68723658 2.47391969 6.64816794 5.22983544\n",
            " 4.646156   7.22335258 8.06199904 7.86256024 4.32156495 5.38157525\n",
            " 6.66252686 7.95109025]\n",
            "Diet D: [ 7.56247729  8.44302307  5.68099508  5.41138013 11.43757747 13.06872009\n",
            "  8.78396964 12.01059869 10.08490808  7.06464074 10.08418682 13.6141097\n",
            "  8.89252188 13.69393097  1.14076469 11.46570751  9.2611412   8.10297795\n",
            "  9.27528233  3.03729326]\n"
          ]
        }
      ]
    },
    {
      "cell_type": "code",
      "metadata": {
        "colab": {
          "base_uri": "https://localhost:8080/"
        },
        "id": "2f8894db",
        "outputId": "c70756a0-feea-471f-8c99-5317c6071dd2"
      },
      "source": [
        "from scipy import stats\n",
        "\n",
        "# Perform one-way ANOVA on the diet data\n",
        "f_stat_diet, p_value_diet = stats.f_oneway(diet_A_loss, diet_B_loss, diet_C_loss, diet_D_loss)\n",
        "\n",
        "# Print the results\n",
        "print(\"ANOVA results for Diet and Weight Loss:\")\n",
        "print(\"F-statistic:\", f_stat_diet)\n",
        "print(\"P-value:\", p_value_diet)"
      ],
      "execution_count": null,
      "outputs": [
        {
          "output_type": "stream",
          "name": "stdout",
          "text": [
            "ANOVA results for Diet and Weight Loss:\n",
            "F-statistic: 10.85242391762891\n",
            "P-value: 5.1693218189125e-06\n"
          ]
        }
      ]
    },
    {
      "cell_type": "markdown",
      "metadata": {
        "id": "38a25a01"
      },
      "source": [
        "## 5. Conclusion\n",
        "\n",
        "ANOVA tests if means across groups differ significantly.\n",
        "\n",
        "If p-value < 0.05 → reject H₀ → at least one group is different.\n",
        "\n",
        "If p-value > 0.05 → fail to reject H₀ → no evidence of difference.\n",
        "\n",
        "Used in medicine, education, A/B testing, etc."
      ]
    }
  ]
}