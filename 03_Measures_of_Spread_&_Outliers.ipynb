{
  "nbformat": 4,
  "nbformat_minor": 0,
  "metadata": {
    "colab": {
      "provenance": [],
      "authorship_tag": "ABX9TyO6IzLdplH3jE3tqmR+pvCX",
      "include_colab_link": true
    },
    "kernelspec": {
      "name": "python3",
      "display_name": "Python 3"
    },
    "language_info": {
      "name": "python"
    }
  },
  "cells": [
    {
      "cell_type": "markdown",
      "metadata": {
        "id": "view-in-github",
        "colab_type": "text"
      },
      "source": [
        "<a href=\"https://colab.research.google.com/github/swopnimghimire-123123/Maths_For_ML/blob/main/03_Measures_of_Spread_%26_Outliers.ipynb\" target=\"_parent\"><img src=\"https://colab.research.google.com/assets/colab-badge.svg\" alt=\"Open In Colab\"/></a>"
      ]
    },
    {
      "cell_type": "markdown",
      "metadata": {
        "id": "593ac5ed"
      },
      "source": [
        "# Notebook 3: Measures of Spread & Outliers\n",
        "\n",
        "***\n",
        "\n",
        "## 1. Introduction\n",
        "So far we have studied central tendency (mean, median, mode).\n",
        "But a single “center” value is not enough — we also need to know how **spread out** the data is.\n",
        "\n",
        "**In this notebook, we will cover:**\n",
        "\n",
        "- Range & Interquartile Range (IQR)\n",
        "- Variance & Standard Deviation\n",
        "- Detecting Outliers (using IQR & z-scores)\n",
        "- Visualizing spread with boxplots\n",
        "\n",
        "**Why it matters in ML:**\n",
        "\n",
        "- Standard deviation measures variability, which is critical for gradient descent and optimization.\n",
        "- Outliers can heavily influence models and must be detected or handled.\n",
        "\n",
        "***\n",
        "\n",
        "## 2. Theory\n",
        "\n",
        "Let's dive into the theoretical concepts behind measuring data spread and identifying outliers.\n",
        "\n",
        "### 2.1 Range\n",
        "\n",
        "The range is the simplest measure of spread, representing the difference between the maximum and minimum values in a dataset.\n",
        "\n",
        "\\[\n",
        "Range = Max - Min\n",
        "\\]\n",
        "\n",
        "### 2.2 Interquartile Range (IQR)\n",
        "\n",
        "The IQR focuses on the spread of the middle 50% of the data. It is calculated as the difference between the third quartile (Q3) and the first quartile (Q1).\n",
        "\n",
        "- IQR = Q3 – Q1 (spread of middle 50% of data).\n",
        "\n",
        "### 2.3 Variance & Standard Deviation\n",
        "\n",
        "Variance and standard deviation are more robust measures of spread that consider how each data point deviates from the mean.\n",
        "\n",
        "**Variance** measures the average of the squared differences from the mean: $Variance = \\frac{\\sum (x_i - \\bar{x})^2}{n}$\n",
        "\n",
        "**Standard Deviation** is the square root of the variance. It provides a measure of the typical distance of data points from the mean and is in the same units as the original data:\n",
        "\n",
        "\\[\n",
        "Standard\\ Deviation = \\sqrt{Variance}\n",
        "\\]\n",
        "\n",
        "### 2.4 Outliers\n",
        "\n",
        "Outliers are data points that are significantly different from other data points in a dataset. Identifying and handling outliers is crucial as they can skew statistical analyses and machine learning models.\n",
        "\n",
        "- **IQR Rule:** A point is considered an outlier if it falls below Q1 minus 1.5 times the IQR or above Q3 plus 1.5 times the IQR.\n",
        "\n",
        "\\[\n",
        "x < Q1 - 1.5 \\times IQR \\quad \\text{or} \\quad x > Q3 + 1.5 \\times IQR\n",
        "\\]\n",
        "\n",
        "***\n",
        "\n",
        "## 3. Code Demonstration"
      ]
    },
    {
      "cell_type": "code",
      "source": [
        "import numpy as np\n",
        "import pandas as pd\n",
        "import matplotlib.pyplot as plt\n",
        "from scipy import stats\n",
        "\n",
        "# Sample dataset: Exam scores\n",
        "np.random.seed(42)\n",
        "scores = np.append(np.random.normal(70, 10, 50),[20,95]) # Added outliers\n",
        "df = pd.DataFrame({'Scores': scores})\n",
        "df.head()"
      ],
      "metadata": {
        "colab": {
          "base_uri": "https://localhost:8080/",
          "height": 206
        },
        "id": "OQSKeuYzQQz9",
        "outputId": "50e16ed6-df6c-43f8-8a6e-b02e60e51ac3"
      },
      "execution_count": null,
      "outputs": [
        {
          "output_type": "execute_result",
          "data": {
            "text/plain": [
              "      Scores\n",
              "0  74.967142\n",
              "1  68.617357\n",
              "2  76.476885\n",
              "3  85.230299\n",
              "4  67.658466"
            ],
            "text/html": [
              "\n",
              "  <div id=\"df-ca77803c-03bf-4edf-a9c1-1b7a6a0551fa\" class=\"colab-df-container\">\n",
              "    <div>\n",
              "<style scoped>\n",
              "    .dataframe tbody tr th:only-of-type {\n",
              "        vertical-align: middle;\n",
              "    }\n",
              "\n",
              "    .dataframe tbody tr th {\n",
              "        vertical-align: top;\n",
              "    }\n",
              "\n",
              "    .dataframe thead th {\n",
              "        text-align: right;\n",
              "    }\n",
              "</style>\n",
              "<table border=\"1\" class=\"dataframe\">\n",
              "  <thead>\n",
              "    <tr style=\"text-align: right;\">\n",
              "      <th></th>\n",
              "      <th>Scores</th>\n",
              "    </tr>\n",
              "  </thead>\n",
              "  <tbody>\n",
              "    <tr>\n",
              "      <th>0</th>\n",
              "      <td>74.967142</td>\n",
              "    </tr>\n",
              "    <tr>\n",
              "      <th>1</th>\n",
              "      <td>68.617357</td>\n",
              "    </tr>\n",
              "    <tr>\n",
              "      <th>2</th>\n",
              "      <td>76.476885</td>\n",
              "    </tr>\n",
              "    <tr>\n",
              "      <th>3</th>\n",
              "      <td>85.230299</td>\n",
              "    </tr>\n",
              "    <tr>\n",
              "      <th>4</th>\n",
              "      <td>67.658466</td>\n",
              "    </tr>\n",
              "  </tbody>\n",
              "</table>\n",
              "</div>\n",
              "    <div class=\"colab-df-buttons\">\n",
              "\n",
              "  <div class=\"colab-df-container\">\n",
              "    <button class=\"colab-df-convert\" onclick=\"convertToInteractive('df-ca77803c-03bf-4edf-a9c1-1b7a6a0551fa')\"\n",
              "            title=\"Convert this dataframe to an interactive table.\"\n",
              "            style=\"display:none;\">\n",
              "\n",
              "  <svg xmlns=\"http://www.w3.org/2000/svg\" height=\"24px\" viewBox=\"0 -960 960 960\">\n",
              "    <path d=\"M120-120v-720h720v720H120Zm60-500h600v-160H180v160Zm220 220h160v-160H400v160Zm0 220h160v-160H400v160ZM180-400h160v-160H180v160Zm440 0h160v-160H620v160ZM180-180h160v-160H180v160Zm440 0h160v-160H620v160Z\"/>\n",
              "  </svg>\n",
              "    </button>\n",
              "\n",
              "  <style>\n",
              "    .colab-df-container {\n",
              "      display:flex;\n",
              "      gap: 12px;\n",
              "    }\n",
              "\n",
              "    .colab-df-convert {\n",
              "      background-color: #E8F0FE;\n",
              "      border: none;\n",
              "      border-radius: 50%;\n",
              "      cursor: pointer;\n",
              "      display: none;\n",
              "      fill: #1967D2;\n",
              "      height: 32px;\n",
              "      padding: 0 0 0 0;\n",
              "      width: 32px;\n",
              "    }\n",
              "\n",
              "    .colab-df-convert:hover {\n",
              "      background-color: #E2EBFA;\n",
              "      box-shadow: 0px 1px 2px rgba(60, 64, 67, 0.3), 0px 1px 3px 1px rgba(60, 64, 67, 0.15);\n",
              "      fill: #174EA6;\n",
              "    }\n",
              "\n",
              "    .colab-df-buttons div {\n",
              "      margin-bottom: 4px;\n",
              "    }\n",
              "\n",
              "    [theme=dark] .colab-df-convert {\n",
              "      background-color: #3B4455;\n",
              "      fill: #D2E3FC;\n",
              "    }\n",
              "\n",
              "    [theme=dark] .colab-df-convert:hover {\n",
              "      background-color: #434B5C;\n",
              "      box-shadow: 0px 1px 3px 1px rgba(0, 0, 0, 0.15);\n",
              "      filter: drop-shadow(0px 1px 2px rgba(0, 0, 0, 0.3));\n",
              "      fill: #FFFFFF;\n",
              "    }\n",
              "  </style>\n",
              "\n",
              "    <script>\n",
              "      const buttonEl =\n",
              "        document.querySelector('#df-ca77803c-03bf-4edf-a9c1-1b7a6a0551fa button.colab-df-convert');\n",
              "      buttonEl.style.display =\n",
              "        google.colab.kernel.accessAllowed ? 'block' : 'none';\n",
              "\n",
              "      async function convertToInteractive(key) {\n",
              "        const element = document.querySelector('#df-ca77803c-03bf-4edf-a9c1-1b7a6a0551fa');\n",
              "        const dataTable =\n",
              "          await google.colab.kernel.invokeFunction('convertToInteractive',\n",
              "                                                    [key], {});\n",
              "        if (!dataTable) return;\n",
              "\n",
              "        const docLinkHtml = 'Like what you see? Visit the ' +\n",
              "          '<a target=\"_blank\" href=https://colab.research.google.com/notebooks/data_table.ipynb>data table notebook</a>'\n",
              "          + ' to learn more about interactive tables.';\n",
              "        element.innerHTML = '';\n",
              "        dataTable['output_type'] = 'display_data';\n",
              "        await google.colab.output.renderOutput(dataTable, element);\n",
              "        const docLink = document.createElement('div');\n",
              "        docLink.innerHTML = docLinkHtml;\n",
              "        element.appendChild(docLink);\n",
              "      }\n",
              "    </script>\n",
              "  </div>\n",
              "\n",
              "\n",
              "    <div id=\"df-27a4be9a-e8f2-4431-baa0-b26cb4c415a1\">\n",
              "      <button class=\"colab-df-quickchart\" onclick=\"quickchart('df-27a4be9a-e8f2-4431-baa0-b26cb4c415a1')\"\n",
              "                title=\"Suggest charts\"\n",
              "                style=\"display:none;\">\n",
              "\n",
              "<svg xmlns=\"http://www.w3.org/2000/svg\" height=\"24px\"viewBox=\"0 0 24 24\"\n",
              "     width=\"24px\">\n",
              "    <g>\n",
              "        <path d=\"M19 3H5c-1.1 0-2 .9-2 2v14c0 1.1.9 2 2 2h14c1.1 0 2-.9 2-2V5c0-1.1-.9-2-2-2zM9 17H7v-7h2v7zm4 0h-2V7h2v10zm4 0h-2v-4h2v4z\"/>\n",
              "    </g>\n",
              "</svg>\n",
              "      </button>\n",
              "\n",
              "<style>\n",
              "  .colab-df-quickchart {\n",
              "      --bg-color: #E8F0FE;\n",
              "      --fill-color: #1967D2;\n",
              "      --hover-bg-color: #E2EBFA;\n",
              "      --hover-fill-color: #174EA6;\n",
              "      --disabled-fill-color: #AAA;\n",
              "      --disabled-bg-color: #DDD;\n",
              "  }\n",
              "\n",
              "  [theme=dark] .colab-df-quickchart {\n",
              "      --bg-color: #3B4455;\n",
              "      --fill-color: #D2E3FC;\n",
              "      --hover-bg-color: #434B5C;\n",
              "      --hover-fill-color: #FFFFFF;\n",
              "      --disabled-bg-color: #3B4455;\n",
              "      --disabled-fill-color: #666;\n",
              "  }\n",
              "\n",
              "  .colab-df-quickchart {\n",
              "    background-color: var(--bg-color);\n",
              "    border: none;\n",
              "    border-radius: 50%;\n",
              "    cursor: pointer;\n",
              "    display: none;\n",
              "    fill: var(--fill-color);\n",
              "    height: 32px;\n",
              "    padding: 0;\n",
              "    width: 32px;\n",
              "  }\n",
              "\n",
              "  .colab-df-quickchart:hover {\n",
              "    background-color: var(--hover-bg-color);\n",
              "    box-shadow: 0 1px 2px rgba(60, 64, 67, 0.3), 0 1px 3px 1px rgba(60, 64, 67, 0.15);\n",
              "    fill: var(--button-hover-fill-color);\n",
              "  }\n",
              "\n",
              "  .colab-df-quickchart-complete:disabled,\n",
              "  .colab-df-quickchart-complete:disabled:hover {\n",
              "    background-color: var(--disabled-bg-color);\n",
              "    fill: var(--disabled-fill-color);\n",
              "    box-shadow: none;\n",
              "  }\n",
              "\n",
              "  .colab-df-spinner {\n",
              "    border: 2px solid var(--fill-color);\n",
              "    border-color: transparent;\n",
              "    border-bottom-color: var(--fill-color);\n",
              "    animation:\n",
              "      spin 1s steps(1) infinite;\n",
              "  }\n",
              "\n",
              "  @keyframes spin {\n",
              "    0% {\n",
              "      border-color: transparent;\n",
              "      border-bottom-color: var(--fill-color);\n",
              "      border-left-color: var(--fill-color);\n",
              "    }\n",
              "    20% {\n",
              "      border-color: transparent;\n",
              "      border-left-color: var(--fill-color);\n",
              "      border-top-color: var(--fill-color);\n",
              "    }\n",
              "    30% {\n",
              "      border-color: transparent;\n",
              "      border-left-color: var(--fill-color);\n",
              "      border-top-color: var(--fill-color);\n",
              "      border-right-color: var(--fill-color);\n",
              "    }\n",
              "    40% {\n",
              "      border-color: transparent;\n",
              "      border-right-color: var(--fill-color);\n",
              "      border-top-color: var(--fill-color);\n",
              "    }\n",
              "    60% {\n",
              "      border-color: transparent;\n",
              "      border-right-color: var(--fill-color);\n",
              "    }\n",
              "    80% {\n",
              "      border-color: transparent;\n",
              "      border-right-color: var(--fill-color);\n",
              "      border-bottom-color: var(--fill-color);\n",
              "    }\n",
              "    90% {\n",
              "      border-color: transparent;\n",
              "      border-bottom-color: var(--fill-color);\n",
              "    }\n",
              "  }\n",
              "</style>\n",
              "\n",
              "      <script>\n",
              "        async function quickchart(key) {\n",
              "          const quickchartButtonEl =\n",
              "            document.querySelector('#' + key + ' button');\n",
              "          quickchartButtonEl.disabled = true;  // To prevent multiple clicks.\n",
              "          quickchartButtonEl.classList.add('colab-df-spinner');\n",
              "          try {\n",
              "            const charts = await google.colab.kernel.invokeFunction(\n",
              "                'suggestCharts', [key], {});\n",
              "          } catch (error) {\n",
              "            console.error('Error during call to suggestCharts:', error);\n",
              "          }\n",
              "          quickchartButtonEl.classList.remove('colab-df-spinner');\n",
              "          quickchartButtonEl.classList.add('colab-df-quickchart-complete');\n",
              "        }\n",
              "        (() => {\n",
              "          let quickchartButtonEl =\n",
              "            document.querySelector('#df-27a4be9a-e8f2-4431-baa0-b26cb4c415a1 button');\n",
              "          quickchartButtonEl.style.display =\n",
              "            google.colab.kernel.accessAllowed ? 'block' : 'none';\n",
              "        })();\n",
              "      </script>\n",
              "    </div>\n",
              "\n",
              "    </div>\n",
              "  </div>\n"
            ],
            "application/vnd.google.colaboratory.intrinsic+json": {
              "type": "dataframe",
              "variable_name": "df",
              "summary": "{\n  \"name\": \"df\",\n  \"rows\": 52,\n  \"fields\": [\n    {\n      \"column\": \"Scores\",\n      \"properties\": {\n        \"dtype\": \"number\",\n        \"std\": 11.952413585348102,\n        \"min\": 20.0,\n        \"max\": 95.0,\n        \"num_unique_values\": 52,\n        \"samples\": [\n          55.87696298664709,\n          71.7136828118997,\n          80.57122226218915\n        ],\n        \"semantic_type\": \"\",\n        \"description\": \"\"\n      }\n    }\n  ]\n}"
            }
          },
          "metadata": {},
          "execution_count": 1
        }
      ]
    },
    {
      "cell_type": "markdown",
      "source": [
        "### Finding the range of data"
      ],
      "metadata": {
        "id": "dg-buYKqTphW"
      }
    },
    {
      "cell_type": "code",
      "source": [
        "data_range = df[\"Scores\"].max() - df[\"Scores\"].min()\n",
        "print(\"Range:\", data_range)"
      ],
      "metadata": {
        "colab": {
          "base_uri": "https://localhost:8080/"
        },
        "id": "PjrjnCHiQQ20",
        "outputId": "69501e65-ca87-4951-86b9-91dfbff24370"
      },
      "execution_count": null,
      "outputs": [
        {
          "output_type": "stream",
          "name": "stdout",
          "text": [
            "Range: 75.0\n"
          ]
        }
      ]
    },
    {
      "cell_type": "markdown",
      "source": [
        "### InterQuartile Range(IQR)"
      ],
      "metadata": {
        "id": "SF-skDlcTtlR"
      }
    },
    {
      "cell_type": "code",
      "source": [
        "Q1 = df[\"Scores\"].quantile(0.25)\n",
        "Q3 = df[\"Scores\"].quantile(0.75)\n",
        "\n",
        "IQR = Q3 - Q1\n",
        "print(\"Q1:\", Q1, \"Q3:\", Q3, \"IQR:\", IQR)"
      ],
      "metadata": {
        "colab": {
          "base_uri": "https://localhost:8080/"
        },
        "id": "vD8S61q9QQ5e",
        "outputId": "9d821e1d-7732-4833-e0ac-cb7f56c97424"
      },
      "execution_count": null,
      "outputs": [
        {
          "output_type": "stream",
          "name": "stdout",
          "text": [
            "Q1: 60.657741632754856 Q3: 73.51638221762764 IQR: 12.85864058487278\n"
          ]
        }
      ]
    },
    {
      "cell_type": "markdown",
      "source": [
        "### Variance & Standard Deviation"
      ],
      "metadata": {
        "id": "7qwQew1tT1Nm"
      }
    },
    {
      "cell_type": "code",
      "source": [
        "variance = df[\"Scores\"].var()\n",
        "std_dev = df[\"Scores\"].std()\n",
        "print(\"Variance:\", variance, \"Standard Deviation:\", std_dev)"
      ],
      "metadata": {
        "colab": {
          "base_uri": "https://localhost:8080/"
        },
        "id": "2SV_Ms4OQQ8J",
        "outputId": "63f7de33-88a6-43ac-b612-a8710e4ca39a"
      },
      "execution_count": null,
      "outputs": [
        {
          "output_type": "stream",
          "name": "stdout",
          "text": [
            "Variance: 142.86019051521387 Standard Deviation: 11.952413585348102\n"
          ]
        }
      ]
    },
    {
      "cell_type": "markdown",
      "source": [
        "### Detect Outliers using IQR"
      ],
      "metadata": {
        "id": "HXV_a-ZkUGp8"
      }
    },
    {
      "cell_type": "code",
      "source": [
        "lower_bound = Q1 - 1.5 * IQR\n",
        "upper_bound = Q3 + 1.5 * IQR\n",
        "\n",
        "outliers = df[(df[\"Scores\"] < lower_bound) | (df[\"Scores\"] > upper_bound)]\n",
        "print(\"Outliers:\")\n",
        "print(outliers)"
      ],
      "metadata": {
        "colab": {
          "base_uri": "https://localhost:8080/"
        },
        "id": "Em7RleL3QQ-s",
        "outputId": "274e1dd5-031d-4e11-fee6-7a1e1575a348"
      },
      "execution_count": null,
      "outputs": [
        {
          "output_type": "stream",
          "name": "stdout",
          "text": [
            "Outliers:\n",
            "    Scores\n",
            "50    20.0\n",
            "51    95.0\n"
          ]
        }
      ]
    },
    {
      "cell_type": "markdown",
      "source": [
        "### Detect Outliers using Z-score"
      ],
      "metadata": {
        "id": "ytnFjBOqUa2r"
      }
    },
    {
      "cell_type": "code",
      "source": [
        "df[\"z_score\"] = stats.zscore(df[\"Scores\"])\n",
        "outliers = df[df[\"z_score\"].abs() > 3]\n",
        "print(\"Outliers:\")\n",
        "print(outliers)"
      ],
      "metadata": {
        "colab": {
          "base_uri": "https://localhost:8080/"
        },
        "id": "kdwky9feQRBd",
        "outputId": "365d05c5-dd2d-4b94-aa7a-eaf9fcfd0dbc"
      },
      "execution_count": null,
      "outputs": [
        {
          "output_type": "stream",
          "name": "stdout",
          "text": [
            "Outliers (Z-score method):\n",
            "     Scores   z_score\n",
            "50    20.0 -4.000296\n"
          ]
        }
      ]
    },
    {
      "cell_type": "markdown",
      "source": [
        "### Boxplot Visulaization"
      ],
      "metadata": {
        "id": "O-O-bd3LU12K"
      }
    },
    {
      "cell_type": "code",
      "source": [
        "plt.boxplot(df[\"Scores\"], vert = False)\n",
        "plt.xlabel(\"Scores\")\n",
        "plt.title(\"Boxplot of Scores\")\n",
        "plt.show()"
      ],
      "metadata": {
        "colab": {
          "base_uri": "https://localhost:8080/",
          "height": 472
        },
        "id": "9Qx-LdAYQREJ",
        "outputId": "d2349cb2-f776-4256-f3fb-8120f6fad4a3"
      },
      "execution_count": null,
      "outputs": [
        {
          "output_type": "display_data",
          "data": {
            "text/plain": [
              "<Figure size 640x480 with 1 Axes>"
            ],
            "image/png": "[encoded data removed]"
          },
          "metadata": {}
        }
      ]
    },
    {
      "cell_type": "markdown",
      "source": [
        "4. Practice Problems\n",
        "\n",
        "- Compute the range, IQR, variance, and std dev for this dataset:\n",
        "\n",
        "  `[5, 7, 8, 5, 9, 12, 15, 5, 100]`\n",
        "\n",
        "- Identify outliers using the IQR method.\n",
        "\n",
        "- Create a boxplot of the dataset.\n",
        "\n",
        "- Discuss: Which is more robust to outliers — variance or IQR? Why?"
      ],
      "metadata": {
        "id": "2QNzMWVaVSxM"
      }
    },
    {
      "cell_type": "code",
      "metadata": {
        "colab": {
          "base_uri": "https://localhost:8080/"
        },
        "id": "3daae1a5",
        "outputId": "dfdd71d7-53f7-4b92-db17-8e435ca3dd33"
      },
      "source": [
        "import pandas as pd\n",
        "\n",
        "x = [5, 7, 8, 5, 9, 12, 15, 5, 100]\n",
        "df_x = pd.DataFrame(x, columns=[\"Values\"])\n",
        "df_x.head()\n",
        "\n",
        "range = df_x[\"Values\"].max() - df_x[\"Values\"].min()\n",
        "print(\"Range:\", range)\n",
        "\n",
        "IQR = df_x[\"Values\"].quantile(0.75) - df_x[\"Values\"].quantile(0.25)\n",
        "print(\"IQR:\", IQR)\n",
        "\n",
        "variance = df_x[\"Values\"].var()\n",
        "print(\"Variance:\", variance)"
      ],
      "execution_count": null,
      "outputs": [
        {
          "output_type": "stream",
          "name": "stdout",
          "text": [
            "Range: 95\n",
            "IQR: 7.0\n",
            "Variance: 947.0277777777778\n"
          ]
        }
      ]
    },
    {
      "cell_type": "code",
      "execution_count": null,
      "metadata": {
        "colab": {
          "base_uri": "https://localhost:8080/"
        },
        "id": "-P79-EVQQI-z",
        "outputId": "4990de36-5cc5-43d5-951b-91585437eebe"
      },
      "outputs": [
        {
          "output_type": "stream",
          "name": "stdout",
          "text": [
            "Outliers\n",
            "\n",
            "   Values\n",
            "8     100\n"
          ]
        }
      ],
      "source": [
        "### Identifying outliers using the IQR method.\n",
        "\n",
        "Q1 = df_x[\"Values\"].quantile(0.25)\n",
        "Q3 = df_x[\"Values\"].quantile(0.75)\n",
        "\n",
        "lower_bound = Q1 - 1.5 * IQR\n",
        "upper_bound = Q3 + 1.5 * IQR\n",
        "\n",
        "outliers = df_x[(df_x[\"Values\"] < lower_bound) | (df_x[\"Values\"] > upper_bound)]\n",
        "print(\"Outliers\\n\")\n",
        "print(outliers)"
      ]
    },
    {
      "cell_type": "code",
      "source": [
        "### Creating a boxplot of the dataset\n",
        "plt.boxplot(df_x[\"Values\"], vert=False)\n",
        "plt.title(\"Boxplot of Values\")\n",
        "plt.show()"
      ],
      "metadata": {
        "colab": {
          "base_uri": "https://localhost:8080/",
          "height": 452
        },
        "id": "arm6Zq4_XJHa",
        "outputId": "120da532-43ce-4bf6-d0c5-50f543175a2c"
      },
      "execution_count": null,
      "outputs": [
        {
          "output_type": "display_data",
          "data": {
            "text/plain": [
              "<Figure size 640x480 with 1 Axes>"
            ],
            "image/png": "[encoded data removed]"
          },
          "metadata": {}
        }
      ]
    },
    {
      "cell_type": "markdown",
      "metadata": {
        "id": "efd49f3b"
      },
      "source": [
        "**Discuss: Which is more robust to outliers — variance or IQR? Why?**\n",
        "\n",
        "**IQR (Interquartile Range)** is more robust to outliers than **variance**.\n",
        "\n",
        "Here's why:\n",
        "\n",
        "*   **IQR** is calculated based on the quartiles (Q1 and Q3), which represent the 25th and 75th percentiles of the data. These values are not directly influenced by extreme values (outliers) in the dataset. The IQR only considers the spread of the middle 50% of the data.\n",
        "\n",
        "*   **Variance**, on the other hand, is calculated by taking the average of the squared differences from the mean. The mean is heavily influenced by outliers, and squaring the differences further exaggerates the impact of these extreme values on the variance.\n",
        "\n",
        "In essence, because the IQR focuses on the central portion of the data, it's less susceptible to being skewed by a few unusually large or small values, making it a more reliable measure of spread when outliers are present."
      ]
    }
  ]
}