{
  "nbformat": 4,
  "nbformat_minor": 0,
  "metadata": {
    "colab": {
      "provenance": [],
      "authorship_tag": "ABX9TyO7GLOdkKt7BuzGBevu6mhw",
      "include_colab_link": true
    },
    "kernelspec": {
      "name": "python3",
      "display_name": "Python 3"
    },
    "language_info": {
      "name": "python"
    }
  },
  "cells": [
    {
      "cell_type": "markdown",
      "metadata": {
        "id": "view-in-github",
        "colab_type": "text"
      },
      "source": [
        "<a href=\"https://colab.research.google.com/github/swopnimghimire-123123/Maths_For_ML/blob/main/05_Conditional_Probability_%26_Theorem.ipynb\" target=\"_parent\"><img src=\"https://colab.research.google.com/assets/colab-badge.svg\" alt=\"Open In Colab\"/></a>"
      ]
    },
    {
      "cell_type": "markdown",
      "source": [
        "# Colab 5: Conditional Probability & Bayes Theorem\n",
        "- Learning Goals\n",
        "\n",
        "- Understand conditional probability\n",
        "\n",
        "- Apply the multiplication rule\n",
        "\n",
        "- Learn Bayes theorem with intuition\n",
        "\n",
        "- See how it works with a simple dataset"
      ],
      "metadata": {
        "id": "RbaFcKv0jPRB"
      }
    },
    {
      "cell_type": "code",
      "execution_count": null,
      "metadata": {
        "id": "4Ly7xI6JeAO3"
      },
      "outputs": [],
      "source": []
    },
    {
      "cell_type": "markdown",
      "metadata": {
        "id": "4a816183"
      },
      "source": [
        "1. Conditional Probability\n",
        "\n",
        "👉 Definition:\n",
        "\n",
        "$P(A∣B) = \\frac{P(A \\cap B)}{P(B)}$\n",
        "\n",
        "\"Probability of A given B has occurred.\"\n",
        "\n",
        "Example:\n",
        "\n",
        "A = rolling an even number\n",
        "\n",
        "B = rolling a number > 3"
      ]
    },
    {
      "cell_type": "code",
      "metadata": {
        "colab": {
          "base_uri": "https://localhost:8080/"
        },
        "id": "61368ad8",
        "outputId": "2122bb67-1239-4eba-a98e-5476d8d24b67"
      },
      "source": [
        "import numpy as np\n",
        "\n",
        "die = np.arange(1, 7)\n",
        "A = {2, 4, 6}       # even numbers\n",
        "B = {4, 5, 6}       # >3\n",
        "\n",
        "P_A = len(A)/6\n",
        "P_B = len(B)/6\n",
        "P_A_and_B = len(A & B)/6\n",
        "\n",
        "P_A_given_B = P_A_and_B / P_B\n",
        "print(f\"The probability of A given B is: {P_A_given_B}\")"
      ],
      "execution_count": null,
      "outputs": [
        {
          "output_type": "stream",
          "name": "stdout",
          "text": [
            "The probability of A given B is: 0.6666666666666666\n"
          ]
        }
      ]
    },
    {
      "cell_type": "markdown",
      "metadata": {
        "id": "4f7d8c66"
      },
      "source": [
        "### 2. Multiplication Rule\n",
        "$P(A \\cap B) = P(A∣B) \\cdot P(B)$\n",
        "\n",
        "  This connects conditional probability back to joint probability."
      ]
    },
    {
      "cell_type": "markdown",
      "source": [],
      "metadata": {
        "id": "LR6JcanvL231"
      }
    },
    {
      "cell_type": "markdown",
      "metadata": {
        "id": "9c43d54d"
      },
      "source": [
        "### 3. Bayes Theorem\n",
        "\n",
        " Formula:\n",
        "\n",
        "$P(A∣B) = \\frac{P(B∣A) \\cdot P(A)}{P(B)}$\n",
        "\n",
        "Reverses conditional probability.\n",
        "\n",
        "Essential when we know likelihoods but want posterior."
      ]
    },
    {
      "cell_type": "markdown",
      "metadata": {
        "id": "6f915495"
      },
      "source": [
        "Let's look at the Bayes Theorem formula with some examples:\n",
        "\n",
        "$P(A∣B) = \\frac{P(B∣A) \\cdot P(A)}{P(B)}$"
      ]
    },
    {
      "cell_type": "markdown",
      "metadata": {
        "id": "e960dc91"
      },
      "source": [
        "### Example 1: Coin Flip\n",
        "\n",
        "Imagine you have two coins:\n",
        "*   Coin A: A fair coin (50% chance of heads, 50% chance of tails). $P(H∣A) = 0.5$, $P(T∣A) = 0.5$\n",
        "*   Coin B: A biased coin (70% chance of heads, 30% chance of tails). $P(H∣B) = 0.7$, $P(T∣B) = 0.3$\n",
        "\n",
        "You randomly pick one coin (let's say there's a 50% chance of picking either coin, so $P(A) = 0.5$ and $P(B) = 0.5$) and flip it. You get a Head. What is the probability you picked the biased Coin B, given that you got a Head? We want to find $P(\\text{Coin B}∣\\text{Head})$."
      ]
    },
    {
      "cell_type": "code",
      "metadata": {
        "colab": {
          "base_uri": "https://localhost:8080/"
        },
        "id": "f9fa368e",
        "outputId": "140fe20a-a443-40ca-c7c3-43f41895c3d0"
      },
      "source": [
        "# Given values\n",
        "P_Coin_A = 0.5\n",
        "P_Coin_B = 0.5\n",
        "\n",
        "P_Head_given_Coin_A = 0.5\n",
        "P_Head_given_Coin_B = 0.7\n",
        "\n",
        "# Evidence Probability P(Head) using the Law of Total Probability\n",
        "P_Head = (P_Head_given_Coin_A * P_Coin_A) + (P_Head_given_Coin_B * P_Coin_B)\n",
        "\n",
        "# Bayes theorem to find P(Coin B | Head)\n",
        "P_Coin_B_given_Head = (P_Head_given_Coin_B * P_Coin_B) / P_Head\n",
        "\n",
        "print(f\"The probability of picking Coin B given a Head is: {P_Coin_B_given_Head}\")"
      ],
      "execution_count": null,
      "outputs": [
        {
          "output_type": "stream",
          "name": "stdout",
          "text": [
            "The probability of picking Coin B given a Head is: 0.5833333333333334\n"
          ]
        }
      ]
    },
    {
      "cell_type": "markdown",
      "metadata": {
        "id": "e00d5137"
      },
      "source": [
        "### Example 2: Spam Filter\n",
        "\n",
        "Let A be the event that an email is Spam, and B be the event that the email contains the word \"free\".\n",
        "\n",
        "*   Suppose 20% of emails are Spam: $P(A) = 0.20$\n",
        "*   Suppose 80% of Spam emails contain the word \"free\": $P(B∣A) = 0.80$\n",
        "*   Suppose 10% of non-Spam emails contain the word \"free\": $P(B∣\\neg A) = 0.10$\n",
        "\n",
        "If an email contains the word \"free\", what is the probability that it is Spam? We want to find $P(A∣B)$."
      ]
    },
    {
      "cell_type": "code",
      "metadata": {
        "colab": {
          "base_uri": "https://localhost:8080/"
        },
        "id": "3d8a7df7",
        "outputId": "91b86d6e-3543-4c71-e15a-8912fc3a8cb3"
      },
      "source": [
        "# Given values\n",
        "P_Spam = 0.20\n",
        "P_not_Spam = 1 - P_Spam # P(~A)\n",
        "\n",
        "P_Free_given_Spam = 0.80 # P(B|A)\n",
        "P_Free_given_not_Spam = 0.10 # P(B|~A)\n",
        "\n",
        "# Evidence Probability P(Free) using the Law of Total Probability\n",
        "P_Free = (P_Free_given_Spam * P_Spam) + (P_Free_given_not_Spam * P_not_Spam) # P(B)\n",
        "\n",
        "# Bayes theorem to find P(Spam | Free) - P(A|B)\n",
        "P_Spam_given_Free = (P_Free_given_Spam * P_Spam) / P_Free\n",
        "\n",
        "print(f\"The probability that an email is Spam given it contains 'free' is: {P_Spam_given_Free}\")"
      ],
      "execution_count": null,
      "outputs": [
        {
          "output_type": "stream",
          "name": "stdout",
          "text": [
            "The probability that an email is Spam given it contains 'free' is: 0.6666666666666666\n"
          ]
        }
      ]
    },
    {
      "cell_type": "markdown",
      "metadata": {
        "id": "3982dfb7"
      },
      "source": [
        "### Bayes' Theorem is a fundamental concept in probability theory that describes how to update the probability of a hypothesis based on new evidence.\n",
        "\n",
        "Here's a breakdown of the formula and its components:\n",
        "\n",
        "$P(A∣B) = \\frac{P(B∣A) \\cdot P(A)}{P(B)}$\n",
        "\n",
        "*   **$P(A∣B)$ (Posterior Probability):** This is what you want to find – the probability of hypothesis A being true given the evidence B.\n",
        "*   **$P(B∣A)$ (Likelihood):** This is the probability of observing the evidence B given that hypothesis A is true.\n",
        "*   **$P(A)$ (Prior Probability):** This is your initial belief about the probability of hypothesis A being true before you see any evidence.\n",
        "*   **$P(B)$ (Evidence Probability):** This is the probability of observing the evidence B, regardless of whether hypothesis A is true or not. It can be calculated as $P(B) = P(B∣A) \\cdot P(A) + P(B∣\\neg A) \\cdot P(\\neg A)$, where $\\neg A$ is the complement of A.\n",
        "\n",
        "In essence, Bayes' Theorem allows you to revise your initial probability of an event (prior) in light of new data (evidence) to get a revised and updated probability (posterior). It's widely used in various fields, including statistics, machine learning, and medical diagnosis."
      ]
    },
    {
      "cell_type": "markdown",
      "metadata": {
        "id": "be76ff67"
      },
      "source": [
        "### 4. Example: Medical Test Problem\n",
        "\n",
        "Suppose:\n",
        "\n",
        "1% of people have a disease (P(D) = 0.01).\n",
        "\n",
        "Test is 99% accurate:\n",
        "\n",
        "If diseased → 99% positive (P(Pos|D) = 0.99)\n",
        "\n",
        "If healthy → 5% false positive (P(Pos|¬D) = 0.05)\n",
        "\n",
        " If a patient tests positive, what is the probability they actually have the disease?"
      ]
    },
    {
      "cell_type": "code",
      "metadata": {
        "colab": {
          "base_uri": "https://localhost:8080/"
        },
        "id": "79755732",
        "outputId": "1e0cbf7d-9d23-4a53-91fb-dd29d335ff85"
      },
      "source": [
        "# Given values\n",
        "P_D = 0.01\n",
        "P_notD = 1 - P_D\n",
        "\n",
        "P_Pos_given_D = 0.99\n",
        "P_Pos_given_notD = 0.05\n",
        "\n",
        "# Total probability of positive\n",
        "P_Pos = P_Pos_given_D*P_D + P_Pos_given_notD*P_notD\n",
        "\n",
        "# Bayes theorem\n",
        "P_D_given_Pos = (P_Pos_given_D * P_D) / P_Pos\n",
        "print(f\"The probability of having the disease given a positive test is: {P_D_given_Pos}\")"
      ],
      "execution_count": null,
      "outputs": [
        {
          "output_type": "stream",
          "name": "stdout",
          "text": [
            "The probability of having the disease given a positive test is: 0.16666666666666669\n"
          ]
        }
      ]
    },
    {
      "cell_type": "markdown",
      "metadata": {
        "id": "4588026b"
      },
      "source": [
        " Output will show something around 16% — surprising!\n",
        "Even though the test is 99% accurate, most positives are false alarms because the disease is rare."
      ]
    },
    {
      "cell_type": "markdown",
      "metadata": {
        "id": "ad65b73b"
      },
      "source": [
        "The **Law of Total Probability** states that if you have a set of mutually exclusive and exhaustive events (like A and its complement $\\neg A$), the probability of an event B can be calculated by summing the probabilities of B occurring under each of those events, weighted by the probability of each event.\n",
        "\n",
        "In terms of generic events A and B, the formula is:\n",
        "\n",
        "$P(B) = P(B∣A) \\cdot P(A) + P(B∣\\neg A) \\cdot P(\\neg A)$\n",
        "\n",
        "Where:\n",
        "*   $P(B)$ is the total probability of event B occurring.\n",
        "*   $P(B∣A)$ is the probability of event B occurring given that event A has occurred.\n",
        "*   $P(A)$ is the probability of event A occurring.\n",
        "*   $P(B∣\\neg A)$ is the probability of event B occurring given that event A has *not* occurred ($\\neg A$ is the complement of A).\n",
        "*   $P(\\neg A)$ is the probability of event A not occurring (which is $1 - P(A)$)."
      ]
    }
  ]
}