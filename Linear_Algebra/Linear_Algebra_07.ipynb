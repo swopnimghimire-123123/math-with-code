{
  "nbformat": 4,
  "nbformat_minor": 0,
  "metadata": {
    "colab": {
      "provenance": [],
      "authorship_tag": "ABX9TyPlAtZQfnXtkAcnRclvsQ0J",
      "include_colab_link": true
    },
    "kernelspec": {
      "name": "python3",
      "display_name": "Python 3"
    },
    "language_info": {
      "name": "python"
    }
  },
  "cells": [
    {
      "cell_type": "markdown",
      "metadata": {
        "id": "view-in-github",
        "colab_type": "text"
      },
      "source": [
        "<a href=\"https://colab.research.google.com/github/swopnimghimire-123123/Maths_For_ML/blob/main/Linear_Algebra_07.ipynb\" target=\"_parent\"><img src=\"https://colab.research.google.com/assets/colab-badge.svg\" alt=\"Open In Colab\"/></a>"
      ]
    },
    {
      "cell_type": "markdown",
      "source": [
        "# Dot Product and Duality\n",
        "\n",
        "###  Dot Product\n",
        "- The **dot product** of two vectors \\(u = [u_1, u_2, ..., u_n]\\) and \\(v = [v_1, v_2, ..., v_n]\\) is:\n",
        "\\[\n",
        "u \\cdot v = u_1 v_1 + u_2 v_2 + \\dots + u_n v_n\n",
        "\\]\n",
        "\n",
        "- **Geometric meaning**:\n",
        "\\[\n",
        "u \\cdot v = \\|u\\|\\|v\\|\\cos(\\theta)\n",
        "\\]\n",
        "where θ is the angle between u and v.  \n",
        "- If u · v = 0 → vectors are **orthogonal**.  \n",
        "\n",
        "---\n",
        "\n",
        "###  Duality\n",
        "- Every vector can also be seen as a **linear functional** (a machine that takes another vector and outputs a number).  \n",
        "- In ℝⁿ, the **dual space** consists of all possible linear functionals on vectors.  \n",
        "- The dot product is the simplest example of this duality:\n",
        "  - Vector v acts as a linear functional:  \n",
        "  \\[\n",
        "  f_v(u) = u \\cdot v\n",
        "  \\]  \n",
        "  - This means **a vector (v)** can also represent a **function** mapping other vectors (u) to scalars.  \n",
        "\n",
        "---\n",
        "\n",
        "###  Intuition\n",
        "- Dot product = **projection + scaling**.  \n",
        "- Duality = the idea that **vectors are also functions** via dot products.  \n",
        "- Example: In physics, a **force vector** dotted with a **displacement vector** gives a **scalar work** — a direct use of duality.\n",
        "\n",
        "---\n",
        "\n",
        "\n"
      ],
      "metadata": {
        "id": "GiNS8Fwy_SnC"
      }
    },
    {
      "cell_type": "code",
      "execution_count": null,
      "metadata": {
        "colab": {
          "base_uri": "https://localhost:8080/"
        },
        "id": "-yvDsxbF_Qhw",
        "outputId": "8274cce4-ffb8-45ba-ef4c-31383ac03f09"
      },
      "outputs": [
        {
          "output_type": "stream",
          "name": "stdout",
          "text": [
            "-1\n",
            "Vector u: [2 3]\n",
            "Vector v: [ 1 -1]\n",
            "Dot product u · v = -1\n",
            "Duality example f_v(u) = -1\n"
          ]
        }
      ],
      "source": [
        "import numpy as np\n",
        "\n",
        "# defining vectors\n",
        "u = np.array([2,3])\n",
        "v = np.array([1,-1])\n",
        "\n",
        "# dot product\n",
        "dot = np.dot(u,v)\n",
        "print(dot)\n",
        "\n",
        "# Using dot product as a \"functional\"\n",
        "def f_v(x):\n",
        "    return np.dot(x, v)\n",
        "\n",
        "print(\"Vector u:\", u)\n",
        "print(\"Vector v:\", v)\n",
        "print(\"Dot product u · v =\", dot)\n",
        "print(\"Duality example f_v(u) =\", f_v(u))"
      ]
    },
    {
      "cell_type": "markdown",
      "source": [
        "#  Unit Vector\n",
        "\n",
        "###  Definition\n",
        "- A **unit vector** is a vector of **length (magnitude) 1**.  \n",
        "- It only represents **direction**, not magnitude.  \n",
        "\n",
        "\\[\n",
        "\\hat{u} = \\frac{u}{\\|u\\|}\n",
        "\\]\n",
        "\n",
        "where \\(u\\) is any vector and \\(\\|u\\|\\) is its magnitude.  \n",
        "\n",
        "---\n",
        "\n",
        "###  Magnitude\n",
        "For \\(u = [x, y, z]\\):  \n",
        "\\[\n",
        "\\|u\\| = \\sqrt{x^2 + y^2 + z^2}\n",
        "\\]\n",
        "\n",
        "---\n",
        "\n",
        "###  Physical Meaning\n",
        "- A unit vector points in a direction but has no scaling effect.  \n",
        "- Used to **normalize vectors** so that calculations depend only on direction.  \n",
        "- Examples:\n",
        "  - \\(\\hat{i}, \\hat{j}, \\hat{k}\\) are unit vectors along x, y, z axes.  \n",
        "  - In physics, unit vectors define directions of force, velocity, acceleration, etc.  \n",
        "\n",
        "---\n",
        "\n",
        "###  Example\n",
        "Vector: \\(u = [3, 4]\\)  \n",
        "Magnitude: \\(\\|u\\| = 5\\)  \n",
        "Unit vector: \\(\\hat{u} = [3/5, 4/5]\\)  \n",
        "\n",
        "---\n"
      ],
      "metadata": {
        "id": "bIvmk6WrCtkJ"
      }
    },
    {
      "cell_type": "code",
      "source": [
        "import numpy as np\n",
        "\n",
        "# defining vector\n",
        "u = np.array([3,4]) # vector\n",
        "magnitude = np.linalg.norm(u) # length\n",
        "unit_vector = u / magnitude # normalization\n",
        "\n",
        "print(\"Vector u:\",u)\n",
        "print(\"Magnitude of u:\",magnitude)\n",
        "print(\"Unit vector of u:\",unit_vector)\n",
        "print(\"Check length of unit vector:\", np.linalg.norm(unit_vector))"
      ],
      "metadata": {
        "colab": {
          "base_uri": "https://localhost:8080/"
        },
        "id": "rYznrJXN_Rxv",
        "outputId": "abfab3ae-3513-4fe3-9bc5-f43531c50f45"
      },
      "execution_count": null,
      "outputs": [
        {
          "output_type": "stream",
          "name": "stdout",
          "text": [
            "Vector u: [3 4]\n",
            "Magnitude of u: 5.0\n",
            "Unit vector of u: [0.6 0.8]\n",
            "Check length of unit vector: 1.0\n"
          ]
        }
      ]
    },
    {
      "cell_type": "markdown",
      "source": [
        "#  Visualizing Duality\n",
        "\n",
        "###  Idea\n",
        "- A vector \\(v\\) can be seen as:\n",
        "  1. **Geometric arrow** in space.  \n",
        "  2. **Functional (measurement rule)** that tells how much another vector points along its direction.  \n",
        "\n",
        "- This \"measurement\" is done using the **dot product**.  \n",
        "\n",
        "---\n",
        "\n",
        "###  Visual Meaning\n",
        "1. Draw two vectors \\(u\\) and \\(v\\).  \n",
        "2. Drop a perpendicular from \\(u\\) onto the line of \\(v\\).  \n",
        "3. The **length of the shadow** of \\(u\\) on \\(v\\) is the dot product scaled by \\(\\|v\\|\\).  \n",
        "\n",
        "So, visually:  \n",
        "- Dot product = \"shadow\" of one vector onto another.  \n",
        "- Duality = treating \\(v\\) not as an arrow, but as the **machine that measures this shadow**.\n"
      ],
      "metadata": {
        "id": "RLIBrNYwDmPf"
      }
    },
    {
      "cell_type": "code",
      "source": [
        "import numpy as np\n",
        "import matplotlib.pyplot as plt\n",
        "\n",
        "# defining vectors\n",
        "u = np.array([2,3])\n",
        "v = np.array([3,1])\n",
        "\n",
        "# projection of u onto v\n",
        "v_unit = v / np.linalg.norm(v)\n",
        "proj_length = np.dot(u, v_unit)\n",
        "proj= proj_length * v_unit\n",
        "\n",
        "# plotting\n",
        "plt.figure(figsize=(6,6))\n",
        "plt.axhline(0, color='gray', linewidth=0.5)\n",
        "plt.axvline(0, color='gray', linewidth=0.5)\n",
        "\n",
        "# defining three vectors for u , v and projection\n",
        "plt.quiver(0,0,u[0],u[1], angles='xy', scale_units='xy', scale=1, color='blue', label='Vector u')\n",
        "plt.quiver(0,0,v[0],v[1], angles='xy', scale_units='xy', scale=1, color='green', label='Vector v')\n",
        "plt.quiver(0,0,proj[0],proj[1], angles='xy', scale_units='xy', scale=1, color='red', label='projection')\n",
        "\n",
        "# formatting\n",
        "plt.xlim(-1,4)\n",
        "plt.ylim(-1,4)\n",
        "plt.gca().set_aspect(\"equal\")\n",
        "plt.legend()\n",
        "plt.title(\"visualizing duality : dot proudct and projection\")"
      ],
      "metadata": {
        "colab": {
          "base_uri": "https://localhost:8080/",
          "height": 562
        },
        "id": "sJTPbfAMCwUH",
        "outputId": "82040b7d-470d-4119-8bae-6f81f7a38531"
      },
      "execution_count": null,
      "outputs": [
        {
          "output_type": "execute_result",
          "data": {
            "text/plain": [
              "Text(0.5, 1.0, 'visualizing duality : dot proudct and projection')"
            ]
          },
          "metadata": {},
          "execution_count": 24
        },
        {
          "output_type": "display_data",
          "data": {
            "text/plain": [
              "<Figure size 600x600 with 1 Axes>"
            ],
            "image/png": "[encoded data removed]"
          },
          "metadata": {}
        }
      ]
    },
    {
      "cell_type": "markdown",
      "source": [
        "#  Duality (Physical Meaning)\n",
        "\n",
        "- A vector **v** has **two roles**:\n",
        "  1. **Geometric role** → an arrow showing a **direction in space**.  \n",
        "  2. **Functional role** → a **measurement tool** that tells how much another vector aligns with it (via dot product).  \n",
        "\n",
        "- When you compute `u · v`, you are:\n",
        "  - Measuring the **alignment** of vector u with vector v.  \n",
        "  - This number is the \"shadow\" or projection of u along v.  \n",
        "\n",
        "- Special case: if `u = v`, the dot product `v · v = ||v||²` gives both:\n",
        "  - The vector’s **length squared** (magnitude).  \n",
        "  - The fact that it is perfectly aligned with itself.  \n",
        "\n",
        "---\n",
        "\n",
        "###  Intuition\n",
        "So duality = the idea that **one vector simultaneously represents direction (arrow) and alignment (measurement of other vectors with itself).**\n"
      ],
      "metadata": {
        "id": "cxu9MMcZG8u7"
      }
    },
    {
      "cell_type": "markdown",
      "source": [
        "#  Cross Product\n",
        "\n",
        "###  Definition\n",
        "- The **cross product** of two vectors \\(u, v \\in \\mathbb{R}^3\\) is another vector:\n",
        "\\[\n",
        "u \\times v = [u_2 v_3 - u_3 v_2,\\; u_3 v_1 - u_1 v_3,\\; u_1 v_2 - u_2 v_1]\n",
        "\\]\n",
        "\n",
        "---\n",
        "\n",
        "###  Properties\n",
        "1. Result is a **vector** (unlike dot product which is scalar).  \n",
        "2. Direction: **perpendicular** to both u and v (right-hand rule).  \n",
        "3. Magnitude:\n",
        "\\[\n",
        "\\|u \\times v\\| = \\|u\\|\\|v\\|\\sin(\\theta)\n",
        "\\]\n",
        "   where θ is the angle between u and v.  \n",
        "   → Represents the **area of the parallelogram** spanned by u and v.  \n",
        "\n",
        "---\n",
        "\n",
        "###  Physical Meaning\n",
        "- **Perpendicularity** → gives a vector orthogonal to the plane of u and v.  \n",
        "- **Magnitude** → gives area spanned by u and v.  \n",
        "- Used in:\n",
        "  - Torque = \\(r \\times F\\) (rotation from force).  \n",
        "  - Normal vectors to surfaces.  \n",
        "  - 3D graphics & physics for orientation.\n",
        "\n",
        "---\n",
        "\n",
        "###  Example\n",
        "Let \\(u = [1, 2, 3]\\), \\(v = [4, 5, 6]\\).  \n",
        "\\[\n",
        "u \\times v = [-3, 6, -3]\n",
        "\\]  \n",
        "\\[\n",
        "\\|u \\times v\\| = \\sqrt{(-3)^2 + 6^2 + (-3)^2} = \\sqrt{54} = 7.35\n",
        "\\]\n"
      ],
      "metadata": {
        "id": "6dtiZAb9HcG7"
      }
    },
    {
      "cell_type": "code",
      "source": [
        "import numpy as np\n",
        "\n",
        "v = np.array([1,2,3])\n",
        "u = np.array([4,5,6])\n",
        "\n",
        "cross = np.cross(u,v)\n",
        "magnitude = np.linalg.norm(cross)\n",
        "\n",
        "\n",
        "print(\"Vector u:\", u)\n",
        "print(\"Vector v:\", v)\n",
        "print(\"Cross product u × v =\", cross)\n",
        "print(\"Magnitude of u × v =\", magnitude)"
      ],
      "metadata": {
        "colab": {
          "base_uri": "https://localhost:8080/"
        },
        "id": "9BxuQUZACwWz",
        "outputId": "a551fb49-4103-4c4a-e04f-54bfd94f4cc8"
      },
      "execution_count": null,
      "outputs": [
        {
          "output_type": "stream",
          "name": "stdout",
          "text": [
            "Vector u: [4 5 6]\n",
            "Vector v: [1 2 3]\n",
            "Cross product u × v = [ 3 -6  3]\n",
            "Magnitude of u × v = 7.3484692283495345\n"
          ]
        }
      ]
    },
    {
      "cell_type": "markdown",
      "source": [
        "#  Physical Meaning of Dot Product vs Cross Product\n",
        "\n",
        "###  Dot Product (u · v)\n",
        "- **Formula**:\n",
        "\\[\n",
        "u \\cdot v = \\|u\\| \\|v\\| \\cos(\\theta)\n",
        "\\]\n",
        "\n",
        "- **Geometric Meaning**:  \n",
        "  - Measures **alignment** of two vectors.  \n",
        "  - Scalar result = \"shadow\" of one vector on another.  \n",
        "\n",
        "- **Physical Examples**:  \n",
        "  - Work = Force · Displacement → how much of the force is applied in the direction of motion.  \n",
        "  - Projection of one vector onto another.  \n",
        "  - Similarity in ML (cosine similarity).  \n",
        "\n",
        "---\n",
        "\n",
        "###  Cross Product (u × v)\n",
        "- **Formula**:  \n",
        "\\[\n",
        "\\|u \\times v\\| = \\|u\\| \\|v\\| \\sin(\\theta)\n",
        "\\]\n",
        "Direction ⟂ to both u and v.  \n",
        "\n",
        "- **Geometric Meaning**:  \n",
        "  - Produces a new vector **perpendicular to the plane** of u and v.  \n",
        "  - Magnitude = **area** of parallelogram spanned by u and v.  \n",
        "\n",
        "- **Physical Examples**:  \n",
        "  - Torque = r × F (rotation caused by force).  \n",
        "  - Angular momentum.  \n",
        "  - Finding normal vectors to surfaces (3D geometry, graphics).  \n",
        "\n",
        "---\n",
        "\n",
        "###  Comparison\n",
        "| Operation     | Result  | Meaning | Physical Use |\n",
        "|---------------|---------|---------|--------------|\n",
        "| Dot Product   | Scalar  | Alignment (projection) | Work, similarity |\n",
        "| Cross Product | Vector  | Perpendicular + Area   | Torque, normals |\n"
      ],
      "metadata": {
        "id": "IRq55y9sH7OR"
      }
    },
    {
      "cell_type": "code",
      "source": [],
      "metadata": {
        "id": "P-8SGWgbCwnt"
      },
      "execution_count": null,
      "outputs": []
    },
    {
      "cell_type": "markdown",
      "source": [
        "#  Dot Product and Cross Product as Linear Transformations\n",
        "\n",
        "### Dot Product:\n",
        "- Dot product of u and v: u · v = ||u|| ||v|| cos(θ), measures alignment; projection of v onto u: proj_u(v) = (u · v / ||u||²) * u.\n",
        "\n",
        "### Cross Product:\n",
        "- Cross product of u and v: u × v = skew-symmetric matrix of u applied to v; gives a vector perpendicular to both, magnitude = area of parallelogram spanned by u and v; can be written as T_u(v) = [[0, -u3, u2],[u3,0,-u1],[-u2,u1,0]] @ v.\n",
        "**bold text**"
      ],
      "metadata": {
        "id": "L6UkMhJVLCJ_"
      }
    },
    {
      "cell_type": "code",
      "source": [
        "import numpy as np\n",
        "u = np.array([2,1,0])\n",
        "v = np.array([1,3,5])\n",
        "\n",
        "# dot product and projection\n",
        "dot = np.dot(u,v)\n",
        "projection = np.array(dot / np.dot(u,u) *u)\n",
        "\n",
        "print(\"Dot product u.v =\", dot)\n",
        "print(\"cross product v onto u =\",projection)\n",
        "\n",
        "# --- Cross Product as Linear Transformation ---\n",
        "T_u = np.array([[0, -u[2], u[1]],\n",
        "                [u[2], 0, -u[0]],\n",
        "                [-u[1], u[0], 0]])\n",
        "\n",
        "cross_v = T_u @ v\n",
        "cross_direct = np.cross(u, v)\n",
        "\n",
        "print(\"Cross product via matrix T_u:\", cross_v)\n",
        "print(\"Cross product via np.cross:\", cross_direct)"
      ],
      "metadata": {
        "colab": {
          "base_uri": "https://localhost:8080/"
        },
        "id": "d6RaQnqbMtEg",
        "outputId": "3f5b10bd-9a2b-4d36-8c92-2a7450e42a46"
      },
      "execution_count": null,
      "outputs": [
        {
          "output_type": "stream",
          "name": "stdout",
          "text": [
            "Dot product u.v = 5\n",
            "cross product v onto u = [2. 1. 0.]\n",
            "Cross product via matrix T_u: [  5 -10   5]\n",
            "Cross product via np.cross: [  5 -10   5]\n"
          ]
        }
      ]
    }
  ]
}
