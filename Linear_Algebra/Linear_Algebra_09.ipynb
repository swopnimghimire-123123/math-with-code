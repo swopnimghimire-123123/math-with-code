{
  "nbformat": 4,
  "nbformat_minor": 0,
  "metadata": {
    "colab": {
      "provenance": [],
      "authorship_tag": "ABX9TyNNR1Q69fd/yG7amxuGp2UR",
      "include_colab_link": true
    },
    "kernelspec": {
      "name": "python3",
      "display_name": "Python 3"
    },
    "language_info": {
      "name": "python"
    }
  },
  "cells": [
    {
      "cell_type": "markdown",
      "metadata": {
        "id": "view-in-github",
        "colab_type": "text"
      },
      "source": [
        "<a href=\"https://colab.research.google.com/github/swopnimghimire-123123/Maths_For_ML/blob/main/Linear_Algebra_09.ipynb\" target=\"_parent\"><img src=\"https://colab.research.google.com/assets/colab-badge.svg\" alt=\"Open In Colab\"/></a>"
      ]
    },
    {
      "cell_type": "markdown",
      "source": [
        "#  Change of Basis\n",
        "\n",
        "###  Idea\n",
        "- A vector can be represented in **different coordinate systems (bases)**.  \n",
        "- Standard basis in 2D: i = [1,0], j = [0,1].  \n",
        "- Another basis B = {b1, b2} can be any two linearly independent vectors.  \n",
        "- Change of basis = represent vector v in terms of **new basis B**.\n",
        "\n",
        "---\n",
        "\n",
        "###  Formula\n",
        "- Let P = [b1 b2] (matrix with new basis vectors as columns).  \n",
        "- If v_old = coordinates in standard basis, then  \n",
        "\\[\n",
        "v_{new} = P^{-1} v_{old}\n",
        "\\]  \n",
        "- Conversely, to go back:  \n",
        "\\[\n",
        "v_{old} = P v_{new}\n",
        "\\]\n",
        "\n",
        "###  Geometric Meaning\n",
        "- We are **re-expressing the same vector along new directions**.  \n",
        "- Coordinates change, vector itself does not.\n"
      ],
      "metadata": {
        "id": "OIr7XQiCUPtW"
      }
    },
    {
      "cell_type": "code",
      "execution_count": null,
      "metadata": {
        "colab": {
          "base_uri": "https://localhost:8080/"
        },
        "id": "ZpP66NeNUFrQ",
        "outputId": "e48c8f50-ea88-4aa3-8750-81b1faccca90"
      },
      "outputs": [
        {
          "output_type": "stream",
          "name": "stdout",
          "text": [
            "Vector v in standard basis : [5 4]\n",
            "Vector v in new basis B: [1. 2.]\n",
            "Vector v in old basis : [5. 4.]\n"
          ]
        }
      ],
      "source": [
        "import numpy as np\n",
        "\n",
        "# original vector in standard basis\n",
        "v = np.array([5,4])\n",
        "\n",
        "# new basis vector\n",
        "b1 = np.array([3,2])\n",
        "b2 = np.array([1,1])\n",
        "\n",
        "# basis matrix\n",
        "basis = np.column_stack((b1,b2))\n",
        "\n",
        "# coordinate of v in new basis\n",
        "v_new = np.linalg.inv(basis) @ v\n",
        "print(\"Vector v in standard basis :\",v)\n",
        "print(\"Vector v in new basis B:\",v_new)\n",
        "\n",
        "# converting the new vector again into the standard basis\n",
        "v_old = basis @ v_new\n",
        "print(\"Vector v in old basis :\",v_old)"
      ]
    },
    {
      "cell_type": "markdown",
      "source": [
        "#  Change of Basis in 3D\n",
        "\n",
        "###  Idea\n",
        "- A vector v in ℝ³ can be expressed in different bases.  \n",
        "- Standard basis: i = [1,0,0], j = [0,1,0], k = [0,0,1]  \n",
        "- New basis B = {b1, b2, b3}, where b1, b2, b3 are linearly independent vectors.  \n",
        "- Change of basis = represent v in **new basis B**.\n",
        "\n",
        "---\n",
        "\n",
        "###  Formula\n",
        "- Basis matrix: P = [b1 b2 b3] (columns are new basis vectors).  \n",
        "- Coordinates in new basis:  \n",
        "\\[\n",
        "v_{new} = P^{-1} v_{old}\n",
        "\\]  \n",
        "- Convert back to standard basis:  \n",
        "\\[\n",
        "v_{old} = P v_{new}\n",
        "\\]\n",
        "\n",
        "###  Geometric Meaning\n",
        "- Vector itself **does not change**, only its **coordinates along new directions** change.\n"
      ],
      "metadata": {
        "id": "3tqklzEkVPW1"
      }
    },
    {
      "cell_type": "code",
      "source": [
        "import numpy as np\n",
        "\n",
        "# original vector in standar basis\n",
        "v = np.array([4,5,6])\n",
        "print(\"Original Vector:\\n\",v,\"\\n\")\n",
        "\n",
        "# new basis vectors\n",
        "b1 = np.array([3,2,1])\n",
        "b2 = np.array([1,1,0])\n",
        "b3 = np.array([5,6,7])\n",
        "basis = np.column_stack((b1,b2,b3))\n",
        "print(\"New basis:\\n\",basis,\"\\n\")\n",
        "\n",
        "# coordinate in new basis\n",
        "v_new = np.linalg.inv(basis) @ v\n",
        "print(\"Vector in new basis:\\n\",v_new,\"\\n\")\n",
        "\n",
        "# convert back to standard basis\n",
        "v_old = basis @ v_new\n",
        "print(\"Vector in old basis:\\n\",v_old)"
      ],
      "metadata": {
        "colab": {
          "base_uri": "https://localhost:8080/"
        },
        "id": "Fm8KnaRWUJYH",
        "outputId": "774f17b6-8c64-439d-86e2-e9c4052548ff"
      },
      "execution_count": null,
      "outputs": [
        {
          "output_type": "stream",
          "name": "stdout",
          "text": [
            "Original Vector:\n",
            " [4 5 6] \n",
            "\n",
            "New basis:\n",
            " [[3 1 5]\n",
            " [2 1 6]\n",
            " [1 0 7]] \n",
            "\n",
            "Vector in new basis:\n",
            " [-1.2500000e-01  8.8817842e-16  8.7500000e-01] \n",
            "\n",
            "Vector in old basis:\n",
            " [4. 5. 6.]\n"
          ]
        }
      ]
    },
    {
      "cell_type": "markdown",
      "source": [
        "#  Change of Basis – Story Version\n",
        "\n",
        "Imagine you are an explorer in a 3D world. You have your usual **map directions**: North (x-axis), East (y-axis), and Up (z-axis). This is your **standard basis**.  \n",
        "\n",
        "Now, you find a **new local map** that uses directions based on landmarks:  \n",
        "- b1 = direction to the mountain  \n",
        "- b2 = direction to the river  \n",
        "- b3 = direction to the tree  \n",
        "\n",
        "These are your **new basis vectors**.  \n",
        "\n",
        "You have a treasure at a point v = [4, 3, 5] in your original map (standard basis).  \n",
        "- To explain the treasure’s location using the **local map directions**, you compute **coordinates along b1, b2, b3**.  \n",
        "- This is exactly what **Change of Basis** does: it tells you **how far along each new landmark direction you need to go** to reach the same treasure.  \n",
        "\n",
        "Mathematically:  \n",
        "- Put your landmarks as columns in a matrix P = [b1 b2 b3].  \n",
        "- Coordinates in new map (basis B): v_new = P⁻¹ · v.  \n",
        "- To go back to standard map: v = P · v_new.  \n",
        "\n",
        " **Key Idea**: The treasure (vector) doesn’t move. Only the **way you describe it** changes depending on your reference directions.\n"
      ],
      "metadata": {
        "id": "dJodT_8UYRSZ"
      }
    },
    {
      "cell_type": "code",
      "source": [
        "# Story example in python\n",
        "import numpy as np\n",
        "\n",
        "# Tresure location in standard map\n",
        "v = np.array([4,3,5])\n",
        "print(\"Original Vector :\",v)\n",
        "# New landmark directions (basis)\n",
        "b1 = np.array([1, 0, 1])\n",
        "b2 = np.array([0, 2, 1])\n",
        "b3 = np.array([1, -1, 1])\n",
        "\n",
        "p = np.column_stack((b1,b2,b3))\n",
        "\n",
        "# coordinates of treasure in new map\n",
        "v_new = np.linalg.inv(p) @ v\n",
        "print(\"Tresure coordinates in new basis:\",v_new)\n",
        "\n",
        "# Back to standard map\n",
        "v_old = p @ v_new\n",
        "print(\"Tresure coordinates in old basis:\",v_old)"
      ],
      "metadata": {
        "colab": {
          "base_uri": "https://localhost:8080/"
        },
        "id": "NikVzX6gUJa4",
        "outputId": "c92aa94a-57c0-43d1-b5e0-c1006af1d4d7"
      },
      "execution_count": null,
      "outputs": [
        {
          "output_type": "stream",
          "name": "stdout",
          "text": [
            "Original Vector : [4 3 5]\n",
            "Tresure coordinates in new basis: [ 5.  1. -1.]\n",
            "Tresure coordinates in old basis: [4. 3. 5.]\n"
          ]
        }
      ]
    },
    {
      "cell_type": "markdown",
      "source": [
        "#  Extra Insights on Change of Basis\n",
        "\n",
        "1. **Vectors themselves don’t change**  \n",
        "   - Only their **coordinates** change depending on which basis you use.  \n",
        "   - Geometrically, the vector “stays in the same place in space,” but its description changes.\n",
        "\n",
        "2. **Basis must be linearly independent**  \n",
        "   - If the basis vectors are not independent, the inverse P⁻¹ does not exist, and you cannot compute the new coordinates.\n",
        "\n",
        "3. **Change of basis + Linear Transformation**  \n",
        "   - If you have a transformation T (matrix) in the standard basis and you switch to a new basis B:  \n",
        "     \\[\n",
        "     [T]_B = P^{-1} \\, T \\, P\n",
        "     \\]  \n",
        "     - This gives the **matrix of T in the new basis**.  \n",
        "     - Useful in diagonalization, rotations, or simplifying computations.\n",
        "\n",
        "4. **Intuition in physics / graphics**  \n",
        "   - Change of basis = “looking at the same vector from a different set of axes.”  \n",
        "   - Common in computer graphics (object vs world coordinates) and physics (local vs global frames).\n",
        "\n",
        "5. **Shortcut for simple 2D / 3D cases**  \n",
        "   - For small systems, sometimes you can **solve directly using linear combination of basis vectors** without computing P⁻¹ explicitly.\n",
        "\n",
        "6. **Story reinforcement**  \n",
        "   - Standard map = your usual coordinate system.  \n",
        "   - New map = new landmarks / directions.  \n",
        "   - Treasure = the vector.  \n",
        "   - Coordinates change → how far to go along each new landmark.  \n",
        "\n",
        "**Summary**: Change of basis = **re-describing vectors in terms of new reference directions**, keeping the vector itself fixed in space.\n"
      ],
      "metadata": {
        "id": "WFd6P2oJZ1BJ"
      }
    }
  ]
}
