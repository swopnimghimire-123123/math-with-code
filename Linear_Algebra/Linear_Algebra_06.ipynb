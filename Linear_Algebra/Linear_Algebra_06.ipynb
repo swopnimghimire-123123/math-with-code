{
  "nbformat": 4,
  "nbformat_minor": 0,
  "metadata": {
    "colab": {
      "provenance": [],
      "authorship_tag": "ABX9TyOSErAPVfSLAfnKAoi2wDmd",
      "include_colab_link": true
    },
    "kernelspec": {
      "name": "python3",
      "display_name": "Python 3"
    },
    "language_info": {
      "name": "python"
    }
  },
  "cells": [
    {
      "cell_type": "markdown",
      "metadata": {
        "id": "view-in-github",
        "colab_type": "text"
      },
      "source": [
        "<a href=\"https://colab.research.google.com/github/swopnimghimire-123123/Maths_For_ML/blob/main/Linear_Algebra_06.ipynb\" target=\"_parent\"><img src=\"https://colab.research.google.com/assets/colab-badge.svg\" alt=\"Open In Colab\"/></a>"
      ]
    },
    {
      "cell_type": "markdown",
      "source": [
        "# Inverse matrices, column space, and null space"
      ],
      "metadata": {
        "id": "BSWwL1S1PIkH"
      }
    },
    {
      "cell_type": "markdown",
      "source": [
        "# 📌 Inverse Matrices\n",
        "\n",
        "### 🔹 Definition\n",
        "- The **inverse** of a square matrix \\(A\\) is a matrix \\(A^{-1}\\) such that:\n",
        "\\[\n",
        "A \\cdot A^{-1} = A^{-1} \\cdot A = I\n",
        "\\]  \n",
        "where \\(I\\) is the identity matrix.\n",
        "\n",
        "- Only **non-singular matrices** (determinant ≠ 0) have inverses.\n",
        "\n",
        "---\n",
        "\n",
        "### 🔹 Formulas\n",
        "\n",
        "**2D Matrix**\n",
        "\\[\n",
        "A = \\begin{bmatrix} a & b \\\\ c & d \\end{bmatrix}, \\quad\n",
        "A^{-1} = \\frac{1}{\\det(A)} \\begin{bmatrix} d & -b \\\\ -c & a \\end{bmatrix}\n",
        "\\]\n",
        "\n",
        "**3D Matrix**\n",
        "- More complex; typically computed using **cofactor matrix and determinant**:\n",
        "\\[\n",
        "A^{-1} = \\frac{1}{\\det(A)} \\text{Adj}(A)\n",
        "\\]\n",
        "\n",
        "---\n",
        "\n",
        "### 🔹 Physical Meaning\n",
        "1. **Undoing a transformation**  \n",
        "   - If \\(A\\) transforms vector \\(v\\) to \\(v'\\) (\\(v' = A v\\)),  \n",
        "     then \\(A^{-1}\\) brings it back: \\(v = A^{-1} v'\\).\n",
        "\n",
        "2. **Geometric Interpretation**\n",
        "   - Scaling, rotation, reflection, shear → inverse applies the **opposite effect**.  \n",
        "   - Example: a rotation of 90° clockwise → inverse rotates 90° counterclockwise.\n",
        "\n",
        "3. **Important**\n",
        "   - If \\(\\det(A) = 0\\), there is **no inverse**, because the transformation collapses space (cannot undo it).\n",
        "\n",
        "---\n"
      ],
      "metadata": {
        "id": "mAuSmiiNQkcJ"
      }
    },
    {
      "cell_type": "code",
      "execution_count": null,
      "metadata": {
        "colab": {
          "base_uri": "https://localhost:8080/"
        },
        "id": "P9phl5QsPCgr",
        "outputId": "434fd84c-45a9-41f1-964e-83ef737f9907"
      },
      "outputs": [
        {
          "output_type": "stream",
          "name": "stdout",
          "text": [
            "2D Matrix:\n",
            " [[2 1]\n",
            " [3 4]]\n",
            "Inverse:\n",
            " [[ 0.8 -0.2]\n",
            " [-0.6  0.4]]\n",
            "Check A * A_inv:\n",
            " [[1. 0.]\n",
            " [0. 1.]]\n",
            "\n",
            "3D Matrix:\n",
            " [[1 2 3]\n",
            " [0 4 5]\n",
            " [1 0 6]]\n",
            "Inverse:\n",
            " [[ 1.09090909 -0.54545455 -0.09090909]\n",
            " [ 0.22727273  0.13636364 -0.22727273]\n",
            " [-0.18181818  0.09090909  0.18181818]]\n",
            "Check A * A_inv:\n",
            " [[ 1.00000000e+00  2.77555756e-17  5.55111512e-17]\n",
            " [ 5.55111512e-17  1.00000000e+00 -5.55111512e-17]\n",
            " [-1.11022302e-16  5.55111512e-17  1.00000000e+00]]\n"
          ]
        }
      ],
      "source": [
        "import numpy as np\n",
        "\n",
        "# 2D matrix example\n",
        "A2 = np.array([[2, 1],\n",
        "               [3, 4]])\n",
        "A2_inv = np.linalg.inv(A2)\n",
        "print(\"2D Matrix:\\n\", A2)\n",
        "print(\"Inverse:\\n\", A2_inv)\n",
        "print(\"Check A * A_inv:\\n\", A2 @ A2_inv)\n",
        "\n",
        "# 3D matrix example\n",
        "A3 = np.array([[1, 2, 3],\n",
        "               [0, 4, 5],\n",
        "               [1, 0, 6]])\n",
        "A3_inv = np.linalg.inv(A3)\n",
        "print(\"\\n3D Matrix:\\n\", A3)\n",
        "print(\"Inverse:\\n\", A3_inv)\n",
        "print(\"Check A * A_inv:\\n\", A3 @ A3_inv)"
      ]
    },
    {
      "cell_type": "markdown",
      "source": [
        "# 📌 Column Space of a Matrix\n",
        "\n",
        "### 🔹 Definition\n",
        "- The **column space** of a matrix \\(A\\) is the set of all possible **linear combinations of its columns**.  \n",
        "- Denoted as **Col(A)**.  \n",
        "- If \\(A\\) is \\(m \\times n\\) (m rows, n columns), the column space is a **subspace of ℝ^m**.\n",
        "\n",
        "---\n",
        "\n",
        "### 🔹 Physical Meaning\n",
        "1. Each column of the matrix is a vector in **m-dimensional space**.  \n",
        "2. The column space represents all the **vectors that can be reached** by linearly combining the columns.  \n",
        "3. In terms of **linear transformation**:  \n",
        "   - If \\(A\\) maps vectors from ℝ^n → ℝ^m, the column space is the set of all **possible outputs** of the transformation.\n",
        "\n",
        "---\n",
        "\n",
        "### 🔹 Example\n",
        "Matrix:  \n",
        "\\[\n",
        "A = \\begin{bmatrix} 1 & 2 \\\\ 3 & 4 \\\\ 5 & 6 \\end{bmatrix}\n",
        "\\]  \n",
        "- Columns: \\(c_1 = [1,3,5]^T, c_2 = [2,4,6]^T\\)  \n",
        "- Column space = all vectors of the form \\(x c_1 + y c_2\\) for scalars \\(x, y\\).\n",
        "\n",
        "---\n",
        "\n"
      ],
      "metadata": {
        "id": "pNs_V09QSX8e"
      }
    },
    {
      "cell_type": "code",
      "source": [
        "import numpy as np\n",
        "a = np.array([[1,2],\n",
        "              [3,4],\n",
        "              [5,6]])\n",
        "\n",
        "# compute the rank to understand the dimension of column space\n",
        "rank = np.linalg.matrix_rank(a)\n",
        "print(\"Matrix a:\\n\",a)\n",
        "print(\"Rank (dimension of column space):\",rank)\n",
        "\n",
        "# colum space = linear combination of columns\n",
        "# for visualization, we can get the columns as vectors\n",
        "c1 = a[:,0]\n",
        "c2 = a[:,1]\n",
        "print(\"Column 1:\",c1)\n",
        "print(\"Column 2:\",c2)\n",
        "\n",
        "# Example: a linear combination\n",
        "x, y = 2, -1\n",
        "v = x * c1 + y * c2\n",
        "print(f\"Example linear combination: 2*c1 - 1*c2 =\", v)"
      ],
      "metadata": {
        "colab": {
          "base_uri": "https://localhost:8080/"
        },
        "id": "MBvSTW4zPKty",
        "outputId": "5439b0da-8514-47f1-f6ff-f32695a78338"
      },
      "execution_count": null,
      "outputs": [
        {
          "output_type": "stream",
          "name": "stdout",
          "text": [
            "Matrix a:\n",
            " [[1 2]\n",
            " [3 4]\n",
            " [5 6]]\n",
            "Rank (dimension of column space): 2\n",
            "Column 1: [1 3 5]\n",
            "Column 2: [2 4 6]\n",
            "Example linear combination: 2*c1 - 1*c2 = [0 2 4]\n"
          ]
        }
      ]
    },
    {
      "cell_type": "markdown",
      "source": [
        "# 📌 Null Space of a Matrix\n",
        "\n",
        "### 🔹 Definition\n",
        "- The **null space** (or kernel) of a matrix \\(A\\) is the set of all vectors \\(x\\) such that:  \n",
        "\\[\n",
        "A \\cdot x = 0\n",
        "\\]  \n",
        "- Denoted as **Null(A)**.  \n",
        "- If \\(A\\) is \\(m \\times n\\), the null space is a **subspace of ℝ^n**.\n",
        "\n",
        "---\n",
        "\n",
        "### 🔹 Physical Meaning\n",
        "1. The null space contains all vectors that are **mapped to the zero vector** by the linear transformation \\(A\\).  \n",
        "2. Geometrically: these are directions that get **collapsed** by the transformation.  \n",
        "3. Dimension of null space = **n − rank(A)** (number of free variables).\n",
        "\n",
        "---\n",
        "\n",
        "### 🔹 Example\n",
        "Matrix:  \n",
        "\\[\n",
        "A = \\begin{bmatrix} 1 & 2 & 3 \\\\ 4 & 5 & 6 \\end{bmatrix}\n",
        "\\]  \n",
        "- Null space = all vectors \\([x, y, z]^T\\) satisfying:  \n",
        "\\[\n",
        "1x + 2y + 3z = 0, \\quad 4x + 5y + 6z = 0\n",
        "\\]  \n",
        "- Any vector in null space is **sent to [0,0]^T**.\n",
        "\n"
      ],
      "metadata": {
        "id": "XwQp_BtjUAQu"
      }
    },
    {
      "cell_type": "code",
      "source": [
        "import numpy as np\n",
        "from scipy.linalg import null_space\n",
        "\n",
        "a = np.array([[1,2,3],\n",
        "              [4,5,6]])\n",
        "\n",
        "# computer null space\n",
        "N = null_space(a)\n",
        "print(\"Matrix a:\\n\",a)\n",
        "print(\"Null Space:\\n\",N)\n",
        "\n",
        "print(N.shape)\n",
        "# Any linear combination of these basis vectors is in null space\n",
        "v = 2*N[:,0] - 3*N[:,1] if N.shape[1] > 1 else 3*N[:,0]\n",
        "print(\"Example vector in null space:\", v)\n",
        "\n",
        "# Verification\n",
        "print(\"A @ v =\", a @ v)  # Should be (approximately) zero vector"
      ],
      "metadata": {
        "colab": {
          "base_uri": "https://localhost:8080/"
        },
        "id": "CPpgXH7ZPKw9",
        "outputId": "e6477ef6-0f6f-4ee3-a7fd-a9c374ae57c6"
      },
      "execution_count": null,
      "outputs": [
        {
          "output_type": "stream",
          "name": "stdout",
          "text": [
            "Matrix a:\n",
            " [[1 2 3]\n",
            " [4 5 6]]\n",
            "Null Space:\n",
            " [[ 0.40824829]\n",
            " [-0.81649658]\n",
            " [ 0.40824829]]\n",
            "(3, 1)\n",
            "Example vector in null space: [ 1.22474487 -2.44948974  1.22474487]\n",
            "A @ v = [8.8817842e-16 0.0000000e+00]\n"
          ]
        }
      ]
    },
    {
      "cell_type": "markdown",
      "source": [
        "# 📌 Nonsquare Matrices as Transformations Between Dimensions\n",
        "\n",
        "### 🔹 Definition\n",
        "- A **nonsquare matrix** has dimensions **m × n** where m ≠ n.  \n",
        "- It represents a linear transformation:  \n",
        "\\[\n",
        "A: \\mathbb{R}^n \\to \\mathbb{R}^m\n",
        "\\]  \n",
        "- Input vectors have **n components**, output vectors have **m components**.  \n",
        "\n",
        "---\n",
        "\n",
        "### 🔹 Physical Meaning\n",
        "1. **Dimension change**\n",
        "   - If m > n → transformation **expands to higher dimension** (embedding).  \n",
        "   - If m < n → transformation **reduces to lower dimension** (projection).  \n",
        "\n",
        "2. **Column space**\n",
        "   - Columns of A live in ℝ^m.  \n",
        "   - All possible outputs = **column space of A**.  \n",
        "\n",
        "3. **Null space**\n",
        "   - Vectors in ℝ^n mapped to 0 form the **null space**.  \n",
        "   - Dimension = n − rank(A).  \n",
        "\n",
        "4. **No standard inverse**\n",
        "   - Only square, full-rank matrices have inverses.  \n",
        "   - Nonsquare matrices can have **pseudoinverse** for solving `Ax = b`.\n",
        "\n",
        "---\n",
        "\n",
        "### 🔹 Example\n",
        "Matrix \\(A: \\mathbb{R}^3 \\to \\mathbb{R}^2\\):  \n",
        "\\[\n",
        "A = \\begin{bmatrix} 1 & 2 & 3 \\\\ 4 & 5 & 6 \\end{bmatrix}\n",
        "\\]  \n",
        "\n",
        "- Input vector: \\(v = [x, y, z]^T \\in \\mathbb{R}^3\\)  \n",
        "- Output vector: \\(A v \\in \\mathbb{R}^2\\)  \n",
        "\n",
        "- Column space → plane in ℝ² spanned by `[1,4]` and `[2,5]`  \n",
        "- Null space → line in ℝ³ along which input vectors get collapsed to 0.\n",
        "\n",
        "---\n",
        "\n"
      ],
      "metadata": {
        "id": "Ri5dm7jWVqXH"
      }
    },
    {
      "cell_type": "code",
      "source": [
        "#  Example: Nonsquare Matrix Transformation\n",
        "import numpy as np\n",
        "from scipy.linalg import null_space\n",
        "\n",
        "# 2x3 matrix (maps R^3 → R^2)\n",
        "A = np.array([[1, 2, 3],\n",
        "              [4, 5, 6]])\n",
        "\n",
        "v = np.array([1, 0, -1])  # example input vector in R^3\n",
        "output = A @ v            # transformed vector in R^2\n",
        "\n",
        "print(\"Matrix A:\\n\", A)\n",
        "print(\"Input vector v:\", v)\n",
        "print(\"Output vector A @ v:\", output)\n",
        "\n",
        "# Null space (vectors in R^3 mapped to 0)\n",
        "N = null_space(A)\n",
        "print(\"Null space basis vectors:\\n\", N)\n",
        "\n",
        "# Example linear combination in null space\n",
        "if N.shape[1] > 0:\n",
        "    v_null = 2*N[:,0]\n",
        "    print(\"Example vector in null space:\", v_null)\n",
        "    print(\"Check A @ v_null:\", A @ v_null)\n"
      ],
      "metadata": {
        "colab": {
          "base_uri": "https://localhost:8080/"
        },
        "id": "5peKusIcPK0E",
        "outputId": "c85af684-fae4-4c6a-9451-76bc943603bb"
      },
      "execution_count": null,
      "outputs": [
        {
          "output_type": "stream",
          "name": "stdout",
          "text": [
            "Matrix A:\n",
            " [[1 2 3]\n",
            " [4 5 6]]\n",
            "Input vector v: [ 1  0 -1]\n",
            "Output vector A @ v: [-2 -2]\n",
            "Null space basis vectors:\n",
            " [[ 0.40824829]\n",
            " [-0.81649658]\n",
            " [ 0.40824829]]\n",
            "Example vector in null space: [ 0.81649658 -1.63299316  0.81649658]\n",
            "Check A @ v_null: [4.4408921e-16 0.0000000e+00]\n"
          ]
        }
      ]
    }
  ]
}
