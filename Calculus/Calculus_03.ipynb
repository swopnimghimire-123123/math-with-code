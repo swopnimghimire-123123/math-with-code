{
  "nbformat": 4,
  "nbformat_minor": 0,
  "metadata": {
    "colab": {
      "provenance": [],
      "authorship_tag": "ABX9TyPo5OnUtnQjrEFSUQwBqFti",
      "include_colab_link": true
    },
    "kernelspec": {
      "name": "python3",
      "display_name": "Python 3"
    },
    "language_info": {
      "name": "python"
    }
  },
  "cells": [
    {
      "cell_type": "markdown",
      "metadata": {
        "id": "view-in-github",
        "colab_type": "text"
      },
      "source": [
        "<a href=\"https://colab.research.google.com/github/swopnimghimire-123123/Maths_For_ML/blob/main/Calculus_03.ipynb\" target=\"_parent\"><img src=\"https://colab.research.google.com/assets/colab-badge.svg\" alt=\"Open In Colab\"/></a>"
      ]
    },
    {
      "cell_type": "markdown",
      "source": [
        "# Power Rule for Derivatives\n",
        "\n",
        "The power rule is a quick way to differentiate functions of the form:\n",
        "\n",
        "f(x) = x^n\n",
        "\n",
        "It states:\n",
        "\n",
        "f'(x) = n * x^(n-1)\n",
        "\n",
        "**Intuition:**\n",
        "1. For small changes Δx, the function f(x) = x^n changes by roughly n * x^(n-1) * Δx.  \n",
        "2. As Δx → 0, this becomes exact.  \n",
        "3. It generalizes the idea that multiplying by the power “pulls it down” and reduces the exponent by 1.\n"
      ],
      "metadata": {
        "id": "HLQxVptZlapy"
      }
    },
    {
      "cell_type": "code",
      "execution_count": null,
      "metadata": {
        "colab": {
          "base_uri": "https://localhost:8080/"
        },
        "id": "xnArWKHGlMZh",
        "outputId": "86e63c85-b6de-47c8-dd93-78c0fcdad6d9"
      },
      "outputs": [
        {
          "output_type": "stream",
          "name": "stdout",
          "text": [
            "f(x) = 2^3,derrivative at x = 2 is 12\n"
          ]
        }
      ],
      "source": [
        "# defining the fucntion\n",
        "def f(x,n):\n",
        "  return x**n\n",
        "\n",
        "# how power rull works\n",
        "def derrivative_power_rule(x,n):\n",
        "  return n * x**(n-1)\n",
        "\n",
        "# example\n",
        "x = 2\n",
        "n = 3\n",
        "\n",
        "# using the power rule\n",
        "slope = derrivative_power_rule(x,n)\n",
        "\n",
        "# printing the result\n",
        "print(f\"f(x) = {x}^{n},derrivative at x = {x} is {slope}\")"
      ]
    },
    {
      "cell_type": "markdown",
      "source": [
        "## Geometric Intuition of the Power Rule\n",
        "\n",
        "Consider f(x) = x^n.  \n",
        "\n",
        "1. **Derivative = slope of the curve** at a point.  \n",
        "2. Imagine a tiny horizontal change Δx at some x.  \n",
        "3. The function changes by Δy ≈ f(x+Δx) - f(x).  \n",
        "\n",
        "For f(x) = x^n:  \n",
        "\n",
        "- The change Δy ≈ (x + Δx)^n - x^n  \n",
        "- Expanding using the binomial theorem:  \n",
        "  (x + Δx)^n = x^n + n*x^(n-1)*Δx + higher order terms  \n",
        "- Ignoring higher-order tiny terms (Δx^2, Δx^3...), we get:  \n",
        "  Δy ≈ n * x^(n-1) * Δx  \n",
        "\n",
        "Divide by Δx → slope ≈ n * x^(n-1)  \n",
        "\n",
        "This shows **why the derivative of x^n is n*x^(n-1)** geometrically:  \n",
        "- The factor n comes from how many “copies of x^(n-1)” appear in the tiny change.  \n",
        "- The exponent decreases by 1 because we are effectively “removing one dimension” along the Δx.\n",
        "\n"
      ],
      "metadata": {
        "id": "CFCTxmbMnS7E"
      }
    },
    {
      "cell_type": "code",
      "source": [
        "def f(x):\n",
        "    return x**3  # example x^3\n",
        "\n",
        "x_point = 2\n",
        "h = 1e-5\n",
        "\n",
        "# Slope using limit approximation\n",
        "slope_numerical = (f(x_point + h) - f(x_point)) / h\n",
        "\n",
        "# Slope using power rule formula\n",
        "slope_formula = 3 * x_point**2\n",
        "\n",
        "print(\"Numerical slope at x=2:\", slope_numerical)\n",
        "print(\"Power rule slope at x=2:\", slope_formula)\n"
      ],
      "metadata": {
        "colab": {
          "base_uri": "https://localhost:8080/"
        },
        "id": "SO7sIJdulOcI",
        "outputId": "5dd3a0ae-a41f-426b-df53-559fd9a33849"
      },
      "execution_count": null,
      "outputs": [
        {
          "output_type": "stream",
          "name": "stdout",
          "text": [
            "Numerical slope at x=2: 12.000060000261213\n",
            "Power rule slope at x=2: 12\n"
          ]
        }
      ]
    }
  ]
}
