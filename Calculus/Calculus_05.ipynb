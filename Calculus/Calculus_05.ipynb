{
  "nbformat": 4,
  "nbformat_minor": 0,
  "metadata": {
    "colab": {
      "provenance": [],
      "authorship_tag": "ABX9TyNGVIw5bKSXodWPWix0gh3w",
      "include_colab_link": true
    },
    "kernelspec": {
      "name": "python3",
      "display_name": "Python 3"
    },
    "language_info": {
      "name": "python"
    }
  },
  "cells": [
    {
      "cell_type": "markdown",
      "metadata": {
        "id": "view-in-github",
        "colab_type": "text"
      },
      "source": [
        "<a href=\"https://colab.research.google.com/github/swopnimghimire-123123/Maths_For_ML/blob/main/Calculus_05.ipynb\" target=\"_parent\"><img src=\"https://colab.research.google.com/assets/colab-badge.svg\" alt=\"Open In Colab\"/></a>"
      ]
    },
    {
      "cell_type": "markdown",
      "source": [
        "# Exponential Functions\n",
        "\n",
        "1. **Definition**:\n",
        "   An exponential function has the form f(x) = a^x, where:\n",
        "   - a > 0 and a ≠ 1\n",
        "   - x can be any real number\n",
        "\n",
        "2. **Basic Properties**:\n",
        "   - Growth/decay:\n",
        "     - a > 1 → growth\n",
        "     - 0 < a < 1 → decay\n",
        "   - f(0) = 1\n",
        "   - f(x + y) = f(x) * f(y)\n",
        "\n",
        "3. **Derivative of a^x**:\n",
        "   - d/dx [a^x] = a^x * ln(a)\n",
        "\n",
        "4. **Integral of a^x**:\n",
        "   - ∫ a^x dx = a^x / ln(a) + C\n",
        "\n",
        "5. **Special base**:\n",
        "   - When a = e, the derivative is unique:\n",
        "     - d/dx [e^x] = e^x\n",
        "   - No extra factor ln(a) needed\n"
      ],
      "metadata": {
        "id": "3dHgc64IRZ5R"
      }
    },
    {
      "cell_type": "code",
      "execution_count": null,
      "metadata": {
        "colab": {
          "base_uri": "https://localhost:8080/"
        },
        "id": "E2PK3hsqQ938",
        "outputId": "910c86a0-26e6-413e-ac01-c47965f0ac25"
      },
      "outputs": [
        {
          "output_type": "stream",
          "name": "stdout",
          "text": [
            "General exponential f(x)=a^x derivative: a**x*log(a)\n",
            "General exponential f(x)=a^x integral: Piecewise((a**x/log(a), Ne(log(a), 0)), (x, True))\n",
            "Exponential f(x)=e^x derivative: exp(x)\n",
            "Exponential f(x)=e^x integral: exp(x)\n"
          ]
        }
      ],
      "source": [
        "import sympy as sp\n",
        "\n",
        "x = sp.symbols('x')\n",
        "a = sp.symbols('a', positive=True)\n",
        "\n",
        "# General exponential\n",
        "f = a**x\n",
        "derivative_general = sp.diff(f, x)\n",
        "integral_general = sp.integrate(f, x)\n",
        "\n",
        "# Exponential with base e\n",
        "f_e = sp.exp(x)  # e^x\n",
        "derivative_e = sp.diff(f_e, x)\n",
        "integral_e = sp.integrate(f_e, x)\n",
        "\n",
        "print(\"General exponential f(x)=a^x derivative:\", derivative_general)\n",
        "print(\"General exponential f(x)=a^x integral:\", integral_general)\n",
        "print(\"Exponential f(x)=e^x derivative:\", derivative_e)\n",
        "print(\"Exponential f(x)=e^x integral:\", integral_e)\n"
      ]
    },
    {
      "cell_type": "markdown",
      "source": [
        "### Euler's Number (e)\n",
        "\n",
        "1. **Definition / Limit Form**:  \n",
        "   e can be defined as the limit of continuously compounded growth:\n",
        "   e = lim (n → ∞) (1 + 1/n)^n\n",
        "\n",
        "2. **Key Property in Calculus**:\n",
        "   - The exponential function with base e, f(x) = e^x, has a **unique derivative**:\n",
        "     d/dx [e^x] = e^x\n",
        "   - No extra factor like ln(a) is needed (unlike a^x).\n",
        "\n",
        "3. **Natural Growth / Decay**:\n",
        "   - e arises naturally in continuous growth or decay processes, like:\n",
        "     - Population growth\n",
        "     - Radioactive decay\n",
        "     - Interest compounded continuously\n",
        "\n",
        "4. **Connection to Logarithms**:\n",
        "   - ln(x) is the logarithm base e.\n",
        "   - ln(x) is the **inverse function** of e^x.\n",
        "\n",
        "5. **Series Expansion**:\n",
        "   - e^x can be expressed as an infinite series:\n",
        "     e^x = 1 + x + x^2/2! + x^3/3! + x^4/4! + ...\n",
        "   - This shows e’s deep connection to calculus, as it allows derivatives and integrals term-by-term.\n"
      ],
      "metadata": {
        "id": "Pj59e_QUUPz4"
      }
    },
    {
      "cell_type": "markdown",
      "source": [
        "### Implicit Differentiation\n",
        "\n",
        "1. **What it means**:  \n",
        "   Sometimes equations are given in terms of both x and y, like x^2 + y^2 = 25 (a circle).  \n",
        "   Here, y is not isolated, but we can still find dy/dx using *implicit differentiation*.  \n",
        "\n",
        "2. **How to do it**:  \n",
        "   - Differentiate both sides of the equation with respect to x.  \n",
        "   - Whenever y appears, apply the Chain Rule, because y is a function of x.  \n",
        "   - Solve for dy/dx.  \n",
        "\n",
        "3. **Example**:  \n",
        "   Equation: x^2 + y^2 = 25  \n",
        "   Differentiate: 2x + 2y(dy/dx) = 0  \n",
        "   Solve: dy/dx = -x / y  \n",
        "\n",
        "This gives the slope of the tangent line to the circle at any point (x, y).\n"
      ],
      "metadata": {
        "id": "t1qFSZ5GN_Wo"
      }
    },
    {
      "cell_type": "code",
      "source": [
        "import sympy as sp\n",
        "\n",
        "# Define symbols\n",
        "x, y = sp.symbols('x y')\n",
        "\n",
        "# Example equation: circle\n",
        "equation = x**2 + y**2 - 25\n",
        "\n",
        "# Differentiate implicitly wrt x\n",
        "dydx = sp.diff(equation, x) + sp.diff(equation, y)*sp.Symbol(\"dy/dx\")\n",
        "\n",
        "# Solve for dy/dx\n",
        "solution = sp.solve(dydx, sp.Symbol(\"dy/dx\"))\n",
        "\n",
        "print(\"Equation:\", equation, \"= 0\")\n",
        "print(\"dy/dx =\", solution[0])\n"
      ],
      "metadata": {
        "colab": {
          "base_uri": "https://localhost:8080/"
        },
        "id": "95BRASIYUQC_",
        "outputId": "b3ad5851-d2ce-451b-c06f-d0a57105068a"
      },
      "execution_count": null,
      "outputs": [
        {
          "output_type": "stream",
          "name": "stdout",
          "text": [
            "Equation: x**2 + y**2 - 25 = 0\n",
            "dy/dx = -x/y\n"
          ]
        }
      ]
    },
    {
      "cell_type": "code",
      "source": [
        "import sympy as sp\n",
        "\n",
        "# Defining symbols\n",
        "x,y = sp.symbols('x y')\n",
        "\n",
        "# Define the equation\n",
        "equation = sp.sin(x)*y**2 - x\n",
        "\n",
        "# Differentiate with respect to x on both of the sides\n",
        "dydx = sp.diff(equation,x) + sp.diff(equation,y)*sp.Symbol(\"dy/dx\")\n",
        "\n",
        "# Solve for dy/dx\n",
        "solution = sp.solve(dydx,sp.Symbol(\"dy/dx\"))\n",
        "\n",
        "print(\"Equation:\", equation, \"= 0\")\n",
        "print(\"dy/dx =\", solution[0])"
      ],
      "metadata": {
        "colab": {
          "base_uri": "https://localhost:8080/"
        },
        "id": "bw8O3dxiQu7P",
        "outputId": "11f902de-ce8b-4bac-cea4-2e9ad886a3fb"
      },
      "execution_count": null,
      "outputs": [
        {
          "output_type": "stream",
          "name": "stdout",
          "text": [
            "Equation: -x + y**2*sin(x) = 0\n",
            "dy/dx = (-y**2*cos(x) + 1)/(2*y*sin(x))\n"
          ]
        }
      ]
    },
    {
      "cell_type": "markdown",
      "source": [
        "### Derivative of ln(x)\n",
        "\n",
        "We know: y = ln(x)\n",
        "\n",
        "1. Rewrite in exponential form: e^y = x\n",
        "2. Differentiate both sides wrt x:\n",
        "   d/dx [e^y] = d/dx [x]\n",
        "   e^y * (dy/dx) = 1\n",
        "3. Solve for dy/dx:\n",
        "   dy/dx = 1 / e^y = 1 / x\n",
        "\n",
        "So, d/dx [ln(x)] = 1/x\n"
      ],
      "metadata": {
        "id": "GsfhHO1GSVJw"
      }
    },
    {
      "cell_type": "code",
      "source": [
        "import sympy as sp\n",
        "x,y = sp.symbols(\"x y\")\n",
        "equation = sp.log(x)-y\n",
        "dydx = sp.diff(equation,x) + sp.diff(equation,y)*sp.Symbol(\"dy/dx\")\n",
        "solution = sp.solve(dydx,sp.Symbol(\"dy/dx\"))\n",
        "print(\"Equation:\", equation, \"= 0\")\n",
        "print(\"dy/dx =\", solution[0])"
      ],
      "metadata": {
        "colab": {
          "base_uri": "https://localhost:8080/"
        },
        "id": "6zU1szOaQu_O",
        "outputId": "2748d3fa-1254-4586-d685-2bec239f7440"
      },
      "execution_count": null,
      "outputs": [
        {
          "output_type": "stream",
          "name": "stdout",
          "text": [
            "Equation: -y + log(x) = 0\n",
            "dy/dx = 1/x\n"
          ]
        }
      ]
    },
    {
      "cell_type": "markdown",
      "source": [
        "# Limits (Old Definition)\n",
        "\n",
        "The limit of a function describes the value that the function approaches as\n",
        "the input gets closer and closer to some number.\n",
        "\n",
        "Formally:\n",
        "\\[\n",
        "\\lim_{x \\to a} f(x) = L\n",
        "\\]\n",
        "if \\(f(x)\\) can be made as close to \\(L\\) as we like by making \\(x\\)\n",
        "sufficiently close to \\(a\\).\n",
        "\n",
        "---\n",
        "\n",
        "**Example:**\n",
        "\\[\n",
        "\\lim_{x \\to 2} (x^2 + 3) = 7\n",
        "\\]\n",
        "because when \\(x\\) gets close to 2, the function \\(x^2 + 3\\) gets close to 7.\n"
      ],
      "metadata": {
        "id": "0U_m_x1NUvTJ"
      }
    },
    {
      "cell_type": "code",
      "source": [
        "import sympy as sp\n",
        "\n",
        "# defie the variable and funciton\n",
        "x = sp.symbols(\"x\")\n",
        "f = x**2 +3\n",
        "\n",
        "# compute the limit as x-> 2\n",
        "limit_value = sp.limit(f, x, 2)\n",
        "print(\"Limit of (x**2 + 3) as x-> 2 is:\", limit_value)"
      ],
      "metadata": {
        "colab": {
          "base_uri": "https://localhost:8080/"
        },
        "id": "yqSxV8W4QvCm",
        "outputId": "cdb7b418-e856-41e2-b693-d1fd001f771f"
      },
      "execution_count": null,
      "outputs": [
        {
          "output_type": "stream",
          "name": "stdout",
          "text": [
            "Limit of (x**2 + 3) as x-> 2 is: 7\n"
          ]
        }
      ]
    },
    {
      "cell_type": "markdown",
      "source": [
        "# Epsilon–Delta Definition of Limit\n",
        "\n",
        "The **formal definition** of a limit is:\n",
        "\n",
        "\\[\n",
        "\\lim_{x \\to a} f(x) = L\n",
        "\\]\n",
        "\n",
        "means that:\n",
        "\n",
        "For **every** \\( \\varepsilon > 0 \\) (no matter how small), there exists a\n",
        "\\( \\delta > 0 \\) such that:\n",
        "\n",
        "\\[\n",
        "0 < |x - a| < \\delta \\quad \\implies \\quad |f(x) - L| < \\varepsilon\n",
        "\\]\n",
        "\n",
        "---\n",
        "\n",
        "### Intuition:\n",
        "- \\( \\varepsilon \\) controls how close \\( f(x) \\) must be to the limit \\( L \\).\n",
        "- \\( \\delta \\) controls how close \\( x \\) must be to \\( a \\).\n",
        "- The definition says: if you want \\( f(x) \\) to be within some \"epsilon window\" around \\( L \\), then we can find a \"delta window\" around \\( a \\) that guarantees it.\n"
      ],
      "metadata": {
        "id": "2ynbgOO5aus5"
      }
    },
    {
      "cell_type": "code",
      "source": [
        "import sympy as sp\n",
        "\n",
        "# Example: f(x) = 2x, limit as x -> 3 should be 6\n",
        "x = sp.symbols('x')\n",
        "f = 2*x\n",
        "a = 3\n",
        "L = 6\n",
        "\n",
        "# Let's pick an epsilon\n",
        "epsilon = 0.01  # how close we want f(x) to be to L\n",
        "\n",
        "# Solve for delta: we want |f(x) - L| < epsilon\n",
        "delta_expr = sp.solve(sp.Abs(f - L) < epsilon, x)\n",
        "\n",
        "print(f\"For epsilon = {epsilon}, valid x range is:\", delta_expr)\n"
      ],
      "metadata": {
        "colab": {
          "base_uri": "https://localhost:8080/"
        },
        "id": "jf1ilv9lZzLF",
        "outputId": "be4e4697-51d4-4520-8f86-50843338aa29"
      },
      "execution_count": null,
      "outputs": [
        {
          "output_type": "stream",
          "name": "stdout",
          "text": [
            "For epsilon = 0.01, valid x range is: (2.995 < x) & (x < 3.005)\n"
          ]
        }
      ]
    },
    {
      "cell_type": "markdown",
      "source": [
        "# L'Hôpital's Rule\n",
        "\n",
        "When evaluating limits, sometimes we run into *indeterminate forms* such as:\n",
        "\n",
        "\\[\n",
        "\\frac{0}{0} \\quad \\text{or} \\quad \\frac{\\infty}{\\infty}.\n",
        "\\]\n",
        "\n",
        "**L'Hôpital's Rule** provides a way to resolve these cases:\n",
        "\n",
        "\\[\n",
        "\\lim_{x \\to a} \\frac{f(x)}{g(x)} = \\lim_{x \\to a} \\frac{f'(x)}{g'(x)} \\quad\n",
        "\\text{if the original limit is of the form } \\frac{0}{0} \\text{ or } \\frac{\\infty}{\\infty}.\n",
        "\\]\n",
        "\n",
        "---\n",
        "\n",
        "### Intuition\n",
        "- If both numerator and denominator vanish (or blow up) at the same point, we can compare their **rates of change** instead.\n",
        "- By taking derivatives, we \"zoom in\" on how fast the top and bottom go to 0 (or ∞).  \n",
        "- Sometimes we need to apply the rule **more than once** until the indeterminate form disappears.\n"
      ],
      "metadata": {
        "id": "ksb-9iYdbOd4"
      }
    },
    {
      "cell_type": "code",
      "source": [
        "import sympy as sp\n",
        "\n",
        "# Example: lim (x -> 0) sin(x)/x\n",
        "x = sp.symbols('x')\n",
        "f = sp.sin(x)\n",
        "g = x\n",
        "\n",
        "# Direct limit\n",
        "limit_direct = sp.limit(f/g, x, 0)\n",
        "\n",
        "# Apply L'Hôpital's rule manually\n",
        "f_prime = sp.diff(f, x)\n",
        "g_prime = sp.diff(g, x)\n",
        "limit_lhopital = sp.limit(f_prime/g_prime, x, 0)\n",
        "\n",
        "print(\"Direct limit of sin(x)/x as x -> 0 =\", limit_direct)\n",
        "print(\"Using L'Hôpital's Rule =\", limit_lhopital)"
      ],
      "metadata": {
        "colab": {
          "base_uri": "https://localhost:8080/"
        },
        "id": "-UczF8erbOs1",
        "outputId": "46fc8b52-fc22-43d3-8eb0-46ed9c8ae408"
      },
      "execution_count": null,
      "outputs": [
        {
          "output_type": "stream",
          "name": "stdout",
          "text": [
            "Direct limit of sin(x)/x as x -> 0 = 1\n",
            "Using L'Hôpital's Rule = 1\n"
          ]
        }
      ]
    }
  ]
}
