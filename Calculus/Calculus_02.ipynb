{
  "nbformat": 4,
  "nbformat_minor": 0,
  "metadata": {
    "colab": {
      "provenance": [],
      "authorship_tag": "ABX9TyNtMPqlXORE8B2H9f8bmatN",
      "include_colab_link": true
    },
    "kernelspec": {
      "name": "python3",
      "display_name": "Python 3"
    },
    "language_info": {
      "name": "python"
    }
  },
  "cells": [
    {
      "cell_type": "markdown",
      "metadata": {
        "id": "view-in-github",
        "colab_type": "text"
      },
      "source": [
        "<a href=\"https://colab.research.google.com/github/swopnimghimire-123123/Maths_For_ML/blob/main/Calculus_02.ipynb\" target=\"_parent\"><img src=\"https://colab.research.google.com/assets/colab-badge.svg\" alt=\"Open In Colab\"/></a>"
      ]
    },
    {
      "cell_type": "markdown",
      "source": [
        "### The Paradox of the Derivative\n",
        "\n",
        "The derivative measures the **instantaneous rate of change** — the slope of a curve at a single point.  \n",
        "\n",
        "- **Paradox:** How can we compute a slope using a **zero-width interval** (dx → 0) if a line segment needs two points?  \n",
        "- Calculus resolves this with **limits**: we take the slope over smaller and smaller intervals and see where it approaches.  \n",
        "\n",
        "Essentially:  \n",
        "1. The slope seems impossible at a single point.  \n",
        "2. Using the limit of tiny intervals, it becomes **well-defined**.  \n",
        "3. This is why derivatives exist even though a single point has no “length” or “rise/run” on its own.\n"
      ],
      "metadata": {
        "id": "sI9pM5tEdx5h"
      }
    },
    {
      "cell_type": "code",
      "execution_count": null,
      "metadata": {
        "colab": {
          "base_uri": "https://localhost:8080/"
        },
        "id": "Y8vueT31dt2h",
        "outputId": "b1f6cb84-eefd-4ce7-a99d-1b50d3c975c3"
      },
      "outputs": [
        {
          "output_type": "stream",
          "name": "stdout",
          "text": [
            "h = 1.00000 -> derivative ≈ 3.00000\n",
            "h = 0.10000 -> derivative ≈ 2.10000\n",
            "h = 0.01000 -> derivative ≈ 2.01000\n",
            "h = 0.00100 -> derivative ≈ 2.00100\n",
            "h = 0.00010 -> derivative ≈ 2.00010\n",
            "h = 0.00001 -> derivative ≈ 2.00001\n"
          ]
        }
      ],
      "source": [
        "def f(x):\n",
        "  return x**2\n",
        "\n",
        "def derivative_forward(x,h):\n",
        "  return (f(x+h) - f(x)) / h\n",
        "\n",
        "x_point = 1.0\n",
        "h_value = [1,0.1,0.01,0.001,0.0001,0.00001]\n",
        "\n",
        "for h in h_value:\n",
        "  print(f\"h = {h:.5f} -> derivative ≈ {derivative_forward(x_point, h):.5f}\")"
      ]
    },
    {
      "cell_type": "code",
      "source": [
        "x = 3.14159265\n",
        "print(f\"{x:.5f}\")  # prints 3.14159\n",
        "print(f\"{x:.2f}\")  # prints 3.14"
      ],
      "metadata": {
        "colab": {
          "base_uri": "https://localhost:8080/"
        },
        "id": "XyNIv3Ejdwa2",
        "outputId": "b76c9c11-7521-48a1-c3da-5de911448ceb"
      },
      "execution_count": null,
      "outputs": [
        {
          "output_type": "stream",
          "name": "stdout",
          "text": [
            "3.14159\n",
            "3.14\n"
          ]
        }
      ]
    },
    {
      "cell_type": "markdown",
      "source": [
        "### Derivative Paradox and Intuition\n",
        "\n",
        "At first glance, finding the slope at a single point seems impossible because slope normally requires **two points**.  \n",
        "\n",
        "Calculus resolves this with the **limit concept**:  \n",
        "1. Take two points on the curve very close together.  \n",
        "2. Compute the slope between them (rise/run).  \n",
        "3. Shrink the distance between the points closer and closer to zero.  \n",
        "4. The slope **approaches a single value**, which is the derivative at that point.  \n",
        "\n",
        "This shows that even though a single point has no width, we can define its slope as the **limit of slopes of tiny intervals**.  \n",
        "Numerically, we can see this convergence by computing the derivative with decreasing `h`.\n"
      ],
      "metadata": {
        "id": "IpVYbFtcgtvP"
      }
    },
    {
      "cell_type": "code",
      "source": [
        "def f(x):\n",
        "  return x**2\n",
        "\n",
        "def derrivative_forward(x,h):\n",
        "  return (f(x+h)-f(x)) / h\n",
        "\n",
        "x_point = 1.0\n",
        "h_values = [1,0.1,0.01,0.001,0.0001,0.00001,1e-5,1e-7]\n",
        "\n",
        "print(\"Demonstrating derivative convergence at x = 1:\")\n",
        "for h in h_values:\n",
        "  slope = derrivative_forward(x_point, h)\n",
        "  print(f\"h = {h:.8f} -> slope ≈ {slope:.8f}\")"
      ],
      "metadata": {
        "colab": {
          "base_uri": "https://localhost:8080/"
        },
        "id": "yojqzibKdwdd",
        "outputId": "954fa6cc-3bdb-4456-de2f-8342777c5027"
      },
      "execution_count": null,
      "outputs": [
        {
          "output_type": "stream",
          "name": "stdout",
          "text": [
            "Demonstrating derivative convergence at x = 1:\n",
            "h = 1.00000000 -> slope ≈ 3.00000000\n",
            "h = 0.10000000 -> slope ≈ 2.10000000\n",
            "h = 0.01000000 -> slope ≈ 2.01000000\n",
            "h = 0.00100000 -> slope ≈ 2.00100000\n",
            "h = 0.00010000 -> slope ≈ 2.00010000\n",
            "h = 0.00001000 -> slope ≈ 2.00001000\n",
            "h = 0.00001000 -> slope ≈ 2.00001000\n",
            "h = 0.00000010 -> slope ≈ 2.00000010\n"
          ]
        }
      ]
    },
    {
      "cell_type": "markdown",
      "source": [
        "- As `h` gets smaller, the slope we compute is closer and closer to the true derivative.\n",
        "\n",
        "- This shows that the derivative is really the limit of slopes over vanishingly small intervals.\n",
        "\n",
        "- Conceptually, it gives a clear and concise intuition: the derivative is the instantaneous rate of change at a point, even though a single point has no width.\n",
        "\n",
        "- Numerically, smaller `h` → better approximation → stronger intuition."
      ],
      "metadata": {
        "id": "Vg5sUnVbh3IG"
      }
    },
    {
      "cell_type": "markdown",
      "source": [
        "### Derivative Paradox: Moving Car Analogy\n",
        "\n",
        "Imagine a car driving along a road.  \n",
        "\n",
        "- **Average speed:** If you measure the car’s speed between two landmarks 1 km apart, you get the **average speed over that distance**.  \n",
        "- **Instantaneous speed:** What if you want the car’s speed **exactly at a single moment**?  \n",
        "\n",
        "At a single instant, the car hasn’t “traveled any distance yet,” so it seems impossible to measure speed.  \n",
        "\n",
        "Calculus solves this using the **limit**:  \n",
        "1. Measure the speed over smaller and smaller intervals of time (like 1s, 0.1s, 0.01s…).  \n",
        "2. As the interval approaches zero, the measured speed **converges** to the car’s **instantaneous speed**.  \n",
        "\n",
        "This is exactly what the derivative does: it measures the **rate of change at a single point**, even though a single point has no width or distance.\n"
      ],
      "metadata": {
        "id": "YdpriTCgiW2E"
      }
    },
    {
      "cell_type": "markdown",
      "source": [
        "### The Paradox at Time Zero\n",
        "\n",
        "Consider a car starting its motion at t = 0.  \n",
        "\n",
        "- How do we define its **speed at the very first instant**?  \n",
        "- At exactly t = 0, the car has not yet moved, so the usual formula “distance / time” gives 0/0 — which is **undefined**.  \n",
        "\n",
        "Calculus resolves this with the **limit concept**:  \n",
        "1. Take a tiny time interval Δt > 0 after t=0.  \n",
        "2. Compute average speed: Δx / Δt.  \n",
        "3. Shrink Δt → 0.  \n",
        "4. The limit gives the **instantaneous speed at time zero**.  \n",
        "\n",
        "Even though the car hasn’t moved at that single instant, the derivative (speed) is **well-defined** as a limit.  \n",
        "This is the essence of the **paradox at time zero**: defining change at a single, “motionless” point.\n"
      ],
      "metadata": {
        "id": "xn4OsjR8kEjD"
      }
    },
    {
      "cell_type": "code",
      "source": [
        "def position(t):\n",
        "  return t**2\n",
        "\n",
        "def instantaneous_speed (t,dt):\n",
        "  return (position(t+dt) - position(t)) / dt\n",
        "\n",
        "# Test at t = 0\n",
        "dt_value = [1,0.1,0.01,0.001,0.0001,0.00001,1e-5,1e-6]\n",
        "\n",
        "print(\"Instantaneous speed at t = 0(approaching time zero):\")\n",
        "for dt in dt_value:\n",
        "  speed = instantaneous_speed(0, dt)\n",
        "  print(f\"dt = {dt:.8f} -> speed ≈ {speed:.8f}\")"
      ],
      "metadata": {
        "colab": {
          "base_uri": "https://localhost:8080/"
        },
        "id": "44He2gyXdwgY",
        "outputId": "e1dd027e-2cd4-48d3-b58d-d1c8654509fc"
      },
      "execution_count": null,
      "outputs": [
        {
          "output_type": "stream",
          "name": "stdout",
          "text": [
            "Instantaneous speed at t = 0(approaching time zero):\n",
            "dt = 1.00000000 -> speed ≈ 1.00000000\n",
            "dt = 0.10000000 -> speed ≈ 0.10000000\n",
            "dt = 0.01000000 -> speed ≈ 0.01000000\n",
            "dt = 0.00100000 -> speed ≈ 0.00100000\n",
            "dt = 0.00010000 -> speed ≈ 0.00010000\n",
            "dt = 0.00001000 -> speed ≈ 0.00001000\n",
            "dt = 0.00001000 -> speed ≈ 0.00001000\n",
            "dt = 0.00000100 -> speed ≈ 0.00000100\n"
          ]
        }
      ]
    },
    {
      "cell_type": "markdown",
      "source": [
        "- At t = 0, the car hasn’t moved yet → slope seems undefined.\n",
        "\n",
        "- By taking smaller Δt, we approach the instantaneous speed at time zero.\n",
        "\n",
        "- This numerically illustrates the paradox at time zero: derivative exists even when the point itself shows no change."
      ],
      "metadata": {
        "id": "16MPGcH-k8--"
      }
    }
  ]
}
