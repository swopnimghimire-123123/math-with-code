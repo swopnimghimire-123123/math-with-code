{
  "nbformat": 4,
  "nbformat_minor": 0,
  "metadata": {
    "colab": {
      "provenance": [],
      "authorship_tag": "ABX9TyNpq4MCRmWEuFugU++dO62b",
      "include_colab_link": true
    },
    "kernelspec": {
      "name": "python3",
      "display_name": "Python 3"
    },
    "language_info": {
      "name": "python"
    }
  },
  "cells": [
    {
      "cell_type": "markdown",
      "metadata": {
        "id": "view-in-github",
        "colab_type": "text"
      },
      "source": [
        "<a href=\"https://colab.research.google.com/github/swopnimghimire-123123/Maths_For_ML/blob/main/Linear_Algebra_08.ipynb\" target=\"_parent\"><img src=\"https://colab.research.google.com/assets/colab-badge.svg\" alt=\"Open In Colab\"/></a>"
      ]
    },
    {
      "cell_type": "markdown",
      "source": [
        "#  Cramer's Rule (Geometric Explanation)\n",
        "\n",
        "###  Definition\n",
        "- Cramer's Rule solves a system of **n linear equations with n unknowns**:\n",
        "\\[\n",
        "A \\mathbf{x} = \\mathbf{b}, \\quad A \\text{ is square and det(A) ≠ 0}\n",
        "\\]\n",
        "\n",
        "- Solution:\n",
        "\\[\n",
        "x_i = \\frac{\\det(A_i)}{\\det(A)}\n",
        "\\]\n",
        "where \\(A_i\\) = matrix A with column i replaced by vector b.\n",
        "\n",
        "---\n",
        "\n",
        "###  Geometric Meaning\n",
        "1. In 2D:\n",
        "   - System:\n",
        "\\[\n",
        "\\begin{cases} a_1 x + b_1 y = c_1 \\\\ a_2 x + b_2 y = c_2 \\end{cases}\n",
        "\\]\n",
        "   - det(A) = area of parallelogram spanned by column vectors of A.  \n",
        "   - det(A_i)/det(A) = ratio of areas → gives coordinate along x_i.\n",
        "\n",
        "2. In 3D:\n",
        "   - det(A) = volume of parallelepiped spanned by column vectors of A.  \n",
        "   - det(A_i)/det(A) = ratio of volumes → gives coordinate along x_i.  \n",
        "\n",
        "-  So **Cramer’s Rule** = computing each variable as a **scaled ratio of areas or volumes**, giving **exact coordinates** in space.\n",
        "\n",
        "---\n"
      ],
      "metadata": {
        "id": "zxg5liQBOGFx"
      }
    },
    {
      "cell_type": "code",
      "execution_count": null,
      "metadata": {
        "colab": {
          "base_uri": "https://localhost:8080/"
        },
        "id": "f1j4X_jKOB2p",
        "outputId": "29584105-f2e9-4069-fa1f-d3986cc4934d"
      },
      "outputs": [
        {
          "output_type": "stream",
          "name": "stdout",
          "text": [
            "A\n",
            " [[2 3]\n",
            " [4 5]]\n",
            "det(A) = -2.0\n",
            "A1\n",
            " [[ 7  3]\n",
            " [11  5]]\n",
            "det(A1) = 1.9999999999999984\n",
            "A2\n",
            " [[ 2  7]\n",
            " [ 4 11]]\n",
            "det(A2) = -6.0\n",
            "\n",
            "\n",
            "Determinant of A: -2.0\n",
            "Determinant replacing first column (x): 1.9999999999999984\n",
            "Determinant replacing second column (y): -6.0\n",
            "Solution: x = -0.9999999999999992 , y = 3.0\n"
          ]
        }
      ],
      "source": [
        "import numpy as np\n",
        "\n",
        "# system 2x + 3y = 7 ; 4x + 5y = 11\n",
        "A = np.array([[2,3],\n",
        "              [4,5]])\n",
        "b = np.array([[7,11]])\n",
        "\n",
        "# determinant of A\n",
        "print(\"A\\n\",A)\n",
        "det_A = np.linalg.det(A)\n",
        "print(f\"det(A) = {det_A}\")\n",
        "\n",
        "# determinant with first column replaced (for x)\n",
        "A1 = A.copy()\n",
        "A1[:,0] = b\n",
        "print(\"A1\\n\",A1)\n",
        "det_A1 = np.linalg.det(A1)\n",
        "print(f\"det(A1) = {det_A1}\")\n",
        "\n",
        "# determinant with second column replaced (for y)\n",
        "A2 = A.copy()\n",
        "A2[:,1] = b\n",
        "print(\"A2\\n\",A2)\n",
        "det_A2 = np.linalg.det(A2)\n",
        "print(f\"det(A2) = {det_A2}\")\n",
        "\n",
        "# solution using cramers rule\n",
        "x = det_A1/det_A\n",
        "y = det_A2/det_A\n",
        "\n",
        "print(\"\\n\")\n",
        "print(\"Determinant of A:\", det_A)\n",
        "print(\"Determinant replacing first column (x):\", det_A1)\n",
        "print(\"Determinant replacing second column (y):\", det_A2)\n",
        "print(\"Solution: x =\", x, \", y =\", y)\n"
      ]
    },
    {
      "cell_type": "markdown",
      "source": [
        "#  Gaussian Elimination (3x3 System)\n",
        "\n",
        "- Solve the system A x = b using **row operations**.  \n",
        "- Each step shows how the matrix is transformed into **upper triangular form**, then back-substitution gives the solution.\n"
      ],
      "metadata": {
        "id": "0FboCUelQqkw"
      }
    },
    {
      "cell_type": "code",
      "source": [
        "import numpy as np\n",
        "\n",
        "# define the system : 3x3 example\n",
        "# Example system:\n",
        "# 2x + 3y - z = 5\n",
        "# 4x + y + 2z = 6\n",
        "# -2x + 5y + 2z = 7\n",
        "\n",
        "A = np.array([[2, 3, -1],\n",
        "              [4, 1, 2],\n",
        "              [-2, 5, 2]], dtype=float)\n",
        "b = np.array([5, 6, 7], dtype=float)\n",
        "\n",
        "# Augmented matrix\n",
        "aug = np.hstack([A, b.reshape(-1,1)])\n",
        "print(\"Augmented Matrix:\\n\",aug,\"\\n\")\n",
        "\n",
        "# Gaussian Elemination\n",
        "n = 3\n",
        "for i in range(n):\n",
        "  # make the diagonal element 1 by dividing the row\n",
        "  aug[i] = aug[i] / aug[i,i]\n",
        "  print(f\"Step {i+1} - Normalize row {i+1}:\\n\", aug, \"\\n\")"
      ],
      "metadata": {
        "colab": {
          "base_uri": "https://localhost:8080/"
        },
        "id": "lcH9I9yXOOw0",
        "outputId": "5f6ad89b-4664-480a-8d78-0a638a187e49"
      },
      "execution_count": null,
      "outputs": [
        {
          "output_type": "stream",
          "name": "stdout",
          "text": [
            "Augmented Matrix:\n",
            " [[ 2.  3. -1.  5.]\n",
            " [ 4.  1.  2.  6.]\n",
            " [-2.  5.  2.  7.]] \n",
            "\n",
            "Step 1 - Normalize row 1:\n",
            " [[ 1.   1.5 -0.5  2.5]\n",
            " [ 4.   1.   2.   6. ]\n",
            " [-2.   5.   2.   7. ]] \n",
            "\n",
            "Step 2 - Normalize row 2:\n",
            " [[ 1.   1.5 -0.5  2.5]\n",
            " [ 4.   1.   2.   6. ]\n",
            " [-2.   5.   2.   7. ]] \n",
            "\n",
            "Step 3 - Normalize row 3:\n",
            " [[ 1.   1.5 -0.5  2.5]\n",
            " [ 4.   1.   2.   6. ]\n",
            " [-1.   2.5  1.   3.5]] \n",
            "\n"
          ]
        }
      ]
    },
    {
      "cell_type": "code",
      "source": [
        "import numpy as np\n",
        "\n",
        "# Define the system: 3x3 example\n",
        "# Example system:\n",
        "# 2x + 3y - z = 5\n",
        "# 4x + y + 2z = 6\n",
        "# -2x + 5y + 2z = 7\n",
        "\n",
        "A = np.array([[2, 3, -1],\n",
        "              [4, 1, 2],\n",
        "              [-2, 5, 2]], dtype=float)\n",
        "b = np.array([5, 6, 7], dtype=float)\n",
        "\n",
        "# Augmented matrix\n",
        "aug = np.hstack([A, b.reshape(-1,1)])\n",
        "print(\"Initial Augmented Matrix:\\n\", aug, \"\\n\")\n",
        "\n",
        "# Gaussian Elimination\n",
        "n = 3\n",
        "for i in range(n):\n",
        "    # Make the diagonal element 1 by dividing the row\n",
        "    aug[i] = aug[i] / aug[i,i]\n",
        "    print(f\"Step {i+1} - Normalize row {i+1}:\\n\", aug, \"\\n\")\n",
        "\n",
        "    # Eliminate the entries below the pivot\n",
        "    for j in range(i+1, n):\n",
        "        factor = aug[j,i]\n",
        "        aug[j] = aug[j] - factor * aug[i]\n",
        "        print(f\"Step {i+1}.{j} - Eliminate row {j+1}:\\n\", aug, \"\\n\")\n",
        "\n",
        "# Back-substitution with print statements\n",
        "x = np.zeros(n)\n",
        "for i in range(n-1, -1, -1):\n",
        "    sum_ax = np.sum(aug[i,i+1:n]*x[i+1:n])\n",
        "    x[i] = aug[i,-1] - sum_ax\n",
        "    print(f\"Back-substitution step for x[{i}] -> {x[i]} (augmented row: {aug[i]})\")\n",
        "\n",
        "\n",
        "print(\"Solution vector [x, y, z]:\", x)\n"
      ],
      "metadata": {
        "colab": {
          "base_uri": "https://localhost:8080/"
        },
        "id": "jM4ul_0mOO24",
        "outputId": "c02533ae-b50a-4bb2-a267-2b9b673bfb2b"
      },
      "execution_count": null,
      "outputs": [
        {
          "output_type": "stream",
          "name": "stdout",
          "text": [
            "Initial Augmented Matrix:\n",
            " [[ 2.  3. -1.  5.]\n",
            " [ 4.  1.  2.  6.]\n",
            " [-2.  5.  2.  7.]] \n",
            "\n",
            "Step 1 - Normalize row 1:\n",
            " [[ 1.   1.5 -0.5  2.5]\n",
            " [ 4.   1.   2.   6. ]\n",
            " [-2.   5.   2.   7. ]] \n",
            "\n",
            "Step 1.1 - Eliminate row 2:\n",
            " [[ 1.   1.5 -0.5  2.5]\n",
            " [ 0.  -5.   4.  -4. ]\n",
            " [-2.   5.   2.   7. ]] \n",
            "\n",
            "Step 1.2 - Eliminate row 3:\n",
            " [[ 1.   1.5 -0.5  2.5]\n",
            " [ 0.  -5.   4.  -4. ]\n",
            " [ 0.   8.   1.  12. ]] \n",
            "\n",
            "Step 2 - Normalize row 2:\n",
            " [[ 1.   1.5 -0.5  2.5]\n",
            " [-0.   1.  -0.8  0.8]\n",
            " [ 0.   8.   1.  12. ]] \n",
            "\n",
            "Step 2.2 - Eliminate row 3:\n",
            " [[ 1.   1.5 -0.5  2.5]\n",
            " [-0.   1.  -0.8  0.8]\n",
            " [ 0.   0.   7.4  5.6]] \n",
            "\n",
            "Step 3 - Normalize row 3:\n",
            " [[ 1.          1.5        -0.5         2.5       ]\n",
            " [-0.          1.         -0.8         0.8       ]\n",
            " [ 0.          0.          1.          0.75675676]] \n",
            "\n",
            "Back-substitution step for x[2] -> 0.7567567567567567 (augmented row: [0.         0.         1.         0.75675676])\n",
            "Back-substitution step for x[1] -> 1.4054054054054055 (augmented row: [-0.   1.  -0.8  0.8])\n",
            "Back-substitution step for x[0] -> 0.77027027027027 (augmented row: [ 1.   1.5 -0.5  2.5])\n",
            "Solution vector [x, y, z]: [0.77027027 1.40540541 0.75675676]\n"
          ]
        }
      ]
    },
    {
      "cell_type": "markdown",
      "source": [
        "### Or you just just compute it using computer"
      ],
      "metadata": {
        "id": "mqJxeNF6TzHm"
      }
    },
    {
      "cell_type": "code",
      "source": [
        "import numpy as np\n",
        "\n",
        "# Define the system: A x = b\n",
        "A = np.array([[2, 3, -1],\n",
        "              [4, 1, 2],\n",
        "              [-2, 5, 2]], dtype=float)\n",
        "b = np.array([5, 6, 7], dtype=float)\n",
        "\n",
        "# Solve directly\n",
        "x = np.linalg.solve(A, b)\n",
        "\n",
        "print(\"Solution vector [x, y, z]:\", x)\n"
      ],
      "metadata": {
        "colab": {
          "base_uri": "https://localhost:8080/"
        },
        "id": "qmhY_yQZOO5_",
        "outputId": "0dcea64b-bc12-4b63-f94d-4e3e57767cd3"
      },
      "execution_count": null,
      "outputs": [
        {
          "output_type": "stream",
          "name": "stdout",
          "text": [
            "Solution vector [x, y, z]: [0.77027027 1.40540541 0.75675676]\n"
          ]
        }
      ]
    }
  ]
}