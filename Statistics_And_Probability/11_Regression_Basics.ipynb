{
  "nbformat": 4,
  "nbformat_minor": 0,
  "metadata": {
    "colab": {
      "provenance": [],
      "authorship_tag": "ABX9TyPXuvtVO+mA3G8Gw02IaQ64",
      "include_colab_link": true
    },
    "kernelspec": {
      "name": "python3",
      "display_name": "Python 3"
    },
    "language_info": {
      "name": "python"
    }
  },
  "cells": [
    {
      "cell_type": "markdown",
      "metadata": {
        "id": "view-in-github",
        "colab_type": "text"
      },
      "source": [
        "<a href=\"https://colab.research.google.com/github/swopnimghimire-123123/Maths_For_ML/blob/main/11_Regression_Basics.ipynb\" target=\"_parent\"><img src=\"https://colab.research.google.com/assets/colab-badge.svg\" alt=\"Open In Colab\"/></a>"
      ]
    },
    {
      "cell_type": "markdown",
      "metadata": {
        "id": "4bfb4ff4"
      },
      "source": [
        "# Colab 11: Regression Basics (Linear Regression Intro)\n",
        "###  Learning Goals\n",
        "\n",
        "* Understand linear regression and its purpose.\n",
        "* Learn how to fit a line to data.\n",
        "* Understand slope, intercept, and R².\n",
        "* Apply regression with Python (scikit-learn or statsmodels).\n",
        "\n",
        "## 1. Essence + Use Case + Example\n",
        "### Linear Regression\n",
        "\n",
        "* **Essence:** Models the relationship between one independent variable (X) and one dependent variable (Y) using a straight line.\n",
        "* **Use Case:** Predict future values; explain relationships; first step in ML models.\n",
        "* **Example:** Predict exam scores (Y) based on study hours (X).\n",
        "\n",
        "### Key Terms\n",
        "\n",
        "* **Slope (m):** How much Y changes for each unit of X.\n",
        "* **Intercept (b):** Value of Y when X = 0.\n",
        "* **R² (coefficient of determination):** How much of the variation in Y is explained by X (0 → 0%, 1 → 100%).\n",
        "\n",
        "## 2. Theory\n",
        "\n",
        "Equation of a line:\n",
        "\n",
        "$Y = mX + b$\n",
        "\n",
        "* m = slope = change in Y per unit X\n",
        "* b = intercept = Y when X = 0\n",
        "\n",
        "Goal of regression: minimize the sum of squared differences between predicted Y and actual Y (least squares method).\n",
        "\n",
        "## 3. Code Demonstration"
      ]
    },
    {
      "cell_type": "code",
      "metadata": {
        "colab": {
          "base_uri": "https://localhost:8080/",
          "height": 524
        },
        "id": "2eb3c1fa",
        "outputId": "03d14338-8485-4575-e0ce-4c9e9eacf5c9"
      },
      "source": [
        "import numpy as np\n",
        "import matplotlib.pyplot as plt\n",
        "from sklearn.linear_model import LinearRegression\n",
        "\n",
        "# Example data: study hours vs exam scores\n",
        "X = np.array([1, 2, 3, 4, 5]).reshape(-1, 1)  # independent variable\n",
        "y = np.array([60, 70, 75, 80, 85])           # dependent variable\n",
        "\n",
        "# Fit linear regression\n",
        "model = LinearRegression()\n",
        "model.fit(X, y)\n",
        "\n",
        "# Predictions\n",
        "y_pred = model.predict(X)\n",
        "\n",
        "print(\"Slope (m):\", model.coef_[0])\n",
        "print(\"Intercept (b):\", model.intercept_)\n",
        "print(\"R² score:\", model.score(X, y))\n",
        "\n",
        "# Plot\n",
        "plt.scatter(X, y, color='blue', label='Actual')\n",
        "plt.plot(X, y_pred, color='red', label='Predicted')\n",
        "plt.xlabel('Study Hours')\n",
        "plt.ylabel('Exam Score')\n",
        "plt.title('Linear Regression Example')\n",
        "plt.legend()\n",
        "plt.show()"
      ],
      "execution_count": null,
      "outputs": [
        {
          "output_type": "stream",
          "name": "stdout",
          "text": [
            "Slope (m): 6.0\n",
            "Intercept (b): 56.0\n",
            "R² score: 0.972972972972973\n"
          ]
        },
        {
          "output_type": "display_data",
          "data": {
            "text/plain": [
              "<Figure size 640x480 with 1 Axes>"
            ],
            "image/png": "[encoded data removed]"
          },
          "metadata": {}
        }
      ]
    },
    {
      "cell_type": "markdown",
      "metadata": {
        "id": "21b56e43"
      },
      "source": [
        "## 4. Practice Problems\n",
        "\n",
        "1. Dataset: X = hours studied, Y = exam score. Fit a line, predict score for 6 hours.\n",
        "\n",
        "2. Dataset: X = years of experience, Y = salary. Fit a line, calculate R².\n",
        "\n",
        "3. Try modifying the slope or intercept manually and see how the line changes visually."
      ]
    },
    {
      "cell_type": "code",
      "metadata": {
        "colab": {
          "base_uri": "https://localhost:8080/"
        },
        "id": "b0cba8aa",
        "outputId": "73f08704-e8d3-4c55-c974-39fc49d27717"
      },
      "source": [
        "# Practice Problem 1: Predict exam score for 6 hours\n",
        "X_new = np.array([6]).reshape(-1, 1)\n",
        "y_pred_new = model.predict(X_new)\n",
        "print(f\"Predicted exam score for 6 hours of study: {y_pred_new[0]:.2f}\")"
      ],
      "execution_count": null,
      "outputs": [
        {
          "output_type": "stream",
          "name": "stdout",
          "text": [
            "Predicted exam score for 6 hours of study: 92.00\n"
          ]
        }
      ]
    },
    {
      "cell_type": "code",
      "metadata": {
        "colab": {
          "base_uri": "https://localhost:8080/"
        },
        "id": "0a29327c",
        "outputId": "e28443d1-74d4-4859-bd63-9108141dd6be"
      },
      "source": [
        "# Practice Problem 2: Years of experience vs salary\n",
        "X_salary = np.array([1, 3, 5, 7, 9]).reshape(-1, 1)  # years of experience\n",
        "y_salary = np.array([30000, 50000, 70000, 90000, 110000]) # salary\n",
        "\n",
        "model_salary = LinearRegression()\n",
        "model_salary.fit(X_salary, y_salary)\n",
        "\n",
        "r_squared_salary = model_salary.score(X_salary, y_salary)\n",
        "print(f\"R² score for years of experience vs salary: {r_squared_salary:.2f}\")\n"
      ],
      "execution_count": null,
      "outputs": [
        {
          "output_type": "stream",
          "name": "stdout",
          "text": [
            "R² score for years of experience vs salary: 1.00\n"
          ]
        }
      ]
    },
    {
      "cell_type": "markdown",
      "metadata": {
        "id": "73d6522a"
      },
      "source": [
        "## 5. Conclusion\n",
        "\n",
        "* Linear regression is the first and most essential ML model.\n",
        "* Provides a simple way to predict numeric outcomes.\n",
        "* Slope, intercept, and R² give insight into relationships.\n",
        "* Visualizing predictions helps understand model fit."
      ]
    }
  ]
}
