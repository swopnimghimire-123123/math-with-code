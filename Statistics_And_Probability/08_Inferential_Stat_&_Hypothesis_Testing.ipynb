{
  "nbformat": 4,
  "nbformat_minor": 0,
  "metadata": {
    "colab": {
      "provenance": [],
      "authorship_tag": "ABX9TyNkncTn2qgse/XAUnzVbrNI",
      "include_colab_link": true
    },
    "kernelspec": {
      "name": "python3",
      "display_name": "Python 3"
    },
    "language_info": {
      "name": "python"
    }
  },
  "cells": [
    {
      "cell_type": "markdown",
      "metadata": {
        "id": "view-in-github",
        "colab_type": "text"
      },
      "source": [
        "<a href=\"https://colab.research.google.com/github/swopnimghimire-123123/Maths_For_ML/blob/main/08_Inferential_Stat_%26_Hypothesis_Testing.ipynb\" target=\"_parent\"><img src=\"https://colab.research.google.com/assets/colab-badge.svg\" alt=\"Open In Colab\"/></a>"
      ]
    },
    {
      "cell_type": "markdown",
      "source": [
        "### Colab 8: Inferential Statistics & Hypothesis Testing Basics\n",
        "`Learning Goals`\n",
        "\n",
        "- Understand inferential statistics (sample → population).\n",
        "\n",
        "- Learn about hypotheses (null vs alternative).\n",
        "\n",
        "- Understand errors (Type I & II).\n",
        "\n",
        "- Learn about significance level (α) and p-values.\n",
        "\n",
        "- Build intuition for when/why hypothesis testing is used."
      ],
      "metadata": {
        "id": "j1_K_R5A2zdT"
      }
    },
    {
      "cell_type": "code",
      "execution_count": null,
      "metadata": {
        "id": "H-KYP5442pg6"
      },
      "outputs": [],
      "source": []
    },
    {
      "cell_type": "markdown",
      "metadata": {
        "id": "264445a4"
      },
      "source": [
        "### Inferential Statistics & Hypothesis Testing Basics\n",
        "\n",
        "**1. Inferential Statistics**\n",
        "\n",
        "*   **Essence:** Using a sample to draw conclusions about a population.\n",
        "*   **Use Case:** We can’t test everyone, so we test a sample.\n",
        "*   **Example:** Surveying 100 students to estimate average study time for the entire school.\n",
        "\n",
        "**2. Null vs Alternative Hypothesis**\n",
        "\n",
        "*   **Null (H₀):** “No effect” / “No difference.”\n",
        "*   **Alternative (H₁):** “There is an effect.”\n",
        "*   **Example:**\n",
        "    *   H₀: “Studying has no effect on exam scores.”\n",
        "    *   H₁: “Studying increases exam scores.”\n",
        "\n",
        "**3. Errors**\n",
        "\n",
        "*   **Type I Error (False Positive):** Rejecting H₀ when it’s actually true.\n",
        "*   **Example:** Saying a medicine works when it doesn’t.\n",
        "*   **Type II Error (False Negative):** Not rejecting H₀ when it’s false.\n",
        "*   **Example:** Failing to detect that the medicine really works.\n",
        "\n",
        "**4. Significance Level (α)**\n",
        "\n",
        "*   The cutoff for deciding whether to reject H₀.\n",
        "*   Common choice: α = 0.05 → 5% chance of making a Type I error.\n",
        "\n",
        "**5. p-value**\n",
        "\n",
        "*   Probability of seeing the data (or more extreme) if H₀ is true.\n",
        "*   If p-value < α → reject H₀.\n",
        "*   **Example:** p = 0.02 < 0.05 → evidence against H₀.\n",
        "\n",
        "**6. General flow of hypothesis testing:**\n",
        "\n",
        "*   State H₀ and H₁.\n",
        "*   Choose significance level α.\n",
        "*   Collect sample data.\n",
        "*   Calculate a test statistic (z, t, etc.).\n",
        "*   Find p-value.\n",
        "*   Compare p-value to α → decide."
      ]
    },
    {
      "cell_type": "markdown",
      "source": [
        "#7.  Let's test: Do students who study more hours score highter than 70 on average?"
      ],
      "metadata": {
        "id": "GD5iYwcp30Bu"
      }
    },
    {
      "cell_type": "code",
      "source": [
        "import numpy as np\n",
        "from scipy import stats\n",
        "\n",
        "# Sample: exam scores of students who studied a lot\n",
        "scores = [72, 75, 78, 80, 85, 90, 88]\n",
        "\n",
        "# Null hypothesis H0: mean = 70\n",
        "# Alternative hypothesis H1: mean > 70\n",
        "\n",
        "t_stat, p_value = stats.ttest_1samp(scores, 70)\n",
        "\n",
        "print(\"t-statistic:\", t_stat)\n",
        "print(\"p-value:\", p_value/2)  # one-tailed test\n",
        "\n",
        "### If p-value < 0.05 → reject H₀ → studying really helps."
      ],
      "metadata": {
        "colab": {
          "base_uri": "https://localhost:8080/"
        },
        "id": "09uTlwsy30W0",
        "outputId": "fd1aff49-2c74-48f7-d9c2-8720e85a625f"
      },
      "execution_count": null,
      "outputs": [
        {
          "output_type": "stream",
          "name": "stdout",
          "text": [
            "t-statistic: 4.371732137816399\n",
            "p-value: 0.002355091980694754\n"
          ]
        }
      ]
    },
    {
      "cell_type": "markdown",
      "source": [
        "### Practice Problems\n",
        "\n",
        "1.  **Problem 1:**\n",
        "    Take a sample of exam scores [60, 65, 70, 72, 68, 74].\n",
        "    Test if the mean is different from 65.\n",
        "\n",
        "2.  **Problem 2:**\n",
        "    Simulate 30 coin flips and test if the probability of heads is 0.5. (Hint: Binomial test)"
      ],
      "metadata": {
        "id": "XslD-3MQ4-XC"
      }
    },
    {
      "cell_type": "code",
      "source": [
        "# Problem 1\n",
        "import numpy as np\n",
        "from scipy import stats\n",
        "\n",
        "# Sample\n",
        "score = [60, 65, 70, 72, 68, 74]\n",
        "\n",
        "t_stat, p_value = stats.ttest_1samp(score, 65)\n",
        "print(\"t-statistic:\",t_stat)\n",
        "print(\"p-value:\",p_value)\n",
        "\n",
        "''' If p-value < 0.05 → reject H₀ → the mean is significantly\n",
        "   different from 65."
      ],
      "metadata": {
        "colab": {
          "base_uri": "https://localhost:8080/"
        },
        "id": "_MTdUF7_4-0X",
        "outputId": "214aec1e-7aa7-4ba6-f4a3-146ea9dd1c21"
      },
      "execution_count": null,
      "outputs": [
        {
          "output_type": "stream",
          "name": "stdout",
          "text": [
            "t-statistic: 1.5280897273222351\n",
            "p-value: 0.18702919929376058\n"
          ]
        }
      ]
    },
    {
      "cell_type": "code",
      "source": [
        "import numpy as np\n",
        "from scipy.stats import binomtest\n",
        "\n",
        "# Simulating 30 coin flips ( 0 = tails , 1 = heads)\n",
        "np.random.seed(42)\n",
        "flips = np.random.choice([0,1],size=30,p=[0.5,0.5])\n",
        "heads_count = np.sum(flips)\n",
        "print(\"Coin flips:\",flips)\n",
        "print(\"Number of heads:\",heads_count)\n",
        "print(\"Number of tails:\",30-heads_count)\n",
        "\n",
        "# perform binomial test\n",
        "test_result = binomtest(heads_count, n=30, p=0.5)\n",
        "\n",
        "\n",
        "# print result\n",
        "print(\"\\nBinomial test result:\")\n",
        "print(\"p-value:\", test_result.pvalue)\n",
        "if test_result.pvalue < 0.05:\n",
        "    print(\"Reject null hypothesis: Coin might not be fair\")\n",
        "else:\n",
        "    print(\"Fail to reject null hypothesis: Coin seems fair\")"
      ],
      "metadata": {
        "colab": {
          "base_uri": "https://localhost:8080/"
        },
        "id": "ls0RlBtW7dDe",
        "outputId": "84545e90-6919-41f1-c3ec-1a6977062be8"
      },
      "execution_count": null,
      "outputs": [
        {
          "output_type": "stream",
          "name": "stdout",
          "text": [
            "Coin flips: [0 1 1 1 0 0 0 1 1 1 0 1 1 0 0 0 0 1 0 0 1 0 0 0 0 1 0 1 1 0]\n",
            "Number of heads: 13\n",
            "Number of tails: 17\n",
            "\n",
            "Binomial test result:\n",
            "p-value: 0.5846647117286922\n",
            "Fail to reject null hypothesis: Coin seems fair\n"
          ]
        }
      ]
    },
    {
      "cell_type": "markdown",
      "metadata": {
        "id": "fed3d57a"
      },
      "source": [
        "### Conclusion\n",
        "\n",
        "*   Inferential statistics lets us generalize from sample → population.\n",
        "*   Hypothesis testing is a structured way to decide using data.\n",
        "*   Null hypothesis is the default, p-values & α guide decisions.\n",
        "*   Errors are always possible, but we control their rates.\n",
        "*   In ML, hypothesis testing connects to feature importance, A/B testing, model evaluation."
      ]
    }
  ]
}
