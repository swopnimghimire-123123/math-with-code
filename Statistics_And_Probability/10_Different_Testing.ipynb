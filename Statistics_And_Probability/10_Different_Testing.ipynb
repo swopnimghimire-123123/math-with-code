{
  "nbformat": 4,
  "nbformat_minor": 0,
  "metadata": {
    "colab": {
      "provenance": [],
      "authorship_tag": "ABX9TyMEWwSg63wCCS5H6kdgg0rA",
      "include_colab_link": true
    },
    "kernelspec": {
      "name": "python3",
      "display_name": "Python 3"
    },
    "language_info": {
      "name": "python"
    }
  },
  "cells": [
    {
      "cell_type": "markdown",
      "metadata": {
        "id": "view-in-github",
        "colab_type": "text"
      },
      "source": [
        "<a href=\"https://colab.research.google.com/github/swopnimghimire-123123/Maths_For_ML/blob/main/10_Different_Testing.ipynb\" target=\"_parent\"><img src=\"https://colab.research.google.com/assets/colab-badge.svg\" alt=\"Open In Colab\"/></a>"
      ]
    },
    {
      "cell_type": "code",
      "execution_count": null,
      "metadata": {
        "id": "6jtlKcRY_yyc"
      },
      "outputs": [],
      "source": []
    },
    {
      "cell_type": "markdown",
      "metadata": {
        "id": "e1c61ead"
      },
      "source": [
        "# Notebook 10: Two-Sample Tests & Chi-Square Test\n",
        "Learning Goals\n",
        "\n",
        "Compare means between two groups (independent or paired).\n",
        "\n",
        "Understand t-tests for two samples.\n",
        "\n",
        "Learn Chi-Square test for categorical data.\n",
        "\n",
        "Apply in real-world datasets."
      ]
    },
    {
      "cell_type": "markdown",
      "metadata": {
        "id": "3700ea7f"
      },
      "source": [
        "# 1. Two-Sample t-Test\n",
        "\n",
        "`Essence: Compare the means of two groups.`\n",
        "\n",
        "- Independent t-test: Groups are separate (e.g., boys vs girls exam scores).\n",
        "\n",
        "- Paired t-test: Same group measured twice (e.g., before & after training).\n",
        "\n",
        "- Null Hypothesis (H₀): Means are equal.\n",
        "- Alternative Hypothesis (H₁): Means are different."
      ]
    },
    {
      "cell_type": "code",
      "source": [
        "from scipy import stats\n",
        "\n",
        "# Independent sample example: exam scores\n",
        "group1 = [85, 88, 90, 92, 87]\n",
        "group2 = [78, 82, 79, 85, 80]\n",
        "\n",
        "t_stat, p_value = stats.ttest_ind(group1, group2)\n",
        "print(\"t-statistic:\", t_stat)\n",
        "print(\"p-value:\", p_value)\n",
        "\n",
        "if p_value < 0.05:\n",
        "    print(\"Reject H0: Means are different\")\n",
        "else:\n",
        "    print(\"Fail to reject H0: Means are similar\")\n"
      ],
      "metadata": {
        "colab": {
          "base_uri": "https://localhost:8080/"
        },
        "id": "GsIENYQjATiE",
        "outputId": "3540e007-0e0f-4e50-c3df-f212ec0a6f35"
      },
      "execution_count": null,
      "outputs": [
        {
          "output_type": "stream",
          "name": "stdout",
          "text": [
            "t-statistic: 4.387862045841161\n",
            "p-value: 0.0023241881225952343\n",
            "Reject H0: Means are different\n"
          ]
        }
      ]
    },
    {
      "cell_type": "markdown",
      "source": [
        "### 2. Paired t-Test\n",
        "\n",
        "- Used when measurements are paired.\n",
        "\n",
        "- Example: Students’ scores before and after coaching."
      ],
      "metadata": {
        "id": "SFIjSUFpAYaW"
      }
    },
    {
      "cell_type": "code",
      "source": [
        "before = [70, 72, 68, 75, 69]\n",
        "after = [78, 80, 75, 82, 77]\n",
        "\n",
        "t_stat, p_value = stats.ttest_rel(before, after)\n",
        "print(\"t-statistic:\", t_stat)\n",
        "print(\"p-value:\", p_value)"
      ],
      "metadata": {
        "colab": {
          "base_uri": "https://localhost:8080/"
        },
        "id": "Gt-YV9a3AcWE",
        "outputId": "7b5dfd79-497f-4afb-8eff-625de4d8e859"
      },
      "execution_count": null,
      "outputs": [
        {
          "output_type": "stream",
          "name": "stdout",
          "text": [
            "t-statistic: -31.026870075253587\n",
            "p-value: 6.429804590173413e-06\n"
          ]
        }
      ]
    },
    {
      "cell_type": "markdown",
      "metadata": {
        "id": "2b2f577d"
      },
      "source": [
        "### 3. Chi-Square Test (Categorical Data)\n",
        "\n",
        "Essence: Test if two categorical variables are independent.\n",
        "\n",
        "Null Hypothesis (H₀): Variables are independent.\n",
        "\n",
        "Alternative Hypothesis (H₁): Variables are related."
      ]
    },
    {
      "cell_type": "code",
      "metadata": {
        "colab": {
          "base_uri": "https://localhost:8080/"
        },
        "id": "4f9191f2",
        "outputId": "f5505cb4-549f-44a2-a860-90534ae77334"
      },
      "source": [
        "import pandas as pd\n",
        "from scipy.stats import chi2_contingency\n",
        "\n",
        "# Example: Gender vs Preference for a product\n",
        "data = pd.DataFrame({\n",
        "    'Male': [20, 30],   # Likes, Dislikes\n",
        "    'Female': [25, 25]  # Likes, Dislikes\n",
        "}, index=['Likes', 'Dislikes'])\n",
        "\n",
        "chi2, p, dof, expected = chi2_contingency(data)\n",
        "print(\"Chi-square:\", chi2)\n",
        "print(\"p-value:\", p)\n",
        "print(\"Expected frequencies:\\n\", expected)\n",
        "\n",
        "if p < 0.05:\n",
        "    print(\"Reject H0: Gender and preference are related\")\n",
        "else:\n",
        "    print(\"Fail to reject H0: Gender and preference seem independent\")"
      ],
      "execution_count": null,
      "outputs": [
        {
          "output_type": "stream",
          "name": "stdout",
          "text": [
            "Chi-square: 0.6464646464646464\n",
            "p-value: 0.4213795037428696\n",
            "Expected frequencies:\n",
            " [[22.5 22.5]\n",
            " [27.5 27.5]]\n",
            "Fail to reject H0: Gender and preference seem independent\n"
          ]
        }
      ]
    },
    {
      "cell_type": "markdown",
      "metadata": {
        "id": "f5191055"
      },
      "source": [
        "Here's an explanation of the output from the `chi2_contingency` function:\n",
        "\n",
        "- **`chi2`**: This is the Chi-Square test statistic. It's a measure of the difference between the observed frequencies in your data and the expected frequencies if the two variables were independent. A larger Chi-Square value suggests a greater difference between observed and expected frequencies.\n",
        "\n",
        "- **`p`**: This is the p-value. It represents the probability of observing a Chi-Square statistic as extreme as, or more extreme than, the one calculated from your data, assuming the null hypothesis (that the variables are independent) is true. A small p-value (typically less than 0.05) is evidence against the null hypothesis, suggesting the variables are related.\n",
        "\n",
        "- **`dof`**: This stands for degrees of freedom. It's a value that depends on the size of your contingency table and is used in determining the critical value for the Chi-Square test. For a contingency table with `r` rows and `c` columns, the degrees of freedom are calculated as `(r - 1) * (c - 1)`.\n",
        "\n",
        "- **`expected`**: This is an array containing the expected frequencies for each cell in the contingency table, assuming the null hypothesis of independence is true. These are the frequencies you would expect to see if there were no relationship between the two variables."
      ]
    },
    {
      "cell_type": "markdown",
      "metadata": {
        "id": "318cdc00"
      },
      "source": [
        "## Problem 1: independent t-test\n",
        "\n",
        "### Subtask:\n",
        "Generate sample data for exam scores of two classes and perform an independent t-test to compare their means.\n"
      ]
    },
    {
      "cell_type": "markdown",
      "metadata": {
        "id": "d34f7c7d"
      },
      "source": [
        "**Reasoning**:\n",
        "The subtask requires generating sample data for two classes and performing an independent t-test. This can be done in a single code block by generating the lists, performing the t-test, and printing the results with a conclusion based on the p-value.\n",
        "\n"
      ]
    },
    {
      "cell_type": "code",
      "metadata": {
        "colab": {
          "base_uri": "https://localhost:8080/"
        },
        "id": "800984ea",
        "outputId": "7d6acba3-fc45-4269-c49b-4d7decc306b6"
      },
      "source": [
        "import numpy as np\n",
        "from scipy import stats\n",
        "\n",
        "# 1. & 2. Generate sample data for exam scores of two classes\n",
        "np.random.seed(42) # for reproducibility\n",
        "class_a_scores = np.random.normal(loc=85, scale=5, size=15) # Mean 85, Std Dev 5, 15 scores\n",
        "class_b_scores = np.random.normal(loc=80, scale=6, size=15) # Mean 80, Std Dev 6, 15 scores\n",
        "\n",
        "# 3. Perform an independent t-test\n",
        "t_stat, p_value = stats.ttest_ind(class_a_scores, class_b_scores)\n",
        "\n",
        "# 4. Print the calculated t-statistic and p-value\n",
        "print(\"Independent t-test results:\")\n",
        "print(\"t-statistic:\", t_stat)\n",
        "print(\"p-value:\", p_value)\n",
        "\n",
        "# 5. Print a conclusion based on the p-value\n",
        "alpha = 0.05\n",
        "if p_value < alpha:\n",
        "    print(f\"With a p-value of {p_value:.4f} and alpha of {alpha}, we reject the null hypothesis.\")\n",
        "    print(\"Conclusion: The means of the two classes are statistically different.\")\n",
        "else:\n",
        "    print(f\"With a p-value of {p_value:.4f} and alpha of {alpha}, we fail to reject the null hypothesis.\")\n",
        "    print(\"Conclusion: The means of the two classes are not statistically different.\")"
      ],
      "execution_count": null,
      "outputs": [
        {
          "output_type": "stream",
          "name": "stdout",
          "text": [
            "Independent t-test results:\n",
            "t-statistic: 4.187125162923243\n",
            "p-value: 0.0002539379285855266\n",
            "With a p-value of 0.0003 and alpha of 0.05, we reject the null hypothesis.\n",
            "Conclusion: The means of the two classes are statistically different.\n"
          ]
        }
      ]
    },
    {
      "cell_type": "markdown",
      "metadata": {
        "id": "a8a64362"
      },
      "source": [
        "## Problem 2: paired t-test\n",
        "\n",
        "### Subtask:\n",
        "Generate sample data for blood pressure measurements before and after medication for the same group of people and perform a paired t-test.\n"
      ]
    },
    {
      "cell_type": "markdown",
      "metadata": {
        "id": "7f437d9f"
      },
      "source": [
        "**Reasoning**:\n",
        "Generate sample data for blood pressure measurements before and after medication and perform a paired t-test.\n",
        "\n"
      ]
    },
    {
      "cell_type": "code",
      "metadata": {
        "colab": {
          "base_uri": "https://localhost:8080/"
        },
        "id": "e7e71f47",
        "outputId": "efdeb62b-496c-4cf4-83cc-c65839fa6438"
      },
      "source": [
        "import numpy as np\n",
        "from scipy import stats\n",
        "\n",
        "# 2. Generate blood pressure measurements before medication\n",
        "np.random.seed(42) # for reproducibility\n",
        "before_medication = np.random.normal(loc=140, scale=10, size=12) # Mean 140, Std Dev 10, 12 measurements\n",
        "\n",
        "# 3. Generate blood pressure measurements after medication\n",
        "# Ensure 'after' measurements are generally lower\n",
        "after_medication = before_medication - np.random.uniform(low=5, high=15, size=12) # Subtract a random value between 5 and 15\n",
        "\n",
        "# 4. Perform a paired t-test\n",
        "t_stat, p_value = stats.ttest_rel(before_medication, after_medication)\n",
        "\n",
        "# 5. Print the calculated t-statistic and p-value\n",
        "print(\"Paired t-test results for blood pressure:\")\n",
        "print(\"t-statistic:\", t_stat)\n",
        "print(\"p-value:\", p_value)\n",
        "\n",
        "# 6. Print a conclusion based on the p-value\n",
        "alpha = 0.05\n",
        "if p_value < alpha:\n",
        "    print(f\"With a p-value of {p_value:.4f} and alpha of {alpha}, we reject the null hypothesis.\")\n",
        "    print(\"Conclusion: The medication had a statistically significant effect on blood pressure.\")\n",
        "else:\n",
        "    print(f\"With a p-value of {p_value:.4f} and alpha of {alpha}, we fail to reject the null hypothesis.\")\n",
        "    print(\"Conclusion: The medication did not have a statistically significant effect on blood pressure.\")"
      ],
      "execution_count": null,
      "outputs": [
        {
          "output_type": "stream",
          "name": "stdout",
          "text": [
            "Paired t-test results for blood pressure:\n",
            "t-statistic: 17.262325467097682\n",
            "p-value: 2.5764052093288428e-09\n",
            "With a p-value of 0.0000 and alpha of 0.05, we reject the null hypothesis.\n",
            "Conclusion: The medication had a statistically significant effect on blood pressure.\n"
          ]
        }
      ]
    },
    {
      "cell_type": "markdown",
      "metadata": {
        "id": "494a148b"
      },
      "source": [
        "## Problem 3: chi-square test\n",
        "\n",
        "### Subtask:\n",
        "Generate sample data for favorite fruit preference across two age groups and perform a Chi-Square test to see if they are related.\n"
      ]
    },
    {
      "cell_type": "markdown",
      "metadata": {
        "id": "bbf4a935"
      },
      "source": [
        "**Reasoning**:\n",
        "Generate sample data for fruit preference across two age groups and perform a Chi-Square test.\n",
        "\n"
      ]
    },
    {
      "cell_type": "code",
      "metadata": {
        "colab": {
          "base_uri": "https://localhost:8080/",
          "height": 351
        },
        "id": "4df946f0",
        "outputId": "c58f6254-8d75-442b-9dba-a0a701052eca"
      },
      "source": [
        "import pandas as pd\n",
        "from scipy.stats import chi2_contingency\n",
        "\n",
        "# 2. Create a pandas DataFrame for observed frequencies\n",
        "data = pd.DataFrame({\n",
        "    'Apple': [50, 30],   # Age group 18-30, 31-60\n",
        "    'Banana': [40, 45],  # Age group 18-30, 31-60\n",
        "    'Orange': [30, 50]   # Age group 18-30, 31-60\n",
        "}, index=['18-30', '31-60'])\n",
        "\n",
        "print(\"Observed frequencies:\")\n",
        "display(data)\n",
        "\n",
        "# 3. Perform the Chi-Square test\n",
        "chi2, p, dof, expected = chi2_contingency(data)\n",
        "\n",
        "# 4. Print the results\n",
        "print(\"\\nChi-Square Test Results:\")\n",
        "print(\"Chi-square statistic:\", chi2)\n",
        "print(\"p-value:\", p)\n",
        "print(\"Degrees of freedom:\", dof)\n",
        "print(\"Expected frequencies:\\n\", expected)\n",
        "\n",
        "# 5. Print a conclusion\n",
        "alpha = 0.05\n",
        "print(\"\\nConclusion:\")\n",
        "if p < alpha:\n",
        "    print(f\"With a p-value of {p:.4f} and alpha of {alpha}, we reject the null hypothesis.\")\n",
        "    print(\"There is a significant relationship between age group and fruit preference.\")\n",
        "else:\n",
        "    print(f\"With a p-value of {p:.4f} and alpha of {alpha}, we fail to reject the null hypothesis.\")\n",
        "    print(\"There is no significant relationship between age group and fruit preference.\")"
      ],
      "execution_count": null,
      "outputs": [
        {
          "output_type": "stream",
          "name": "stdout",
          "text": [
            "Observed frequencies:\n"
          ]
        },
        {
          "output_type": "display_data",
          "data": {
            "text/plain": [
              "       Apple  Banana  Orange\n",
              "18-30     50      40      30\n",
              "31-60     30      45      50"
            ],
            "text/html": [
              "\n",
              "  <div id=\"df-a09270c1-3ea9-452c-9465-1aed2fdddd87\" class=\"colab-df-container\">\n",
              "    <div>\n",
              "<style scoped>\n",
              "    .dataframe tbody tr th:only-of-type {\n",
              "        vertical-align: middle;\n",
              "    }\n",
              "\n",
              "    .dataframe tbody tr th {\n",
              "        vertical-align: top;\n",
              "    }\n",
              "\n",
              "    .dataframe thead th {\n",
              "        text-align: right;\n",
              "    }\n",
              "</style>\n",
              "<table border=\"1\" class=\"dataframe\">\n",
              "  <thead>\n",
              "    <tr style=\"text-align: right;\">\n",
              "      <th></th>\n",
              "      <th>Apple</th>\n",
              "      <th>Banana</th>\n",
              "      <th>Orange</th>\n",
              "    </tr>\n",
              "  </thead>\n",
              "  <tbody>\n",
              "    <tr>\n",
              "      <th>18-30</th>\n",
              "      <td>50</td>\n",
              "      <td>40</td>\n",
              "      <td>30</td>\n",
              "    </tr>\n",
              "    <tr>\n",
              "      <th>31-60</th>\n",
              "      <td>30</td>\n",
              "      <td>45</td>\n",
              "      <td>50</td>\n",
              "    </tr>\n",
              "  </tbody>\n",
              "</table>\n",
              "</div>\n",
              "    <div class=\"colab-df-buttons\">\n",
              "\n",
              "  <div class=\"colab-df-container\">\n",
              "    <button class=\"colab-df-convert\" onclick=\"convertToInteractive('df-a09270c1-3ea9-452c-9465-1aed2fdddd87')\"\n",
              "            title=\"Convert this dataframe to an interactive table.\"\n",
              "            style=\"display:none;\">\n",
              "\n",
              "  <svg xmlns=\"http://www.w3.org/2000/svg\" height=\"24px\" viewBox=\"0 -960 960 960\">\n",
              "    <path d=\"M120-120v-720h720v720H120Zm60-500h600v-160H180v160Zm220 220h160v-160H400v160Zm0 220h160v-160H400v160ZM180-400h160v-160H180v160Zm440 0h160v-160H620v160ZM180-180h160v-160H180v160Zm440 0h160v-160H620v160Z\"/>\n",
              "  </svg>\n",
              "    </button>\n",
              "\n",
              "  <style>\n",
              "    .colab-df-container {\n",
              "      display:flex;\n",
              "      gap: 12px;\n",
              "    }\n",
              "\n",
              "    .colab-df-convert {\n",
              "      background-color: #E8F0FE;\n",
              "      border: none;\n",
              "      border-radius: 50%;\n",
              "      cursor: pointer;\n",
              "      display: none;\n",
              "      fill: #1967D2;\n",
              "      height: 32px;\n",
              "      padding: 0 0 0 0;\n",
              "      width: 32px;\n",
              "    }\n",
              "\n",
              "    .colab-df-convert:hover {\n",
              "      background-color: #E2EBFA;\n",
              "      box-shadow: 0px 1px 2px rgba(60, 64, 67, 0.3), 0px 1px 3px 1px rgba(60, 64, 67, 0.15);\n",
              "      fill: #174EA6;\n",
              "    }\n",
              "\n",
              "    .colab-df-buttons div {\n",
              "      margin-bottom: 4px;\n",
              "    }\n",
              "\n",
              "    [theme=dark] .colab-df-convert {\n",
              "      background-color: #3B4455;\n",
              "      fill: #D2E3FC;\n",
              "    }\n",
              "\n",
              "    [theme=dark] .colab-df-convert:hover {\n",
              "      background-color: #434B5C;\n",
              "      box-shadow: 0px 1px 3px 1px rgba(0, 0, 0, 0.15);\n",
              "      filter: drop-shadow(0px 1px 2px rgba(0, 0, 0, 0.3));\n",
              "      fill: #FFFFFF;\n",
              "    }\n",
              "  </style>\n",
              "\n",
              "    <script>\n",
              "      const buttonEl =\n",
              "        document.querySelector('#df-a09270c1-3ea9-452c-9465-1aed2fdddd87 button.colab-df-convert');\n",
              "      buttonEl.style.display =\n",
              "        google.colab.kernel.accessAllowed ? 'block' : 'none';\n",
              "\n",
              "      async function convertToInteractive(key) {\n",
              "        const element = document.querySelector('#df-a09270c1-3ea9-452c-9465-1aed2fdddd87');\n",
              "        const dataTable =\n",
              "          await google.colab.kernel.invokeFunction('convertToInteractive',\n",
              "                                                    [key], {});\n",
              "        if (!dataTable) return;\n",
              "\n",
              "        const docLinkHtml = 'Like what you see? Visit the ' +\n",
              "          '<a target=\"_blank\" href=https://colab.research.google.com/notebooks/data_table.ipynb>data table notebook</a>'\n",
              "          + ' to learn more about interactive tables.';\n",
              "        element.innerHTML = '';\n",
              "        dataTable['output_type'] = 'display_data';\n",
              "        await google.colab.output.renderOutput(dataTable, element);\n",
              "        const docLink = document.createElement('div');\n",
              "        docLink.innerHTML = docLinkHtml;\n",
              "        element.appendChild(docLink);\n",
              "      }\n",
              "    </script>\n",
              "  </div>\n",
              "\n",
              "\n",
              "    <div id=\"df-65a4c885-9f20-4ed2-bd9c-c3c7352150d5\">\n",
              "      <button class=\"colab-df-quickchart\" onclick=\"quickchart('df-65a4c885-9f20-4ed2-bd9c-c3c7352150d5')\"\n",
              "                title=\"Suggest charts\"\n",
              "                style=\"display:none;\">\n",
              "\n",
              "<svg xmlns=\"http://www.w3.org/2000/svg\" height=\"24px\"viewBox=\"0 0 24 24\"\n",
              "     width=\"24px\">\n",
              "    <g>\n",
              "        <path d=\"M19 3H5c-1.1 0-2 .9-2 2v14c0 1.1.9 2 2 2h14c1.1 0 2-.9 2-2V5c0-1.1-.9-2-2-2zM9 17H7v-7h2v7zm4 0h-2V7h2v10zm4 0h-2v-4h2v4z\"/>\n",
              "    </g>\n",
              "</svg>\n",
              "      </button>\n",
              "\n",
              "<style>\n",
              "  .colab-df-quickchart {\n",
              "      --bg-color: #E8F0FE;\n",
              "      --fill-color: #1967D2;\n",
              "      --hover-bg-color: #E2EBFA;\n",
              "      --hover-fill-color: #174EA6;\n",
              "      --disabled-fill-color: #AAA;\n",
              "      --disabled-bg-color: #DDD;\n",
              "  }\n",
              "\n",
              "  [theme=dark] .colab-df-quickchart {\n",
              "      --bg-color: #3B4455;\n",
              "      --fill-color: #D2E3FC;\n",
              "      --hover-bg-color: #434B5C;\n",
              "      --hover-fill-color: #FFFFFF;\n",
              "      --disabled-bg-color: #3B4455;\n",
              "      --disabled-fill-color: #666;\n",
              "  }\n",
              "\n",
              "  .colab-df-quickchart {\n",
              "    background-color: var(--bg-color);\n",
              "    border: none;\n",
              "    border-radius: 50%;\n",
              "    cursor: pointer;\n",
              "    display: none;\n",
              "    fill: var(--fill-color);\n",
              "    height: 32px;\n",
              "    padding: 0;\n",
              "    width: 32px;\n",
              "  }\n",
              "\n",
              "  .colab-df-quickchart:hover {\n",
              "    background-color: var(--hover-bg-color);\n",
              "    box-shadow: 0 1px 2px rgba(60, 64, 67, 0.3), 0 1px 3px 1px rgba(60, 64, 67, 0.15);\n",
              "    fill: var(--button-hover-fill-color);\n",
              "  }\n",
              "\n",
              "  .colab-df-quickchart-complete:disabled,\n",
              "  .colab-df-quickchart-complete:disabled:hover {\n",
              "    background-color: var(--disabled-bg-color);\n",
              "    fill: var(--disabled-fill-color);\n",
              "    box-shadow: none;\n",
              "  }\n",
              "\n",
              "  .colab-df-spinner {\n",
              "    border: 2px solid var(--fill-color);\n",
              "    border-color: transparent;\n",
              "    border-bottom-color: var(--fill-color);\n",
              "    animation:\n",
              "      spin 1s steps(1) infinite;\n",
              "  }\n",
              "\n",
              "  @keyframes spin {\n",
              "    0% {\n",
              "      border-color: transparent;\n",
              "      border-bottom-color: var(--fill-color);\n",
              "      border-left-color: var(--fill-color);\n",
              "    }\n",
              "    20% {\n",
              "      border-color: transparent;\n",
              "      border-left-color: var(--fill-color);\n",
              "      border-top-color: var(--fill-color);\n",
              "    }\n",
              "    30% {\n",
              "      border-color: transparent;\n",
              "      border-left-color: var(--fill-color);\n",
              "      border-top-color: var(--fill-color);\n",
              "      border-right-color: var(--fill-color);\n",
              "    }\n",
              "    40% {\n",
              "      border-color: transparent;\n",
              "      border-right-color: var(--fill-color);\n",
              "      border-top-color: var(--fill-color);\n",
              "    }\n",
              "    60% {\n",
              "      border-color: transparent;\n",
              "      border-right-color: var(--fill-color);\n",
              "    }\n",
              "    80% {\n",
              "      border-color: transparent;\n",
              "      border-right-color: var(--fill-color);\n",
              "      border-bottom-color: var(--fill-color);\n",
              "    }\n",
              "    90% {\n",
              "      border-color: transparent;\n",
              "      border-bottom-color: var(--fill-color);\n",
              "    }\n",
              "  }\n",
              "</style>\n",
              "\n",
              "      <script>\n",
              "        async function quickchart(key) {\n",
              "          const quickchartButtonEl =\n",
              "            document.querySelector('#' + key + ' button');\n",
              "          quickchartButtonEl.disabled = true;  // To prevent multiple clicks.\n",
              "          quickchartButtonEl.classList.add('colab-df-spinner');\n",
              "          try {\n",
              "            const charts = await google.colab.kernel.invokeFunction(\n",
              "                'suggestCharts', [key], {});\n",
              "          } catch (error) {\n",
              "            console.error('Error during call to suggestCharts:', error);\n",
              "          }\n",
              "          quickchartButtonEl.classList.remove('colab-df-spinner');\n",
              "          quickchartButtonEl.classList.add('colab-df-quickchart-complete');\n",
              "        }\n",
              "        (() => {\n",
              "          let quickchartButtonEl =\n",
              "            document.querySelector('#df-65a4c885-9f20-4ed2-bd9c-c3c7352150d5 button');\n",
              "          quickchartButtonEl.style.display =\n",
              "            google.colab.kernel.accessAllowed ? 'block' : 'none';\n",
              "        })();\n",
              "      </script>\n",
              "    </div>\n",
              "\n",
              "  <div id=\"id_cdce9153-1f2f-4a63-985b-8225417cc89b\">\n",
              "    <style>\n",
              "      .colab-df-generate {\n",
              "        background-color: #E8F0FE;\n",
              "        border: none;\n",
              "        border-radius: 50%;\n",
              "        cursor: pointer;\n",
              "        display: none;\n",
              "        fill: #1967D2;\n",
              "        height: 32px;\n",
              "        padding: 0 0 0 0;\n",
              "        width: 32px;\n",
              "      }\n",
              "\n",
              "      .colab-df-generate:hover {\n",
              "        background-color: #E2EBFA;\n",
              "        box-shadow: 0px 1px 2px rgba(60, 64, 67, 0.3), 0px 1px 3px 1px rgba(60, 64, 67, 0.15);\n",
              "        fill: #174EA6;\n",
              "      }\n",
              "\n",
              "      [theme=dark] .colab-df-generate {\n",
              "        background-color: #3B4455;\n",
              "        fill: #D2E3FC;\n",
              "      }\n",
              "\n",
              "      [theme=dark] .colab-df-generate:hover {\n",
              "        background-color: #434B5C;\n",
              "        box-shadow: 0px 1px 3px 1px rgba(0, 0, 0, 0.15);\n",
              "        filter: drop-shadow(0px 1px 2px rgba(0, 0, 0, 0.3));\n",
              "        fill: #FFFFFF;\n",
              "      }\n",
              "    </style>\n",
              "    <button class=\"colab-df-generate\" onclick=\"generateWithVariable('data')\"\n",
              "            title=\"Generate code using this dataframe.\"\n",
              "            style=\"display:none;\">\n",
              "\n",
              "  <svg xmlns=\"http://www.w3.org/2000/svg\" height=\"24px\"viewBox=\"0 0 24 24\"\n",
              "       width=\"24px\">\n",
              "    <path d=\"M7,19H8.4L18.45,9,17,7.55,7,17.6ZM5,21V16.75L18.45,3.32a2,2,0,0,1,2.83,0l1.4,1.43a1.91,1.91,0,0,1,.58,1.4,1.91,1.91,0,0,1-.58,1.4L9.25,21ZM18.45,9,17,7.55Zm-12,3A5.31,5.31,0,0,0,4.9,8.1,5.31,5.31,0,0,0,1,6.5,5.31,5.31,0,0,0,4.9,4.9,5.31,5.31,0,0,0,6.5,1,5.31,5.31,0,0,0,8.1,4.9,5.31,5.31,0,0,0,12,6.5,5.46,5.46,0,0,0,6.5,12Z\"/>\n",
              "  </svg>\n",
              "    </button>\n",
              "    <script>\n",
              "      (() => {\n",
              "      const buttonEl =\n",
              "        document.querySelector('#id_cdce9153-1f2f-4a63-985b-8225417cc89b button.colab-df-generate');\n",
              "      buttonEl.style.display =\n",
              "        google.colab.kernel.accessAllowed ? 'block' : 'none';\n",
              "\n",
              "      buttonEl.onclick = () => {\n",
              "        google.colab.notebook.generateWithVariable('data');\n",
              "      }\n",
              "      })();\n",
              "    </script>\n",
              "  </div>\n",
              "\n",
              "    </div>\n",
              "  </div>\n"
            ],
            "application/vnd.google.colaboratory.intrinsic+json": {
              "type": "dataframe",
              "variable_name": "data",
              "summary": "{\n  \"name\": \"data\",\n  \"rows\": 2,\n  \"fields\": [\n    {\n      \"column\": \"Apple\",\n      \"properties\": {\n        \"dtype\": \"number\",\n        \"std\": 14,\n        \"min\": 30,\n        \"max\": 50,\n        \"num_unique_values\": 2,\n        \"samples\": [\n          30,\n          50\n        ],\n        \"semantic_type\": \"\",\n        \"description\": \"\"\n      }\n    },\n    {\n      \"column\": \"Banana\",\n      \"properties\": {\n        \"dtype\": \"number\",\n        \"std\": 3,\n        \"min\": 40,\n        \"max\": 45,\n        \"num_unique_values\": 2,\n        \"samples\": [\n          45,\n          40\n        ],\n        \"semantic_type\": \"\",\n        \"description\": \"\"\n      }\n    },\n    {\n      \"column\": \"Orange\",\n      \"properties\": {\n        \"dtype\": \"number\",\n        \"std\": 14,\n        \"min\": 30,\n        \"max\": 50,\n        \"num_unique_values\": 2,\n        \"samples\": [\n          50,\n          30\n        ],\n        \"semantic_type\": \"\",\n        \"description\": \"\"\n      }\n    }\n  ]\n}"
            }
          },
          "metadata": {}
        },
        {
          "output_type": "stream",
          "name": "stdout",
          "text": [
            "\n",
            "Chi-Square Test Results:\n",
            "Chi-square statistic: 10.196323529411764\n",
            "p-value: 0.006107964127331901\n",
            "Degrees of freedom: 2\n",
            "Expected frequencies:\n",
            " [[39.18367347 41.63265306 39.18367347]\n",
            " [40.81632653 43.36734694 40.81632653]]\n",
            "\n",
            "Conclusion:\n",
            "With a p-value of 0.0061 and alpha of 0.05, we reject the null hypothesis.\n",
            "There is a significant relationship between age group and fruit preference.\n"
          ]
        }
      ]
    },
    {
      "cell_type": "markdown",
      "metadata": {
        "id": "7369d762"
      },
      "source": [
        "## Summary:\n",
        "\n",
        "### Data Analysis Key Findings\n",
        "\n",
        "*   For the independent t-test comparing exam scores of two classes, the p-value (0.0003) was less than the significance level of 0.05, leading to the rejection of the null hypothesis and the conclusion that the means of the two classes are statistically different.\n",
        "*   The paired t-test on blood pressure measurements before and after medication resulted in a p-value (approximately 2.58e-09) significantly less than 0.05, indicating a statistically significant effect of the medication on blood pressure.\n",
        "*   The Chi-Square test examining the relationship between age group and fruit preference yielded a p-value (0.0061) less than 0.05, leading to the rejection of the null hypothesis and the conclusion that there is a significant relationship between age group and fruit preference.\n",
        "\n",
        "### Insights or Next Steps\n",
        "\n",
        "*   The practice problems demonstrate how to apply different statistical tests (independent t-test, paired t-test, Chi-Square test) to analyze different types of data and draw conclusions based on p-values.\n",
        "*   The next steps could involve applying these tests to real-world datasets to analyze actual differences in means or relationships between categorical variables.\n"
      ]
    }
  ]
}
