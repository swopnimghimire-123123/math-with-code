{
  "nbformat": 4,
  "nbformat_minor": 0,
  "metadata": {
    "colab": {
      "provenance": [],
      "authorship_tag": "ABX9TyN5yGvIxgUW6pUCoyFWzuIY",
      "include_colab_link": true
    },
    "kernelspec": {
      "name": "python3",
      "display_name": "Python 3"
    },
    "language_info": {
      "name": "python"
    }
  },
  "cells": [
    {
      "cell_type": "markdown",
      "metadata": {
        "id": "view-in-github",
        "colab_type": "text"
      },
      "source": [
        "<a href=\"https://colab.research.google.com/github/swopnimghimire-123123/Maths_For_ML/blob/main/04_Probability_Basics.ipynb\" target=\"_parent\"><img src=\"https://colab.research.google.com/assets/colab-badge.svg\" alt=\"Open In Colab\"/></a>"
      ]
    },
    {
      "cell_type": "markdown",
      "source": [
        "# Colab 4: Probability Basics\n",
        "\n",
        "\n",
        "---\n",
        "\n",
        "\n",
        "### `Learning Goals`\n",
        "\n",
        "- Understand random experiments, sample space, events\n",
        "\n",
        "- Learn about classical definition of probability\n",
        "\n",
        "- Compute probability using Python (random simulations)\n",
        "\n",
        "- Visualize outcomes with histograms"
      ],
      "metadata": {
        "id": "XckC_wgdYWtH"
      }
    },
    {
      "cell_type": "markdown",
      "source": [
        "### 1. Random Experiment & Sample Space\n",
        "\n",
        "A random experiment is any process with uncertain outcomes.\n",
        "\n",
        "- Tossing a coin → Sample Space = {H, T}\n",
        "\n",
        "- Rolling a die → Sample Space = {1, 2, 3, 4, 5, 6}"
      ],
      "metadata": {
        "id": "stGoHizGcQ-W"
      }
    },
    {
      "cell_type": "code",
      "execution_count": null,
      "metadata": {
        "colab": {
          "base_uri": "https://localhost:8080/"
        },
        "id": "xVUl93goYE4F",
        "outputId": "8283a3f7-1c15-49c8-8d46-de3a5aabd484"
      },
      "outputs": [
        {
          "output_type": "execute_result",
          "data": {
            "text/plain": [
              "['T', 'H', 'T', 'H', 'H', 'T', 'H', 'H', 'H', 'T']"
            ]
          },
          "metadata": {},
          "execution_count": 1
        }
      ],
      "source": [
        "# Example: Tossing a coin\n",
        "import random\n",
        "\n",
        "outcomes = [\"H\", \"T\"]\n",
        "experiment = [random.choice(outcomes) for _ in range(10)]\n",
        "experiment"
      ]
    },
    {
      "cell_type": "markdown",
      "metadata": {
        "id": "7b00c049"
      },
      "source": [
        "### 2. Classical Probability Formula\n",
        "\n",
        "$P(E) = \\frac{\\text{Number of favorable outcomes}}{\\text{Total outcomes}}$\n",
        "\n",
        "Example: Probability of rolling a 4 on a fair die = $\\frac{1}{6}$."
      ]
    },
    {
      "cell_type": "code",
      "metadata": {
        "colab": {
          "base_uri": "https://localhost:8080/"
        },
        "id": "bce89608",
        "outputId": "72dd546c-7a4d-4551-dc8e-e716453f1cab"
      },
      "source": [
        "# Probability of rolling a 4\n",
        "total_outcomes = 6\n",
        "favorable_outcomes = 1\n",
        "prob = favorable_outcomes / total_outcomes\n",
        "print(prob)"
      ],
      "execution_count": null,
      "outputs": [
        {
          "output_type": "stream",
          "name": "stdout",
          "text": [
            "0.16666666666666666\n"
          ]
        }
      ]
    },
    {
      "cell_type": "markdown",
      "metadata": {
        "id": "d2f09849"
      },
      "source": [
        "### 3. Probability via Simulation (Monte Carlo)\n",
        "\n",
        "Instead of formulas, we can estimate probability by repeating random trials.\n",
        "\n",
        "Example: Probability of getting heads in a coin toss."
      ]
    },
    {
      "cell_type": "code",
      "metadata": {
        "colab": {
          "base_uri": "https://localhost:8080/"
        },
        "id": "fcd8062b",
        "outputId": "0ef0a1da-ee77-4fec-e9e5-11709e049862"
      },
      "source": [
        "import numpy as np\n",
        "\n",
        "# Simulate 10000 coin tosses\n",
        "tosses = np.random.choice([\"H\", \"T\"], size=1000)\n",
        "prob_heads = np.mean(tosses == \"H\")\n",
        "print(\"probability of heads is:\",prob_heads)\n",
        "prob_tails = np.mean(tosses == \"T\")\n",
        "print(\"probability of tails is:\",prob_tails)"
      ],
      "execution_count": null,
      "outputs": [
        {
          "output_type": "stream",
          "name": "stdout",
          "text": [
            "probability of heads is: 0.497\n",
            "probability of tails is: 0.503\n"
          ]
        }
      ]
    },
    {
      "cell_type": "markdown",
      "metadata": {
        "id": "0966874c"
      },
      "source": [
        "### 4. Visualizing Outcomes"
      ]
    },
    {
      "cell_type": "code",
      "metadata": {
        "colab": {
          "base_uri": "https://localhost:8080/",
          "height": 472
        },
        "id": "3a3566db",
        "outputId": "21c07420-67b5-4e5a-da43-da3a65810a6a"
      },
      "source": [
        "import matplotlib.pyplot as plt\n",
        "\n",
        "plt.hist(tosses, bins=2, edgecolor=\"black\")\n",
        "plt.title(\"Coin Toss Outcomes\")\n",
        "plt.xlabel(\"Outcome\")\n",
        "plt.ylabel(\"Frequency\")\n",
        "plt.show()"
      ],
      "execution_count": null,
      "outputs": [
        {
          "output_type": "display_data",
          "data": {
            "text/plain": [
              "<Figure size 640x480 with 1 Axes>"
            ],
            "image/png": "[encoded data removed]"
          },
          "metadata": {}
        }
      ]
    },
    {
      "cell_type": "markdown",
      "metadata": {
        "id": "1d1655bd"
      },
      "source": [
        "### 5. Union, Intersection & Complement\n",
        "\n",
        "- **Union ($A \\cup B$)**: Outcomes in A or B or both.\n",
        "$P(A \\cup B) = P(A) + P(B) - P(A \\cap B)$\n",
        "\n",
        "- **Intersection ($A \\cap B$)**: Outcomes in both A and B.\n",
        "\n",
        "- **Complement ($A^c$)**: Outcomes not in A.\n",
        "$P(A^c) = 1 - P(A)$"
      ]
    },
    {
      "cell_type": "markdown",
      "metadata": {
        "id": "193223f7"
      },
      "source": [
        "Example: Rolling a die\n",
        "\n",
        "Event A = even number {2, 4, 6}\n",
        "\n",
        "Event B = number > 3 {4, 5, 6}"
      ]
    },
    {
      "cell_type": "code",
      "metadata": {
        "colab": {
          "base_uri": "https://localhost:8080/"
        },
        "id": "989f61b7",
        "outputId": "7a547f4c-11d9-4ea0-f973-1704da10aa32"
      },
      "source": [
        "import numpy as np\n",
        "\n",
        "die = np.arange(1, 7)\n",
        "\n",
        "A = {2,4,6}\n",
        "B = {4,5,6}\n",
        "\n",
        "# Probabilities\n",
        "P_A = len(A)/len(die)\n",
        "P_B = len(B)/len(die)\n",
        "P_intersection = len(A & B)/len(die)\n",
        "P_union = P_A + P_B - P_intersection\n",
        "\n",
        "P_A, P_B, P_intersection, P_union"
      ],
      "execution_count": null,
      "outputs": [
        {
          "output_type": "execute_result",
          "data": {
            "text/plain": [
              "(0.5, 0.5, 0.3333333333333333, 0.6666666666666667)"
            ]
          },
          "metadata": {},
          "execution_count": 21
        }
      ]
    }
  ]
}
