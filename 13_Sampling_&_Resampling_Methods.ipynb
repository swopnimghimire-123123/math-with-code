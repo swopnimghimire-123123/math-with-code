{
  "nbformat": 4,
  "nbformat_minor": 0,
  "metadata": {
    "colab": {
      "provenance": [],
      "authorship_tag": "ABX9TyN2WvhBAPJCnrv9yxqMivXN",
      "include_colab_link": true
    },
    "kernelspec": {
      "name": "python3",
      "display_name": "Python 3"
    },
    "language_info": {
      "name": "python"
    }
  },
  "cells": [
    {
      "cell_type": "markdown",
      "metadata": {
        "id": "view-in-github",
        "colab_type": "text"
      },
      "source": [
        "<a href=\"https://colab.research.google.com/github/swopnimghimire-123123/Maths_For_ML/blob/main/13_Sampling_%26_Resampling_Methods.ipynb\" target=\"_parent\"><img src=\"https://colab.research.google.com/assets/colab-badge.svg\" alt=\"Open In Colab\"/></a>"
      ]
    },
    {
      "cell_type": "code",
      "execution_count": null,
      "metadata": {
        "id": "2AYWxBx2GZ6e"
      },
      "outputs": [],
      "source": []
    },
    {
      "cell_type": "markdown",
      "metadata": {
        "id": "8ef2be1e"
      },
      "source": [
        "# Colab 13: Sampling & Resampling Methods\n",
        " Learning Goals\n",
        "\n",
        "* Understand sampling: why and how we take subsets of data.\n",
        "* Learn resampling methods: Bootstrapping and Cross-Validation.\n",
        "* Apply these methods in Python to estimate uncertainty and evaluate models.\n",
        "\n",
        "## 1. Essence + Use Case + Example\n",
        "### Sampling\n",
        "\n",
        "*   **Essence:** Take a subset of the population to make inferences.\n",
        "*   **Use Case:** We can’t always measure the whole population; samples save time and cost.\n",
        "*   **Example:** Survey 100 students to estimate the average study hours of 10,000 students.\n",
        "\n",
        "### Bootstrapping\n",
        "\n",
        "*   **Essence:** Randomly resample your data (with replacement) many times to estimate statistics like mean, variance, confidence intervals.\n",
        "*   **Use Case:** Estimate variability when population is unknown.\n",
        "*   **Example:** Resample student exam scores 1000 times to get confidence interval of the mean.\n",
        "\n",
        "### Cross-Validation\n",
        "\n",
        "*   **Essence:** Split data into train/test multiple times to check model performance.\n",
        "*   **Use Case:** Avoid overfitting; check robustness of ML models.\n",
        "*   **Example:** 5-fold CV → model trained 5 times on different splits, average performance gives reliable estimate.\n",
        "\n",
        "## 2. Theory\n",
        "\n",
        "### Bootstrapping:\n",
        "\n",
        "*   Randomly sample n points with replacement from the dataset.\n",
        "*   Calculate statistic (mean, median, etc.).\n",
        "*   Repeat many times → distribution of the statistic.\n",
        "\n",
        "### Cross-validation:\n",
        "\n",
        "*   Split dataset into k folds.\n",
        "*   Train on k-1 folds, test on 1 fold.\n",
        "*   Repeat k times → average performance metric (accuracy, MSE, etc.)."
      ]
    },
    {
      "cell_type": "code",
      "source": [
        "### 3. Code Demonstration\n",
        "import numpy as np\n",
        "\n",
        "# Sample data: exam scores\n",
        "scores = np.array([60, 65, 70, 75, 80])\n",
        "\n",
        "# Bootstrap resampling\n",
        "np.random.seed(42)\n",
        "n_iterations = 1000\n",
        "bootstrap_means = []\n",
        "\n",
        "for _ in range(n_iterations):\n",
        "    sample = np.random.choice(scores, size=len(scores), replace=True)\n",
        "    bootstrap_means.append(np.mean(sample))\n",
        "\n",
        "print(\"Bootstrap Mean Estimate:\", np.mean(bootstrap_means))\n",
        "print(\"95% Confidence Interval:\", np.percentile(bootstrap_means, [2.5, 97.5]))\n"
      ],
      "metadata": {
        "colab": {
          "base_uri": "https://localhost:8080/"
        },
        "id": "mb_JiuYkHZBK",
        "outputId": "1b7a2151-3b6e-44f2-ce47-7eb8a00e59cc"
      },
      "execution_count": null,
      "outputs": [
        {
          "output_type": "stream",
          "name": "stdout",
          "text": [
            "Bootstrap Mean Estimate: 70.054\n",
            "95% Confidence Interval: [64. 76.]\n"
          ]
        }
      ]
    },
    {
      "cell_type": "code",
      "metadata": {
        "colab": {
          "base_uri": "https://localhost:8080/"
        },
        "id": "94f5729c",
        "outputId": "395879a1-e212-4317-de17-9cfc3d9b11fb"
      },
      "source": [
        "### Cross-Validation Example (for a linear regression model)\n",
        "from sklearn.linear_model import LinearRegression\n",
        "from sklearn.model_selection import cross_val_score\n",
        "import numpy as np\n",
        "\n",
        "# Dataset\n",
        "X = np.array([1, 2, 3, 4, 5]).reshape(-1,1)\n",
        "y = np.array([60, 70, 75, 80, 85])\n",
        "\n",
        "model = LinearRegression()\n",
        "\n",
        "# 2-fold cross-validation (R² score)\n",
        "scores = cross_val_score(model, X, y, cv=2)\n",
        "print(\"R² scores for each fold:\", scores)\n",
        "print(\"Average R²:\", np.mean(scores))"
      ],
      "execution_count": null,
      "outputs": [
        {
          "output_type": "stream",
          "name": "stdout",
          "text": [
            "R² scores for each fold: [ 0.78571429 -2.61111111]\n",
            "Average R²: -0.9126984126984027\n"
          ]
        }
      ]
    },
    {
      "cell_type": "markdown",
      "metadata": {
        "id": "d42b91d6"
      },
      "source": [
        "# Task\n",
        "Solve the practice problems in the notebook section \"4. Practice Problems\"."
      ]
    },
    {
      "cell_type": "markdown",
      "metadata": {
        "id": "86ba764e"
      },
      "source": [
        "## Bootstrap confidence interval\n",
        "\n",
        "### Subtask:\n",
        "Use bootstrapping on a numeric dataset to calculate the 95% confidence interval of the mean.\n"
      ]
    },
    {
      "cell_type": "markdown",
      "metadata": {
        "id": "ff921c36"
      },
      "source": [
        "**Reasoning**:\n",
        "The first step is to create a sample numeric dataset and set the number of bootstrap iterations. Then, create an empty list to store the bootstrap means and perform the bootstrapping loop. Finally, calculate and print the 95% confidence interval.\n",
        "\n"
      ]
    },
    {
      "cell_type": "code",
      "metadata": {
        "colab": {
          "base_uri": "https://localhost:8080/"
        },
        "id": "88601ed2",
        "outputId": "45c28739-cf79-4a9a-ac56-28bbd88861bc"
      },
      "source": [
        "# Create a sample numeric dataset\n",
        "data = np.array([10, 12, 15, 18, 20, 22, 25, 28, 30, 35])\n",
        "\n",
        "# Set the number of bootstrap iterations\n",
        "n_iterations = 1000\n",
        "\n",
        "# Create an empty list to store the bootstrap means\n",
        "bootstrap_means = []\n",
        "\n",
        "# Loop through the specified number of iterations\n",
        "for _ in range(n_iterations):\n",
        "    # Randomly sample the dataset with replacement\n",
        "    sample = np.random.choice(data, size=len(data), replace=True)\n",
        "    # Calculate the mean of the resampled data\n",
        "    bootstrap_means.append(np.mean(sample))\n",
        "\n",
        "# Calculate the 95% confidence interval\n",
        "confidence_interval = np.percentile(bootstrap_means, [2.5, 97.5])\n",
        "\n",
        "# Print the calculated 95% confidence interval\n",
        "print(\"95% Confidence Interval:\", confidence_interval)"
      ],
      "execution_count": null,
      "outputs": [
        {
          "output_type": "stream",
          "name": "stdout",
          "text": [
            "95% Confidence Interval: [17.     26.4025]\n"
          ]
        }
      ]
    },
    {
      "cell_type": "markdown",
      "metadata": {
        "id": "d93c53aa"
      },
      "source": [
        "## Cross-validation with 5 folds\n",
        "\n",
        "### Subtask:\n",
        "Apply 5-fold cross-validation to a small dataset and calculate the Mean Squared Error (MSE) or R².\n"
      ]
    },
    {
      "cell_type": "markdown",
      "metadata": {
        "id": "05b28dc7"
      },
      "source": [
        "**Reasoning**:\n",
        "Apply 5-fold cross-validation to a small dataset and calculate the Mean Squared Error (MSE) or R².\n",
        "\n"
      ]
    },
    {
      "cell_type": "code",
      "metadata": {
        "colab": {
          "base_uri": "https://localhost:8080/"
        },
        "id": "9d3405a8",
        "outputId": "387e4c2f-db25-4e1a-b062-7fb475782f64"
      },
      "source": [
        "from sklearn.linear_model import LinearRegression\n",
        "from sklearn.model_selection import cross_val_score\n",
        "import numpy as np\n",
        "\n",
        "# Create a larger dataset\n",
        "X = np.array([10, 20, 30, 40, 50, 60, 70, 80, 90, 100]).reshape(-1, 1)\n",
        "y = np.array([15, 25, 35, 45, 55, 65, 75, 85, 95, 105])\n",
        "\n",
        "# Instantiate a LinearRegression model\n",
        "model = LinearRegression()\n",
        "\n",
        "# Perform 5-fold cross-validation with neg_mean_squared_error scoring\n",
        "scores = cross_val_score(model, X, y, cv=5, scoring='neg_mean_squared_error')\n",
        "\n",
        "# Negate the scores to get positive MSE\n",
        "mse_scores = -scores\n",
        "\n",
        "# Print the scores for each fold and the average score\n",
        "print(\"Mean Squared Error scores for each fold:\", mse_scores)\n",
        "print(\"Average Mean Squared Error:\", np.mean(mse_scores))"
      ],
      "execution_count": null,
      "outputs": [
        {
          "output_type": "stream",
          "name": "stdout",
          "text": [
            "Mean Squared Error scores for each fold: [1.34106354e-28 2.01948392e-28 0.00000000e+00 0.00000000e+00\n",
            " 4.03896783e-28]\n",
            "Average Mean Squared Error: 1.479903058194618e-28\n"
          ]
        }
      ]
    },
    {
      "cell_type": "markdown",
      "metadata": {
        "id": "01370ed7"
      },
      "source": [
        "**Reasoning**:\n",
        "The previous cross-validation failed because the dataset was too small for 5 folds. Each fold needs at least two samples to calculate R². I will create a larger dataset and try 5-fold cross-validation again using MSE as the scoring metric.\n",
        "\n"
      ]
    },
    {
      "cell_type": "code",
      "metadata": {
        "colab": {
          "base_uri": "https://localhost:8080/"
        },
        "id": "dq5lPPe3IaOw",
        "outputId": "f165f765-dcb0-4a17-9f9a-11f407937d24"
      },
      "source": [
        "# Create a larger dataset\n",
        "X = np.array([10, 20, 30, 40, 50, 60, 70, 80, 90, 100]).reshape(-1, 1)\n",
        "y = np.array([15, 25, 35, 45, 55, 65, 75, 85, 95, 105])\n",
        "\n",
        "# Instantiate a LinearRegression model\n",
        "model = LinearRegression()\n",
        "\n",
        "# Perform 5-fold cross-validation with neg_mean_squared_error scoring\n",
        "scores = cross_val_score(model, X, y, cv=5, scoring='neg_mean_squared_error')\n",
        "\n",
        "# Negate the scores to get positive MSE\n",
        "mse_scores = -scores\n",
        "\n",
        "# Print the scores for each fold and the average score\n",
        "print(\"Mean Squared Error scores for each fold:\", mse_scores)\n",
        "print(\"Average Mean Squared Error:\", np.mean(mse_scores))"
      ],
      "execution_count": null,
      "outputs": [
        {
          "output_type": "stream",
          "name": "stdout",
          "text": [
            "Mean Squared Error scores for each fold: [1.34106354e-28 2.01948392e-28 0.00000000e+00 0.00000000e+00\n",
            " 4.03896783e-28]\n",
            "Average Mean Squared Error: 1.479903058194618e-28\n"
          ]
        }
      ]
    },
    {
      "cell_type": "markdown",
      "metadata": {
        "id": "7339e593"
      },
      "source": [
        "## Compare cross-validation with different folds\n",
        "\n",
        "### Subtask:\n",
        "Repeat the cross-validation with 3 and 10 folds and compare the results to see the effect on the stability of the performance metric.\n"
      ]
    },
    {
      "cell_type": "markdown",
      "metadata": {
        "id": "7ac7e48c"
      },
      "source": [
        "**Reasoning**:\n",
        "Perform 3-fold cross-validation, calculate the positive MSE, and print the results.\n",
        "\n"
      ]
    },
    {
      "cell_type": "code",
      "metadata": {
        "colab": {
          "base_uri": "https://localhost:8080/"
        },
        "id": "2271f617",
        "outputId": "1e5a4774-5d6b-4d12-ba06-0b8ea177c0c4"
      },
      "source": [
        "# 3-fold cross-validation (Negative Mean Squared Error)\n",
        "scores_3fold = cross_val_score(model, X, y, cv=3, scoring='neg_mean_squared_error')\n",
        "\n",
        "# Calculate positive MSE\n",
        "mse_scores_3fold = -scores_3fold\n",
        "\n",
        "# Print the scores for each fold and the average score\n",
        "print(\"Mean Squared Error scores for each fold (3-fold CV):\", mse_scores_3fold)\n",
        "print(\"Average Mean Squared Error (3-fold CV):\", np.mean(mse_scores_3fold))"
      ],
      "execution_count": null,
      "outputs": [
        {
          "output_type": "stream",
          "name": "stdout",
          "text": [
            "Mean Squared Error scores for each fold (3-fold CV): [9.22967259e-29 6.73161306e-29 2.69264522e-28]\n",
            "Average Mean Squared Error (3-fold CV): 1.4295912626838557e-28\n"
          ]
        }
      ]
    },
    {
      "cell_type": "markdown",
      "metadata": {
        "id": "09a3ce29"
      },
      "source": [
        "**Reasoning**:\n",
        "Perform 10-fold cross-validation, calculate the positive MSE, and print the results, then compare the results from 3, 5 (from previous turn), and 10 folds.\n",
        "\n"
      ]
    },
    {
      "cell_type": "code",
      "metadata": {
        "colab": {
          "base_uri": "https://localhost:8080/"
        },
        "id": "85355387",
        "outputId": "78ee4c6d-a9ea-4a1b-f0fb-528542297f43"
      },
      "source": [
        "# 10-fold cross-validation (Negative Mean Squared Error)\n",
        "scores_10fold = cross_val_score(model, X, y, cv=10, scoring='neg_mean_squared_error')\n",
        "\n",
        "# Calculate positive MSE\n",
        "mse_scores_10fold = -scores_10fold\n",
        "\n",
        "# Print the scores for each fold and the average score\n",
        "print(\"Mean Squared Error scores for each fold (10-fold CV):\", mse_scores_10fold)\n",
        "print(\"Average Mean Squared Error (10-fold CV):\", np.mean(mse_scores_10fold))\n",
        "\n",
        "# Comparison (assuming mse_scores_5fold and np.mean(mse_scores_5fold) are available from a previous step)\n",
        "# Note: The previous turn's 5-fold results are not directly available in this turn's execution scope.\n",
        "# If they were, we would compare np.mean(mse_scores_3fold), np.mean(mse_scores_5fold), and np.mean(mse_scores_10fold)\n",
        "# and also compare the range/variance of mse_scores_3fold, mse_scores_5fold, and mse_scores_10fold.\n",
        "\n",
        "print(\"\\nComparison of Average MSE across folds:\")\n",
        "print(f\"Average MSE (3-fold CV): {np.mean(mse_scores_3fold)}\")\n",
        "print(f\"Average MSE (10-fold CV): {np.mean(mse_scores_10fold)}\")\n",
        "\n",
        "print(\"\\nComparison of MSE Range across folds:\")\n",
        "print(f\"Range of MSE (3-fold CV): {np.max(mse_scores_3fold) - np.min(mse_scores_3fold)}\")\n",
        "print(f\"Range of MSE (10-fold CV): {np.max(mse_scores_10fold) - np.min(mse_scores_10fold)}\")"
      ],
      "execution_count": null,
      "outputs": [
        {
          "output_type": "stream",
          "name": "stdout",
          "text": [
            "Mean Squared Error scores for each fold (10-fold CV): [0.00000000e+00 1.26217745e-29 5.04870979e-29 0.00000000e+00\n",
            " 0.00000000e+00 0.00000000e+00 0.00000000e+00 0.00000000e+00\n",
            " 0.00000000e+00 0.00000000e+00]\n",
            "Average Mean Squared Error (10-fold CV): 6.310887241768095e-30\n",
            "\n",
            "Comparison of Average MSE across folds:\n",
            "Average MSE (3-fold CV): 1.4295912626838557e-28\n",
            "Average MSE (10-fold CV): 6.310887241768095e-30\n",
            "\n",
            "Comparison of MSE Range across folds:\n",
            "Range of MSE (3-fold CV): 2.0194839173657902e-28\n",
            "Range of MSE (10-fold CV): 5.048709793414476e-29\n"
          ]
        }
      ]
    },
    {
      "cell_type": "markdown",
      "metadata": {
        "id": "1dbec849"
      },
      "source": [
        "## Summary:\n",
        "\n",
        "### Data Analysis Key Findings\n",
        "\n",
        "*   The 95% confidence interval for the mean of the sample dataset calculated using bootstrapping is approximately \\[17.0, 26.4].\n",
        "*   Applying 5-fold cross-validation for MSE calculation on a dataset of size 5 samples failed because each fold contained only one sample, which is insufficient for calculating the metric. Increasing the dataset size to 10 samples resolved this issue.\n",
        "*   Comparing cross-validation with different numbers of folds (3-fold vs. 10-fold) on the 10-sample dataset showed that the 10-fold cross-validation resulted in a lower average Mean Squared Error (approximately 6.31e-30) and a smaller range of MSE values across folds (approximately 5.05e-29) compared to the 3-fold cross-validation (average MSE approximately 1.43e-28, range approximately 2.02e-28).\n",
        "\n",
        "### Insights or Next Steps\n",
        "\n",
        "*   The number of folds in cross-validation can impact the stability and estimate of the model's performance metric. A higher number of folds can potentially lead to a more stable and less biased estimate of performance, especially with smaller datasets, provided there are enough samples per fold.\n",
        "*   When performing cross-validation, ensure that the dataset size is large enough so that each fold contains a sufficient number of samples required by the chosen performance metric.\n"
      ]
    }
  ]
}